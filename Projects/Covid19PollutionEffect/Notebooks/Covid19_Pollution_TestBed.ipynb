{
 "cells": [
  {
   "cell_type": "markdown",
   "metadata": {},
   "source": [
    "### Covid19 Effect on India Air Pollution\n",
    "\n",
    "Using the city_day.csv dataset from the following location: https://www.kaggle.com/rohanrao/air-quality-data-in-india\n",
    "This notebook is a test bed for the actual project"
   ]
  },
  {
   "cell_type": "code",
   "execution_count": 1,
   "metadata": {},
   "outputs": [],
   "source": [
    "# Import required libraries\n",
    "import pandas as pd\n",
    "import numpy as np\n",
    "import matplotlib.pyplot as plt\n",
    "import seaborn as sns\n",
    "\n",
    "%matplotlib inline\n",
    "\n",
    "import missingno as mns\n",
    "import warnings\n",
    "warnings.filterwarnings('ignore')"
   ]
  },
  {
   "cell_type": "code",
   "execution_count": 2,
   "metadata": {},
   "outputs": [
    {
     "data": {
      "text/html": [
       "<div>\n",
       "<style scoped>\n",
       "    .dataframe tbody tr th:only-of-type {\n",
       "        vertical-align: middle;\n",
       "    }\n",
       "\n",
       "    .dataframe tbody tr th {\n",
       "        vertical-align: top;\n",
       "    }\n",
       "\n",
       "    .dataframe thead th {\n",
       "        text-align: right;\n",
       "    }\n",
       "</style>\n",
       "<table border=\"1\" class=\"dataframe\">\n",
       "  <thead>\n",
       "    <tr style=\"text-align: right;\">\n",
       "      <th></th>\n",
       "      <th>City</th>\n",
       "      <th>Date</th>\n",
       "      <th>PM2.5</th>\n",
       "      <th>PM10</th>\n",
       "      <th>NO</th>\n",
       "      <th>NO2</th>\n",
       "      <th>NOx</th>\n",
       "      <th>NH3</th>\n",
       "      <th>CO</th>\n",
       "      <th>SO2</th>\n",
       "      <th>O3</th>\n",
       "      <th>Benzene</th>\n",
       "      <th>Toluene</th>\n",
       "      <th>Xylene</th>\n",
       "      <th>AQI</th>\n",
       "      <th>AQI_Bucket</th>\n",
       "    </tr>\n",
       "  </thead>\n",
       "  <tbody>\n",
       "    <tr>\n",
       "      <th>0</th>\n",
       "      <td>Ahmedabad</td>\n",
       "      <td>2015-01-01</td>\n",
       "      <td>NaN</td>\n",
       "      <td>NaN</td>\n",
       "      <td>0.92</td>\n",
       "      <td>18.22</td>\n",
       "      <td>17.15</td>\n",
       "      <td>NaN</td>\n",
       "      <td>0.92</td>\n",
       "      <td>27.64</td>\n",
       "      <td>133.36</td>\n",
       "      <td>0.00</td>\n",
       "      <td>0.02</td>\n",
       "      <td>0.00</td>\n",
       "      <td>NaN</td>\n",
       "      <td>NaN</td>\n",
       "    </tr>\n",
       "    <tr>\n",
       "      <th>1</th>\n",
       "      <td>Ahmedabad</td>\n",
       "      <td>2015-01-02</td>\n",
       "      <td>NaN</td>\n",
       "      <td>NaN</td>\n",
       "      <td>0.97</td>\n",
       "      <td>15.69</td>\n",
       "      <td>16.46</td>\n",
       "      <td>NaN</td>\n",
       "      <td>0.97</td>\n",
       "      <td>24.55</td>\n",
       "      <td>34.06</td>\n",
       "      <td>3.68</td>\n",
       "      <td>5.50</td>\n",
       "      <td>3.77</td>\n",
       "      <td>NaN</td>\n",
       "      <td>NaN</td>\n",
       "    </tr>\n",
       "    <tr>\n",
       "      <th>2</th>\n",
       "      <td>Ahmedabad</td>\n",
       "      <td>2015-01-03</td>\n",
       "      <td>NaN</td>\n",
       "      <td>NaN</td>\n",
       "      <td>17.40</td>\n",
       "      <td>19.30</td>\n",
       "      <td>29.70</td>\n",
       "      <td>NaN</td>\n",
       "      <td>17.40</td>\n",
       "      <td>29.07</td>\n",
       "      <td>30.70</td>\n",
       "      <td>6.80</td>\n",
       "      <td>16.40</td>\n",
       "      <td>2.25</td>\n",
       "      <td>NaN</td>\n",
       "      <td>NaN</td>\n",
       "    </tr>\n",
       "    <tr>\n",
       "      <th>3</th>\n",
       "      <td>Ahmedabad</td>\n",
       "      <td>2015-01-04</td>\n",
       "      <td>NaN</td>\n",
       "      <td>NaN</td>\n",
       "      <td>1.70</td>\n",
       "      <td>18.48</td>\n",
       "      <td>17.97</td>\n",
       "      <td>NaN</td>\n",
       "      <td>1.70</td>\n",
       "      <td>18.59</td>\n",
       "      <td>36.08</td>\n",
       "      <td>4.43</td>\n",
       "      <td>10.14</td>\n",
       "      <td>1.00</td>\n",
       "      <td>NaN</td>\n",
       "      <td>NaN</td>\n",
       "    </tr>\n",
       "    <tr>\n",
       "      <th>4</th>\n",
       "      <td>Ahmedabad</td>\n",
       "      <td>2015-01-05</td>\n",
       "      <td>NaN</td>\n",
       "      <td>NaN</td>\n",
       "      <td>22.10</td>\n",
       "      <td>21.42</td>\n",
       "      <td>37.76</td>\n",
       "      <td>NaN</td>\n",
       "      <td>22.10</td>\n",
       "      <td>39.33</td>\n",
       "      <td>39.31</td>\n",
       "      <td>7.01</td>\n",
       "      <td>18.89</td>\n",
       "      <td>2.78</td>\n",
       "      <td>NaN</td>\n",
       "      <td>NaN</td>\n",
       "    </tr>\n",
       "    <tr>\n",
       "      <th>5</th>\n",
       "      <td>Ahmedabad</td>\n",
       "      <td>2015-01-06</td>\n",
       "      <td>NaN</td>\n",
       "      <td>NaN</td>\n",
       "      <td>45.41</td>\n",
       "      <td>38.48</td>\n",
       "      <td>81.50</td>\n",
       "      <td>NaN</td>\n",
       "      <td>45.41</td>\n",
       "      <td>45.76</td>\n",
       "      <td>46.51</td>\n",
       "      <td>5.42</td>\n",
       "      <td>10.83</td>\n",
       "      <td>1.93</td>\n",
       "      <td>NaN</td>\n",
       "      <td>NaN</td>\n",
       "    </tr>\n",
       "    <tr>\n",
       "      <th>6</th>\n",
       "      <td>Ahmedabad</td>\n",
       "      <td>2015-01-07</td>\n",
       "      <td>NaN</td>\n",
       "      <td>NaN</td>\n",
       "      <td>112.16</td>\n",
       "      <td>40.62</td>\n",
       "      <td>130.77</td>\n",
       "      <td>NaN</td>\n",
       "      <td>112.16</td>\n",
       "      <td>32.28</td>\n",
       "      <td>33.47</td>\n",
       "      <td>0.00</td>\n",
       "      <td>0.00</td>\n",
       "      <td>0.00</td>\n",
       "      <td>NaN</td>\n",
       "      <td>NaN</td>\n",
       "    </tr>\n",
       "    <tr>\n",
       "      <th>7</th>\n",
       "      <td>Ahmedabad</td>\n",
       "      <td>2015-01-08</td>\n",
       "      <td>NaN</td>\n",
       "      <td>NaN</td>\n",
       "      <td>80.87</td>\n",
       "      <td>36.74</td>\n",
       "      <td>96.75</td>\n",
       "      <td>NaN</td>\n",
       "      <td>80.87</td>\n",
       "      <td>38.54</td>\n",
       "      <td>31.89</td>\n",
       "      <td>0.00</td>\n",
       "      <td>0.00</td>\n",
       "      <td>0.00</td>\n",
       "      <td>NaN</td>\n",
       "      <td>NaN</td>\n",
       "    </tr>\n",
       "    <tr>\n",
       "      <th>8</th>\n",
       "      <td>Ahmedabad</td>\n",
       "      <td>2015-01-09</td>\n",
       "      <td>NaN</td>\n",
       "      <td>NaN</td>\n",
       "      <td>29.16</td>\n",
       "      <td>31.00</td>\n",
       "      <td>48.00</td>\n",
       "      <td>NaN</td>\n",
       "      <td>29.16</td>\n",
       "      <td>58.68</td>\n",
       "      <td>25.75</td>\n",
       "      <td>0.00</td>\n",
       "      <td>0.00</td>\n",
       "      <td>0.00</td>\n",
       "      <td>NaN</td>\n",
       "      <td>NaN</td>\n",
       "    </tr>\n",
       "    <tr>\n",
       "      <th>9</th>\n",
       "      <td>Ahmedabad</td>\n",
       "      <td>2015-01-10</td>\n",
       "      <td>NaN</td>\n",
       "      <td>NaN</td>\n",
       "      <td>NaN</td>\n",
       "      <td>7.04</td>\n",
       "      <td>0.00</td>\n",
       "      <td>NaN</td>\n",
       "      <td>NaN</td>\n",
       "      <td>8.29</td>\n",
       "      <td>4.55</td>\n",
       "      <td>0.00</td>\n",
       "      <td>0.00</td>\n",
       "      <td>0.00</td>\n",
       "      <td>NaN</td>\n",
       "      <td>NaN</td>\n",
       "    </tr>\n",
       "  </tbody>\n",
       "</table>\n",
       "</div>"
      ],
      "text/plain": [
       "        City        Date  PM2.5  PM10      NO    NO2     NOx  NH3      CO  \\\n",
       "0  Ahmedabad  2015-01-01    NaN   NaN    0.92  18.22   17.15  NaN    0.92   \n",
       "1  Ahmedabad  2015-01-02    NaN   NaN    0.97  15.69   16.46  NaN    0.97   \n",
       "2  Ahmedabad  2015-01-03    NaN   NaN   17.40  19.30   29.70  NaN   17.40   \n",
       "3  Ahmedabad  2015-01-04    NaN   NaN    1.70  18.48   17.97  NaN    1.70   \n",
       "4  Ahmedabad  2015-01-05    NaN   NaN   22.10  21.42   37.76  NaN   22.10   \n",
       "5  Ahmedabad  2015-01-06    NaN   NaN   45.41  38.48   81.50  NaN   45.41   \n",
       "6  Ahmedabad  2015-01-07    NaN   NaN  112.16  40.62  130.77  NaN  112.16   \n",
       "7  Ahmedabad  2015-01-08    NaN   NaN   80.87  36.74   96.75  NaN   80.87   \n",
       "8  Ahmedabad  2015-01-09    NaN   NaN   29.16  31.00   48.00  NaN   29.16   \n",
       "9  Ahmedabad  2015-01-10    NaN   NaN     NaN   7.04    0.00  NaN     NaN   \n",
       "\n",
       "     SO2      O3  Benzene  Toluene  Xylene  AQI AQI_Bucket  \n",
       "0  27.64  133.36     0.00     0.02    0.00  NaN        NaN  \n",
       "1  24.55   34.06     3.68     5.50    3.77  NaN        NaN  \n",
       "2  29.07   30.70     6.80    16.40    2.25  NaN        NaN  \n",
       "3  18.59   36.08     4.43    10.14    1.00  NaN        NaN  \n",
       "4  39.33   39.31     7.01    18.89    2.78  NaN        NaN  \n",
       "5  45.76   46.51     5.42    10.83    1.93  NaN        NaN  \n",
       "6  32.28   33.47     0.00     0.00    0.00  NaN        NaN  \n",
       "7  38.54   31.89     0.00     0.00    0.00  NaN        NaN  \n",
       "8  58.68   25.75     0.00     0.00    0.00  NaN        NaN  \n",
       "9   8.29    4.55     0.00     0.00    0.00  NaN        NaN  "
      ]
     },
     "execution_count": 2,
     "metadata": {},
     "output_type": "execute_result"
    }
   ],
   "source": [
    "# Load the data\n",
    "city_day_df = pd.read_csv('../Data/city_day.csv')\n",
    "city_day_df.head(10)"
   ]
  },
  {
   "cell_type": "code",
   "execution_count": 3,
   "metadata": {},
   "outputs": [
    {
     "data": {
      "text/plain": [
       "'2015-01-01'"
      ]
     },
     "execution_count": 3,
     "metadata": {},
     "output_type": "execute_result"
    }
   ],
   "source": [
    "# Let's check the start and end dates for which the data has been provided\n",
    "start_date = city_day_df['Date'].min()\n",
    "start_date"
   ]
  },
  {
   "cell_type": "code",
   "execution_count": 4,
   "metadata": {},
   "outputs": [
    {
     "data": {
      "text/plain": [
       "'2020-07-01'"
      ]
     },
     "execution_count": 4,
     "metadata": {},
     "output_type": "execute_result"
    }
   ],
   "source": [
    "end_date = city_day_df['Date'].max()\n",
    "end_date"
   ]
  },
  {
   "cell_type": "code",
   "execution_count": 5,
   "metadata": {},
   "outputs": [
    {
     "data": {
      "text/plain": [
       "(29531, 16)"
      ]
     },
     "execution_count": 5,
     "metadata": {},
     "output_type": "execute_result"
    }
   ],
   "source": [
    "city_day_df.shape"
   ]
  },
  {
   "cell_type": "code",
   "execution_count": 6,
   "metadata": {},
   "outputs": [
    {
     "data": {
      "text/plain": [
       "4598"
      ]
     },
     "execution_count": 6,
     "metadata": {},
     "output_type": "execute_result"
    }
   ],
   "source": [
    "null_pm25 = city_day_df['PM2.5'].isnull().sum()\n",
    "null_pm25"
   ]
  },
  {
   "cell_type": "code",
   "execution_count": 7,
   "metadata": {},
   "outputs": [
    {
     "data": {
      "text/plain": [
       "15.57"
      ]
     },
     "execution_count": 7,
     "metadata": {},
     "output_type": "execute_result"
    }
   ],
   "source": [
    "pm_missing_ratio = np.round((null_pm25 / len(city_day_df) * 100), 2)\n",
    "pm_missing_ratio"
   ]
  },
  {
   "cell_type": "code",
   "execution_count": 8,
   "metadata": {},
   "outputs": [
    {
     "data": {
      "text/plain": [
       "18109"
      ]
     },
     "execution_count": 8,
     "metadata": {},
     "output_type": "execute_result"
    }
   ],
   "source": [
    "null_x = city_day_df['Xylene'].isnull().sum()\n",
    "null_x"
   ]
  },
  {
   "cell_type": "code",
   "execution_count": 9,
   "metadata": {},
   "outputs": [
    {
     "data": {
      "text/plain": [
       "61.32"
      ]
     },
     "execution_count": 9,
     "metadata": {},
     "output_type": "execute_result"
    }
   ],
   "source": [
    "x_missing_ratio = np.round((null_x / len(city_day_df) * 100), 2)\n",
    "x_missing_ratio"
   ]
  },
  {
   "cell_type": "code",
   "execution_count": 10,
   "metadata": {},
   "outputs": [
    {
     "data": {
      "image/png": "[encoded data removed]",
      "text/plain": [
       "<Figure size 1800x720 with 2 Axes>"
      ]
     },
     "metadata": {
      "needs_background": "light"
     },
     "output_type": "display_data"
    }
   ],
   "source": [
    "mns.matrix(city_day_df);"
   ]
  },
  {
   "cell_type": "code",
   "execution_count": 11,
   "metadata": {},
   "outputs": [
    {
     "data": {
      "text/plain": [
       "City              0\n",
       "Date              0\n",
       "PM2.5          4598\n",
       "PM10          11140\n",
       "NO             3582\n",
       "NO2            3585\n",
       "NOx            4185\n",
       "NH3           10328\n",
       "CO             2059\n",
       "SO2            3854\n",
       "O3             4022\n",
       "Benzene        5623\n",
       "Toluene        8041\n",
       "Xylene        18109\n",
       "AQI            4681\n",
       "AQI_Bucket     4681\n",
       "dtype: int64"
      ]
     },
     "execution_count": 11,
     "metadata": {},
     "output_type": "execute_result"
    }
   ],
   "source": [
    "miss_val = city_day_df.isnull().sum()\n",
    "miss_val"
   ]
  },
  {
   "cell_type": "code",
   "execution_count": 12,
   "metadata": {},
   "outputs": [
    {
     "data": {
      "text/plain": [
       "City           0.00\n",
       "Date           0.00\n",
       "PM2.5         15.57\n",
       "PM10          37.72\n",
       "NO            12.13\n",
       "NO2           12.14\n",
       "NOx           14.17\n",
       "NH3           34.97\n",
       "CO             6.97\n",
       "SO2           13.05\n",
       "O3            13.62\n",
       "Benzene       19.04\n",
       "Toluene       27.23\n",
       "Xylene        61.32\n",
       "AQI           15.85\n",
       "AQI_Bucket    15.85\n",
       "dtype: float64"
      ]
     },
     "execution_count": 12,
     "metadata": {},
     "output_type": "execute_result"
    }
   ],
   "source": [
    "miss_val_percent = np.round((miss_val / len(city_day_df) * 100), 2)\n",
    "miss_val_percent"
   ]
  },
  {
   "cell_type": "code",
   "execution_count": 13,
   "metadata": {},
   "outputs": [
    {
     "data": {
      "text/html": [
       "<div>\n",
       "<style scoped>\n",
       "    .dataframe tbody tr th:only-of-type {\n",
       "        vertical-align: middle;\n",
       "    }\n",
       "\n",
       "    .dataframe tbody tr th {\n",
       "        vertical-align: top;\n",
       "    }\n",
       "\n",
       "    .dataframe thead th {\n",
       "        text-align: right;\n",
       "    }\n",
       "</style>\n",
       "<table border=\"1\" class=\"dataframe\">\n",
       "  <thead>\n",
       "    <tr style=\"text-align: right;\">\n",
       "      <th></th>\n",
       "      <th>0</th>\n",
       "      <th>1</th>\n",
       "    </tr>\n",
       "  </thead>\n",
       "  <tbody>\n",
       "    <tr>\n",
       "      <th>City</th>\n",
       "      <td>0</td>\n",
       "      <td>0.00</td>\n",
       "    </tr>\n",
       "    <tr>\n",
       "      <th>Date</th>\n",
       "      <td>0</td>\n",
       "      <td>0.00</td>\n",
       "    </tr>\n",
       "    <tr>\n",
       "      <th>PM2.5</th>\n",
       "      <td>4598</td>\n",
       "      <td>15.57</td>\n",
       "    </tr>\n",
       "    <tr>\n",
       "      <th>PM10</th>\n",
       "      <td>11140</td>\n",
       "      <td>37.72</td>\n",
       "    </tr>\n",
       "    <tr>\n",
       "      <th>NO</th>\n",
       "      <td>3582</td>\n",
       "      <td>12.13</td>\n",
       "    </tr>\n",
       "    <tr>\n",
       "      <th>NO2</th>\n",
       "      <td>3585</td>\n",
       "      <td>12.14</td>\n",
       "    </tr>\n",
       "    <tr>\n",
       "      <th>NOx</th>\n",
       "      <td>4185</td>\n",
       "      <td>14.17</td>\n",
       "    </tr>\n",
       "    <tr>\n",
       "      <th>NH3</th>\n",
       "      <td>10328</td>\n",
       "      <td>34.97</td>\n",
       "    </tr>\n",
       "    <tr>\n",
       "      <th>CO</th>\n",
       "      <td>2059</td>\n",
       "      <td>6.97</td>\n",
       "    </tr>\n",
       "    <tr>\n",
       "      <th>SO2</th>\n",
       "      <td>3854</td>\n",
       "      <td>13.05</td>\n",
       "    </tr>\n",
       "    <tr>\n",
       "      <th>O3</th>\n",
       "      <td>4022</td>\n",
       "      <td>13.62</td>\n",
       "    </tr>\n",
       "    <tr>\n",
       "      <th>Benzene</th>\n",
       "      <td>5623</td>\n",
       "      <td>19.04</td>\n",
       "    </tr>\n",
       "    <tr>\n",
       "      <th>Toluene</th>\n",
       "      <td>8041</td>\n",
       "      <td>27.23</td>\n",
       "    </tr>\n",
       "    <tr>\n",
       "      <th>Xylene</th>\n",
       "      <td>18109</td>\n",
       "      <td>61.32</td>\n",
       "    </tr>\n",
       "    <tr>\n",
       "      <th>AQI</th>\n",
       "      <td>4681</td>\n",
       "      <td>15.85</td>\n",
       "    </tr>\n",
       "    <tr>\n",
       "      <th>AQI_Bucket</th>\n",
       "      <td>4681</td>\n",
       "      <td>15.85</td>\n",
       "    </tr>\n",
       "  </tbody>\n",
       "</table>\n",
       "</div>"
      ],
      "text/plain": [
       "                0      1\n",
       "City            0   0.00\n",
       "Date            0   0.00\n",
       "PM2.5        4598  15.57\n",
       "PM10        11140  37.72\n",
       "NO           3582  12.13\n",
       "NO2          3585  12.14\n",
       "NOx          4185  14.17\n",
       "NH3         10328  34.97\n",
       "CO           2059   6.97\n",
       "SO2          3854  13.05\n",
       "O3           4022  13.62\n",
       "Benzene      5623  19.04\n",
       "Toluene      8041  27.23\n",
       "Xylene      18109  61.32\n",
       "AQI          4681  15.85\n",
       "AQI_Bucket   4681  15.85"
      ]
     },
     "execution_count": 13,
     "metadata": {},
     "output_type": "execute_result"
    }
   ],
   "source": [
    "miss_val_table = pd.concat([miss_val, miss_val_percent], axis = 1)\n",
    "miss_val_table"
   ]
  },
  {
   "cell_type": "code",
   "execution_count": 14,
   "metadata": {},
   "outputs": [
    {
     "data": {
      "text/html": [
       "<div>\n",
       "<style scoped>\n",
       "    .dataframe tbody tr th:only-of-type {\n",
       "        vertical-align: middle;\n",
       "    }\n",
       "\n",
       "    .dataframe tbody tr th {\n",
       "        vertical-align: top;\n",
       "    }\n",
       "\n",
       "    .dataframe thead th {\n",
       "        text-align: right;\n",
       "    }\n",
       "</style>\n",
       "<table border=\"1\" class=\"dataframe\">\n",
       "  <thead>\n",
       "    <tr style=\"text-align: right;\">\n",
       "      <th></th>\n",
       "      <th>Missing Values</th>\n",
       "      <th>% of Total</th>\n",
       "    </tr>\n",
       "  </thead>\n",
       "  <tbody>\n",
       "    <tr>\n",
       "      <th>City</th>\n",
       "      <td>0</td>\n",
       "      <td>0.00</td>\n",
       "    </tr>\n",
       "    <tr>\n",
       "      <th>Date</th>\n",
       "      <td>0</td>\n",
       "      <td>0.00</td>\n",
       "    </tr>\n",
       "    <tr>\n",
       "      <th>PM2.5</th>\n",
       "      <td>4598</td>\n",
       "      <td>15.57</td>\n",
       "    </tr>\n",
       "    <tr>\n",
       "      <th>PM10</th>\n",
       "      <td>11140</td>\n",
       "      <td>37.72</td>\n",
       "    </tr>\n",
       "    <tr>\n",
       "      <th>NO</th>\n",
       "      <td>3582</td>\n",
       "      <td>12.13</td>\n",
       "    </tr>\n",
       "    <tr>\n",
       "      <th>NO2</th>\n",
       "      <td>3585</td>\n",
       "      <td>12.14</td>\n",
       "    </tr>\n",
       "    <tr>\n",
       "      <th>NOx</th>\n",
       "      <td>4185</td>\n",
       "      <td>14.17</td>\n",
       "    </tr>\n",
       "    <tr>\n",
       "      <th>NH3</th>\n",
       "      <td>10328</td>\n",
       "      <td>34.97</td>\n",
       "    </tr>\n",
       "    <tr>\n",
       "      <th>CO</th>\n",
       "      <td>2059</td>\n",
       "      <td>6.97</td>\n",
       "    </tr>\n",
       "    <tr>\n",
       "      <th>SO2</th>\n",
       "      <td>3854</td>\n",
       "      <td>13.05</td>\n",
       "    </tr>\n",
       "    <tr>\n",
       "      <th>O3</th>\n",
       "      <td>4022</td>\n",
       "      <td>13.62</td>\n",
       "    </tr>\n",
       "    <tr>\n",
       "      <th>Benzene</th>\n",
       "      <td>5623</td>\n",
       "      <td>19.04</td>\n",
       "    </tr>\n",
       "    <tr>\n",
       "      <th>Toluene</th>\n",
       "      <td>8041</td>\n",
       "      <td>27.23</td>\n",
       "    </tr>\n",
       "    <tr>\n",
       "      <th>Xylene</th>\n",
       "      <td>18109</td>\n",
       "      <td>61.32</td>\n",
       "    </tr>\n",
       "    <tr>\n",
       "      <th>AQI</th>\n",
       "      <td>4681</td>\n",
       "      <td>15.85</td>\n",
       "    </tr>\n",
       "    <tr>\n",
       "      <th>AQI_Bucket</th>\n",
       "      <td>4681</td>\n",
       "      <td>15.85</td>\n",
       "    </tr>\n",
       "  </tbody>\n",
       "</table>\n",
       "</div>"
      ],
      "text/plain": [
       "            Missing Values  % of Total\n",
       "City                     0        0.00\n",
       "Date                     0        0.00\n",
       "PM2.5                 4598       15.57\n",
       "PM10                 11140       37.72\n",
       "NO                    3582       12.13\n",
       "NO2                   3585       12.14\n",
       "NOx                   4185       14.17\n",
       "NH3                  10328       34.97\n",
       "CO                    2059        6.97\n",
       "SO2                   3854       13.05\n",
       "O3                    4022       13.62\n",
       "Benzene               5623       19.04\n",
       "Toluene               8041       27.23\n",
       "Xylene               18109       61.32\n",
       "AQI                   4681       15.85\n",
       "AQI_Bucket            4681       15.85"
      ]
     },
     "execution_count": 14,
     "metadata": {},
     "output_type": "execute_result"
    }
   ],
   "source": [
    "miss_val_table = miss_val_table.rename(\n",
    "    columns = {0: 'Missing Values', 1: '% of Total'})\n",
    "miss_val_table"
   ]
  },
  {
   "cell_type": "code",
   "execution_count": 15,
   "metadata": {},
   "outputs": [
    {
     "data": {
      "text/html": [
       "<style  type=\"text/css\" >\n",
       "    #T_c59240b0_55a8_11eb_ac9c_30e37ac4ce02row0_col0 {\n",
       "            background-color:  #084081;\n",
       "            color:  #f1f1f1;\n",
       "        }    #T_c59240b0_55a8_11eb_ac9c_30e37ac4ce02row0_col1 {\n",
       "            background-color:  #084081;\n",
       "            color:  #f1f1f1;\n",
       "        }    #T_c59240b0_55a8_11eb_ac9c_30e37ac4ce02row1_col0 {\n",
       "            background-color:  #64bfcc;\n",
       "            color:  #000000;\n",
       "        }    #T_c59240b0_55a8_11eb_ac9c_30e37ac4ce02row1_col1 {\n",
       "            background-color:  #64bfcc;\n",
       "            color:  #000000;\n",
       "        }    #T_c59240b0_55a8_11eb_ac9c_30e37ac4ce02row2_col0 {\n",
       "            background-color:  #76c9c6;\n",
       "            color:  #000000;\n",
       "        }    #T_c59240b0_55a8_11eb_ac9c_30e37ac4ce02row2_col1 {\n",
       "            background-color:  #76c9c6;\n",
       "            color:  #000000;\n",
       "        }    #T_c59240b0_55a8_11eb_ac9c_30e37ac4ce02row3_col0 {\n",
       "            background-color:  #a9ddb5;\n",
       "            color:  #000000;\n",
       "        }    #T_c59240b0_55a8_11eb_ac9c_30e37ac4ce02row3_col1 {\n",
       "            background-color:  #a9ddb5;\n",
       "            color:  #000000;\n",
       "        }    #T_c59240b0_55a8_11eb_ac9c_30e37ac4ce02row4_col0 {\n",
       "            background-color:  #d1edca;\n",
       "            color:  #000000;\n",
       "        }    #T_c59240b0_55a8_11eb_ac9c_30e37ac4ce02row4_col1 {\n",
       "            background-color:  #d1edca;\n",
       "            color:  #000000;\n",
       "        }    #T_c59240b0_55a8_11eb_ac9c_30e37ac4ce02row5_col0 {\n",
       "            background-color:  #daf1d5;\n",
       "            color:  #000000;\n",
       "        }    #T_c59240b0_55a8_11eb_ac9c_30e37ac4ce02row5_col1 {\n",
       "            background-color:  #daf1d5;\n",
       "            color:  #000000;\n",
       "        }    #T_c59240b0_55a8_11eb_ac9c_30e37ac4ce02row6_col0 {\n",
       "            background-color:  #daf1d5;\n",
       "            color:  #000000;\n",
       "        }    #T_c59240b0_55a8_11eb_ac9c_30e37ac4ce02row6_col1 {\n",
       "            background-color:  #daf1d5;\n",
       "            color:  #000000;\n",
       "        }    #T_c59240b0_55a8_11eb_ac9c_30e37ac4ce02row7_col0 {\n",
       "            background-color:  #dbf1d5;\n",
       "            color:  #000000;\n",
       "        }    #T_c59240b0_55a8_11eb_ac9c_30e37ac4ce02row7_col1 {\n",
       "            background-color:  #dbf1d5;\n",
       "            color:  #000000;\n",
       "        }    #T_c59240b0_55a8_11eb_ac9c_30e37ac4ce02row8_col0 {\n",
       "            background-color:  #dff3da;\n",
       "            color:  #000000;\n",
       "        }    #T_c59240b0_55a8_11eb_ac9c_30e37ac4ce02row8_col1 {\n",
       "            background-color:  #dff3da;\n",
       "            color:  #000000;\n",
       "        }    #T_c59240b0_55a8_11eb_ac9c_30e37ac4ce02row9_col0 {\n",
       "            background-color:  #e1f3dc;\n",
       "            color:  #000000;\n",
       "        }    #T_c59240b0_55a8_11eb_ac9c_30e37ac4ce02row9_col1 {\n",
       "            background-color:  #e1f3dc;\n",
       "            color:  #000000;\n",
       "        }    #T_c59240b0_55a8_11eb_ac9c_30e37ac4ce02row10_col0 {\n",
       "            background-color:  #e3f4de;\n",
       "            color:  #000000;\n",
       "        }    #T_c59240b0_55a8_11eb_ac9c_30e37ac4ce02row10_col1 {\n",
       "            background-color:  #e3f4de;\n",
       "            color:  #000000;\n",
       "        }    #T_c59240b0_55a8_11eb_ac9c_30e37ac4ce02row11_col0 {\n",
       "            background-color:  #e6f5e0;\n",
       "            color:  #000000;\n",
       "        }    #T_c59240b0_55a8_11eb_ac9c_30e37ac4ce02row11_col1 {\n",
       "            background-color:  #e6f5e0;\n",
       "            color:  #000000;\n",
       "        }    #T_c59240b0_55a8_11eb_ac9c_30e37ac4ce02row12_col0 {\n",
       "            background-color:  #e6f5e0;\n",
       "            color:  #000000;\n",
       "        }    #T_c59240b0_55a8_11eb_ac9c_30e37ac4ce02row12_col1 {\n",
       "            background-color:  #e6f5e0;\n",
       "            color:  #000000;\n",
       "        }    #T_c59240b0_55a8_11eb_ac9c_30e37ac4ce02row13_col0 {\n",
       "            background-color:  #f7fcf0;\n",
       "            color:  #000000;\n",
       "        }    #T_c59240b0_55a8_11eb_ac9c_30e37ac4ce02row13_col1 {\n",
       "            background-color:  #f7fcf0;\n",
       "            color:  #000000;\n",
       "        }</style><table id=\"T_c59240b0_55a8_11eb_ac9c_30e37ac4ce02\" ><thead>    <tr>        <th class=\"blank level0\" ></th>        <th class=\"col_heading level0 col0\" >Missing Values</th>        <th class=\"col_heading level0 col1\" >% of Total</th>    </tr></thead><tbody>\n",
       "                <tr>\n",
       "                        <th id=\"T_c59240b0_55a8_11eb_ac9c_30e37ac4ce02level0_row0\" class=\"row_heading level0 row0\" >Xylene</th>\n",
       "                        <td id=\"T_c59240b0_55a8_11eb_ac9c_30e37ac4ce02row0_col0\" class=\"data row0 col0\" >18109</td>\n",
       "                        <td id=\"T_c59240b0_55a8_11eb_ac9c_30e37ac4ce02row0_col1\" class=\"data row0 col1\" >61.320000</td>\n",
       "            </tr>\n",
       "            <tr>\n",
       "                        <th id=\"T_c59240b0_55a8_11eb_ac9c_30e37ac4ce02level0_row1\" class=\"row_heading level0 row1\" >PM10</th>\n",
       "                        <td id=\"T_c59240b0_55a8_11eb_ac9c_30e37ac4ce02row1_col0\" class=\"data row1 col0\" >11140</td>\n",
       "                        <td id=\"T_c59240b0_55a8_11eb_ac9c_30e37ac4ce02row1_col1\" class=\"data row1 col1\" >37.720000</td>\n",
       "            </tr>\n",
       "            <tr>\n",
       "                        <th id=\"T_c59240b0_55a8_11eb_ac9c_30e37ac4ce02level0_row2\" class=\"row_heading level0 row2\" >NH3</th>\n",
       "                        <td id=\"T_c59240b0_55a8_11eb_ac9c_30e37ac4ce02row2_col0\" class=\"data row2 col0\" >10328</td>\n",
       "                        <td id=\"T_c59240b0_55a8_11eb_ac9c_30e37ac4ce02row2_col1\" class=\"data row2 col1\" >34.970000</td>\n",
       "            </tr>\n",
       "            <tr>\n",
       "                        <th id=\"T_c59240b0_55a8_11eb_ac9c_30e37ac4ce02level0_row3\" class=\"row_heading level0 row3\" >Toluene</th>\n",
       "                        <td id=\"T_c59240b0_55a8_11eb_ac9c_30e37ac4ce02row3_col0\" class=\"data row3 col0\" >8041</td>\n",
       "                        <td id=\"T_c59240b0_55a8_11eb_ac9c_30e37ac4ce02row3_col1\" class=\"data row3 col1\" >27.230000</td>\n",
       "            </tr>\n",
       "            <tr>\n",
       "                        <th id=\"T_c59240b0_55a8_11eb_ac9c_30e37ac4ce02level0_row4\" class=\"row_heading level0 row4\" >Benzene</th>\n",
       "                        <td id=\"T_c59240b0_55a8_11eb_ac9c_30e37ac4ce02row4_col0\" class=\"data row4 col0\" >5623</td>\n",
       "                        <td id=\"T_c59240b0_55a8_11eb_ac9c_30e37ac4ce02row4_col1\" class=\"data row4 col1\" >19.040000</td>\n",
       "            </tr>\n",
       "            <tr>\n",
       "                        <th id=\"T_c59240b0_55a8_11eb_ac9c_30e37ac4ce02level0_row5\" class=\"row_heading level0 row5\" >AQI</th>\n",
       "                        <td id=\"T_c59240b0_55a8_11eb_ac9c_30e37ac4ce02row5_col0\" class=\"data row5 col0\" >4681</td>\n",
       "                        <td id=\"T_c59240b0_55a8_11eb_ac9c_30e37ac4ce02row5_col1\" class=\"data row5 col1\" >15.850000</td>\n",
       "            </tr>\n",
       "            <tr>\n",
       "                        <th id=\"T_c59240b0_55a8_11eb_ac9c_30e37ac4ce02level0_row6\" class=\"row_heading level0 row6\" >AQI_Bucket</th>\n",
       "                        <td id=\"T_c59240b0_55a8_11eb_ac9c_30e37ac4ce02row6_col0\" class=\"data row6 col0\" >4681</td>\n",
       "                        <td id=\"T_c59240b0_55a8_11eb_ac9c_30e37ac4ce02row6_col1\" class=\"data row6 col1\" >15.850000</td>\n",
       "            </tr>\n",
       "            <tr>\n",
       "                        <th id=\"T_c59240b0_55a8_11eb_ac9c_30e37ac4ce02level0_row7\" class=\"row_heading level0 row7\" >PM2.5</th>\n",
       "                        <td id=\"T_c59240b0_55a8_11eb_ac9c_30e37ac4ce02row7_col0\" class=\"data row7 col0\" >4598</td>\n",
       "                        <td id=\"T_c59240b0_55a8_11eb_ac9c_30e37ac4ce02row7_col1\" class=\"data row7 col1\" >15.570000</td>\n",
       "            </tr>\n",
       "            <tr>\n",
       "                        <th id=\"T_c59240b0_55a8_11eb_ac9c_30e37ac4ce02level0_row8\" class=\"row_heading level0 row8\" >NOx</th>\n",
       "                        <td id=\"T_c59240b0_55a8_11eb_ac9c_30e37ac4ce02row8_col0\" class=\"data row8 col0\" >4185</td>\n",
       "                        <td id=\"T_c59240b0_55a8_11eb_ac9c_30e37ac4ce02row8_col1\" class=\"data row8 col1\" >14.170000</td>\n",
       "            </tr>\n",
       "            <tr>\n",
       "                        <th id=\"T_c59240b0_55a8_11eb_ac9c_30e37ac4ce02level0_row9\" class=\"row_heading level0 row9\" >O3</th>\n",
       "                        <td id=\"T_c59240b0_55a8_11eb_ac9c_30e37ac4ce02row9_col0\" class=\"data row9 col0\" >4022</td>\n",
       "                        <td id=\"T_c59240b0_55a8_11eb_ac9c_30e37ac4ce02row9_col1\" class=\"data row9 col1\" >13.620000</td>\n",
       "            </tr>\n",
       "            <tr>\n",
       "                        <th id=\"T_c59240b0_55a8_11eb_ac9c_30e37ac4ce02level0_row10\" class=\"row_heading level0 row10\" >SO2</th>\n",
       "                        <td id=\"T_c59240b0_55a8_11eb_ac9c_30e37ac4ce02row10_col0\" class=\"data row10 col0\" >3854</td>\n",
       "                        <td id=\"T_c59240b0_55a8_11eb_ac9c_30e37ac4ce02row10_col1\" class=\"data row10 col1\" >13.050000</td>\n",
       "            </tr>\n",
       "            <tr>\n",
       "                        <th id=\"T_c59240b0_55a8_11eb_ac9c_30e37ac4ce02level0_row11\" class=\"row_heading level0 row11\" >NO2</th>\n",
       "                        <td id=\"T_c59240b0_55a8_11eb_ac9c_30e37ac4ce02row11_col0\" class=\"data row11 col0\" >3585</td>\n",
       "                        <td id=\"T_c59240b0_55a8_11eb_ac9c_30e37ac4ce02row11_col1\" class=\"data row11 col1\" >12.140000</td>\n",
       "            </tr>\n",
       "            <tr>\n",
       "                        <th id=\"T_c59240b0_55a8_11eb_ac9c_30e37ac4ce02level0_row12\" class=\"row_heading level0 row12\" >NO</th>\n",
       "                        <td id=\"T_c59240b0_55a8_11eb_ac9c_30e37ac4ce02row12_col0\" class=\"data row12 col0\" >3582</td>\n",
       "                        <td id=\"T_c59240b0_55a8_11eb_ac9c_30e37ac4ce02row12_col1\" class=\"data row12 col1\" >12.130000</td>\n",
       "            </tr>\n",
       "            <tr>\n",
       "                        <th id=\"T_c59240b0_55a8_11eb_ac9c_30e37ac4ce02level0_row13\" class=\"row_heading level0 row13\" >CO</th>\n",
       "                        <td id=\"T_c59240b0_55a8_11eb_ac9c_30e37ac4ce02row13_col0\" class=\"data row13 col0\" >2059</td>\n",
       "                        <td id=\"T_c59240b0_55a8_11eb_ac9c_30e37ac4ce02row13_col1\" class=\"data row13 col1\" >6.970000</td>\n",
       "            </tr>\n",
       "    </tbody></table>"
      ],
      "text/plain": [
       "<pandas.io.formats.style.Styler at 0x1e79ee70888>"
      ]
     },
     "execution_count": 15,
     "metadata": {},
     "output_type": "execute_result"
    }
   ],
   "source": [
    "miss_val_table = miss_val_table[miss_val_table.iloc[:,1] != 0].sort_values('% of Total', ascending=False)\n",
    "miss_val_table.style.background_gradient(cmap='GnBu')"
   ]
  },
  {
   "cell_type": "code",
   "execution_count": 16,
   "metadata": {},
   "outputs": [],
   "source": [
    "# Define a function that shows a table of missing values and their percentage to total\n",
    "def miss_value_table(df):\n",
    "    \n",
    "    # Get all missing values from the dataframe\n",
    "    missing_values = df.isnull().sum()\n",
    "    \n",
    "    # Calclate percentage of missing to total\n",
    "    missing_values_percent = np.round((missing_values / len(df) * 100), 2)\n",
    "    \n",
    "    # Create a table with the above results\n",
    "    missing_value_table = pd.concat([missing_values, missing_values_percent], axis = 1)\n",
    "    \n",
    "    # Rename table columns (defaults are 0, 1.. which we do not want)\n",
    "    missing_value_table = missing_value_table.rename(\n",
    "        columns = {0: 'Missing Values', 1: '% of Total'})\n",
    "    \n",
    "    # Sort the values (descending - % total) and remove rows that have '0' missng values\n",
    "    missing_value_table = missing_value_table[missing_value_table.iloc[:,1] != 0].sort_values('% of Total', \n",
    "                                                                                               ascending=False)    \n",
    "    # return the table\n",
    "    return missing_value_table"
   ]
  },
  {
   "cell_type": "code",
   "execution_count": 17,
   "metadata": {},
   "outputs": [
    {
     "data": {
      "text/html": [
       "<style  type=\"text/css\" >\n",
       "    #T_c5a7bb4a_55a8_11eb_93a0_30e37ac4ce02row0_col0 {\n",
       "            background-color:  #7f2704;\n",
       "            color:  #f1f1f1;\n",
       "        }    #T_c5a7bb4a_55a8_11eb_93a0_30e37ac4ce02row0_col1 {\n",
       "            background-color:  #7f2704;\n",
       "            color:  #f1f1f1;\n",
       "        }    #T_c5a7bb4a_55a8_11eb_93a0_30e37ac4ce02row1_col0 {\n",
       "            background-color:  #f77a27;\n",
       "            color:  #000000;\n",
       "        }    #T_c5a7bb4a_55a8_11eb_93a0_30e37ac4ce02row1_col1 {\n",
       "            background-color:  #f77a27;\n",
       "            color:  #000000;\n",
       "        }    #T_c5a7bb4a_55a8_11eb_93a0_30e37ac4ce02row2_col0 {\n",
       "            background-color:  #fc8937;\n",
       "            color:  #000000;\n",
       "        }    #T_c5a7bb4a_55a8_11eb_93a0_30e37ac4ce02row2_col1 {\n",
       "            background-color:  #fc8937;\n",
       "            color:  #000000;\n",
       "        }    #T_c5a7bb4a_55a8_11eb_93a0_30e37ac4ce02row3_col0 {\n",
       "            background-color:  #fdaf6c;\n",
       "            color:  #000000;\n",
       "        }    #T_c5a7bb4a_55a8_11eb_93a0_30e37ac4ce02row3_col1 {\n",
       "            background-color:  #fdaf6c;\n",
       "            color:  #000000;\n",
       "        }    #T_c5a7bb4a_55a8_11eb_93a0_30e37ac4ce02row4_col0 {\n",
       "            background-color:  #fdd5ad;\n",
       "            color:  #000000;\n",
       "        }    #T_c5a7bb4a_55a8_11eb_93a0_30e37ac4ce02row4_col1 {\n",
       "            background-color:  #fdd5ad;\n",
       "            color:  #000000;\n",
       "        }    #T_c5a7bb4a_55a8_11eb_93a0_30e37ac4ce02row5_col0 {\n",
       "            background-color:  #fee0c1;\n",
       "            color:  #000000;\n",
       "        }    #T_c5a7bb4a_55a8_11eb_93a0_30e37ac4ce02row5_col1 {\n",
       "            background-color:  #fee0c1;\n",
       "            color:  #000000;\n",
       "        }    #T_c5a7bb4a_55a8_11eb_93a0_30e37ac4ce02row6_col0 {\n",
       "            background-color:  #fee0c1;\n",
       "            color:  #000000;\n",
       "        }    #T_c5a7bb4a_55a8_11eb_93a0_30e37ac4ce02row6_col1 {\n",
       "            background-color:  #fee0c1;\n",
       "            color:  #000000;\n",
       "        }    #T_c5a7bb4a_55a8_11eb_93a0_30e37ac4ce02row7_col0 {\n",
       "            background-color:  #fee0c3;\n",
       "            color:  #000000;\n",
       "        }    #T_c5a7bb4a_55a8_11eb_93a0_30e37ac4ce02row7_col1 {\n",
       "            background-color:  #fee0c3;\n",
       "            color:  #000000;\n",
       "        }    #T_c5a7bb4a_55a8_11eb_93a0_30e37ac4ce02row8_col0 {\n",
       "            background-color:  #fee5cc;\n",
       "            color:  #000000;\n",
       "        }    #T_c5a7bb4a_55a8_11eb_93a0_30e37ac4ce02row8_col1 {\n",
       "            background-color:  #fee5cc;\n",
       "            color:  #000000;\n",
       "        }    #T_c5a7bb4a_55a8_11eb_93a0_30e37ac4ce02row9_col0 {\n",
       "            background-color:  #fee6cf;\n",
       "            color:  #000000;\n",
       "        }    #T_c5a7bb4a_55a8_11eb_93a0_30e37ac4ce02row9_col1 {\n",
       "            background-color:  #fee6cf;\n",
       "            color:  #000000;\n",
       "        }    #T_c5a7bb4a_55a8_11eb_93a0_30e37ac4ce02row10_col0 {\n",
       "            background-color:  #fee8d2;\n",
       "            color:  #000000;\n",
       "        }    #T_c5a7bb4a_55a8_11eb_93a0_30e37ac4ce02row10_col1 {\n",
       "            background-color:  #fee8d2;\n",
       "            color:  #000000;\n",
       "        }    #T_c5a7bb4a_55a8_11eb_93a0_30e37ac4ce02row11_col0 {\n",
       "            background-color:  #feead5;\n",
       "            color:  #000000;\n",
       "        }    #T_c5a7bb4a_55a8_11eb_93a0_30e37ac4ce02row11_col1 {\n",
       "            background-color:  #feead5;\n",
       "            color:  #000000;\n",
       "        }    #T_c5a7bb4a_55a8_11eb_93a0_30e37ac4ce02row12_col0 {\n",
       "            background-color:  #feead5;\n",
       "            color:  #000000;\n",
       "        }    #T_c5a7bb4a_55a8_11eb_93a0_30e37ac4ce02row12_col1 {\n",
       "            background-color:  #feead5;\n",
       "            color:  #000000;\n",
       "        }    #T_c5a7bb4a_55a8_11eb_93a0_30e37ac4ce02row13_col0 {\n",
       "            background-color:  #fff5eb;\n",
       "            color:  #000000;\n",
       "        }    #T_c5a7bb4a_55a8_11eb_93a0_30e37ac4ce02row13_col1 {\n",
       "            background-color:  #fff5eb;\n",
       "            color:  #000000;\n",
       "        }</style><table id=\"T_c5a7bb4a_55a8_11eb_93a0_30e37ac4ce02\" ><thead>    <tr>        <th class=\"blank level0\" ></th>        <th class=\"col_heading level0 col0\" >Missing Values</th>        <th class=\"col_heading level0 col1\" >% of Total</th>    </tr></thead><tbody>\n",
       "                <tr>\n",
       "                        <th id=\"T_c5a7bb4a_55a8_11eb_93a0_30e37ac4ce02level0_row0\" class=\"row_heading level0 row0\" >Xylene</th>\n",
       "                        <td id=\"T_c5a7bb4a_55a8_11eb_93a0_30e37ac4ce02row0_col0\" class=\"data row0 col0\" >18109</td>\n",
       "                        <td id=\"T_c5a7bb4a_55a8_11eb_93a0_30e37ac4ce02row0_col1\" class=\"data row0 col1\" >61.320000</td>\n",
       "            </tr>\n",
       "            <tr>\n",
       "                        <th id=\"T_c5a7bb4a_55a8_11eb_93a0_30e37ac4ce02level0_row1\" class=\"row_heading level0 row1\" >PM10</th>\n",
       "                        <td id=\"T_c5a7bb4a_55a8_11eb_93a0_30e37ac4ce02row1_col0\" class=\"data row1 col0\" >11140</td>\n",
       "                        <td id=\"T_c5a7bb4a_55a8_11eb_93a0_30e37ac4ce02row1_col1\" class=\"data row1 col1\" >37.720000</td>\n",
       "            </tr>\n",
       "            <tr>\n",
       "                        <th id=\"T_c5a7bb4a_55a8_11eb_93a0_30e37ac4ce02level0_row2\" class=\"row_heading level0 row2\" >NH3</th>\n",
       "                        <td id=\"T_c5a7bb4a_55a8_11eb_93a0_30e37ac4ce02row2_col0\" class=\"data row2 col0\" >10328</td>\n",
       "                        <td id=\"T_c5a7bb4a_55a8_11eb_93a0_30e37ac4ce02row2_col1\" class=\"data row2 col1\" >34.970000</td>\n",
       "            </tr>\n",
       "            <tr>\n",
       "                        <th id=\"T_c5a7bb4a_55a8_11eb_93a0_30e37ac4ce02level0_row3\" class=\"row_heading level0 row3\" >Toluene</th>\n",
       "                        <td id=\"T_c5a7bb4a_55a8_11eb_93a0_30e37ac4ce02row3_col0\" class=\"data row3 col0\" >8041</td>\n",
       "                        <td id=\"T_c5a7bb4a_55a8_11eb_93a0_30e37ac4ce02row3_col1\" class=\"data row3 col1\" >27.230000</td>\n",
       "            </tr>\n",
       "            <tr>\n",
       "                        <th id=\"T_c5a7bb4a_55a8_11eb_93a0_30e37ac4ce02level0_row4\" class=\"row_heading level0 row4\" >Benzene</th>\n",
       "                        <td id=\"T_c5a7bb4a_55a8_11eb_93a0_30e37ac4ce02row4_col0\" class=\"data row4 col0\" >5623</td>\n",
       "                        <td id=\"T_c5a7bb4a_55a8_11eb_93a0_30e37ac4ce02row4_col1\" class=\"data row4 col1\" >19.040000</td>\n",
       "            </tr>\n",
       "            <tr>\n",
       "                        <th id=\"T_c5a7bb4a_55a8_11eb_93a0_30e37ac4ce02level0_row5\" class=\"row_heading level0 row5\" >AQI</th>\n",
       "                        <td id=\"T_c5a7bb4a_55a8_11eb_93a0_30e37ac4ce02row5_col0\" class=\"data row5 col0\" >4681</td>\n",
       "                        <td id=\"T_c5a7bb4a_55a8_11eb_93a0_30e37ac4ce02row5_col1\" class=\"data row5 col1\" >15.850000</td>\n",
       "            </tr>\n",
       "            <tr>\n",
       "                        <th id=\"T_c5a7bb4a_55a8_11eb_93a0_30e37ac4ce02level0_row6\" class=\"row_heading level0 row6\" >AQI_Bucket</th>\n",
       "                        <td id=\"T_c5a7bb4a_55a8_11eb_93a0_30e37ac4ce02row6_col0\" class=\"data row6 col0\" >4681</td>\n",
       "                        <td id=\"T_c5a7bb4a_55a8_11eb_93a0_30e37ac4ce02row6_col1\" class=\"data row6 col1\" >15.850000</td>\n",
       "            </tr>\n",
       "            <tr>\n",
       "                        <th id=\"T_c5a7bb4a_55a8_11eb_93a0_30e37ac4ce02level0_row7\" class=\"row_heading level0 row7\" >PM2.5</th>\n",
       "                        <td id=\"T_c5a7bb4a_55a8_11eb_93a0_30e37ac4ce02row7_col0\" class=\"data row7 col0\" >4598</td>\n",
       "                        <td id=\"T_c5a7bb4a_55a8_11eb_93a0_30e37ac4ce02row7_col1\" class=\"data row7 col1\" >15.570000</td>\n",
       "            </tr>\n",
       "            <tr>\n",
       "                        <th id=\"T_c5a7bb4a_55a8_11eb_93a0_30e37ac4ce02level0_row8\" class=\"row_heading level0 row8\" >NOx</th>\n",
       "                        <td id=\"T_c5a7bb4a_55a8_11eb_93a0_30e37ac4ce02row8_col0\" class=\"data row8 col0\" >4185</td>\n",
       "                        <td id=\"T_c5a7bb4a_55a8_11eb_93a0_30e37ac4ce02row8_col1\" class=\"data row8 col1\" >14.170000</td>\n",
       "            </tr>\n",
       "            <tr>\n",
       "                        <th id=\"T_c5a7bb4a_55a8_11eb_93a0_30e37ac4ce02level0_row9\" class=\"row_heading level0 row9\" >O3</th>\n",
       "                        <td id=\"T_c5a7bb4a_55a8_11eb_93a0_30e37ac4ce02row9_col0\" class=\"data row9 col0\" >4022</td>\n",
       "                        <td id=\"T_c5a7bb4a_55a8_11eb_93a0_30e37ac4ce02row9_col1\" class=\"data row9 col1\" >13.620000</td>\n",
       "            </tr>\n",
       "            <tr>\n",
       "                        <th id=\"T_c5a7bb4a_55a8_11eb_93a0_30e37ac4ce02level0_row10\" class=\"row_heading level0 row10\" >SO2</th>\n",
       "                        <td id=\"T_c5a7bb4a_55a8_11eb_93a0_30e37ac4ce02row10_col0\" class=\"data row10 col0\" >3854</td>\n",
       "                        <td id=\"T_c5a7bb4a_55a8_11eb_93a0_30e37ac4ce02row10_col1\" class=\"data row10 col1\" >13.050000</td>\n",
       "            </tr>\n",
       "            <tr>\n",
       "                        <th id=\"T_c5a7bb4a_55a8_11eb_93a0_30e37ac4ce02level0_row11\" class=\"row_heading level0 row11\" >NO2</th>\n",
       "                        <td id=\"T_c5a7bb4a_55a8_11eb_93a0_30e37ac4ce02row11_col0\" class=\"data row11 col0\" >3585</td>\n",
       "                        <td id=\"T_c5a7bb4a_55a8_11eb_93a0_30e37ac4ce02row11_col1\" class=\"data row11 col1\" >12.140000</td>\n",
       "            </tr>\n",
       "            <tr>\n",
       "                        <th id=\"T_c5a7bb4a_55a8_11eb_93a0_30e37ac4ce02level0_row12\" class=\"row_heading level0 row12\" >NO</th>\n",
       "                        <td id=\"T_c5a7bb4a_55a8_11eb_93a0_30e37ac4ce02row12_col0\" class=\"data row12 col0\" >3582</td>\n",
       "                        <td id=\"T_c5a7bb4a_55a8_11eb_93a0_30e37ac4ce02row12_col1\" class=\"data row12 col1\" >12.130000</td>\n",
       "            </tr>\n",
       "            <tr>\n",
       "                        <th id=\"T_c5a7bb4a_55a8_11eb_93a0_30e37ac4ce02level0_row13\" class=\"row_heading level0 row13\" >CO</th>\n",
       "                        <td id=\"T_c5a7bb4a_55a8_11eb_93a0_30e37ac4ce02row13_col0\" class=\"data row13 col0\" >2059</td>\n",
       "                        <td id=\"T_c5a7bb4a_55a8_11eb_93a0_30e37ac4ce02row13_col1\" class=\"data row13 col1\" >6.970000</td>\n",
       "            </tr>\n",
       "    </tbody></table>"
      ],
      "text/plain": [
       "<pandas.io.formats.style.Styler at 0x1e79ee70e08>"
      ]
     },
     "execution_count": 17,
     "metadata": {},
     "output_type": "execute_result"
    }
   ],
   "source": [
    "city_missing_values = miss_value_table(city_day_df)\n",
    "city_missing_values.style.background_gradient(cmap='Oranges')"
   ]
  },
  {
   "cell_type": "code",
   "execution_count": 18,
   "metadata": {},
   "outputs": [],
   "source": [
    "ct = city_day_df['City'].value_counts()"
   ]
  },
  {
   "cell_type": "code",
   "execution_count": 19,
   "metadata": {},
   "outputs": [
    {
     "data": {
      "text/plain": [
       "Index(['Mumbai', 'Delhi', 'Chennai', 'Bengaluru', 'Lucknow', 'Ahmedabad',\n",
       "       'Hyderabad', 'Patna', 'Gurugram', 'Visakhapatnam', 'Amritsar',\n",
       "       'Jorapokhar', 'Jaipur', 'Thiruvananthapuram', 'Amaravati',\n",
       "       'Brajrajnagar', 'Talcher', 'Kolkata', 'Guwahati', 'Coimbatore',\n",
       "       'Shillong', 'Chandigarh', 'Bhopal', 'Ernakulam', 'Kochi', 'Aizawl'],\n",
       "      dtype='object')"
      ]
     },
     "execution_count": 19,
     "metadata": {},
     "output_type": "execute_result"
    }
   ],
   "source": [
    "ct.index"
   ]
  },
  {
   "cell_type": "code",
   "execution_count": 20,
   "metadata": {},
   "outputs": [
    {
     "data": {
      "text/html": [
       "<style  type=\"text/css\" >\n",
       "    #T_c5d2b718_55a8_11eb_8679_30e37ac4ce02row0_col1 {\n",
       "            background-color:  #08306b;\n",
       "            color:  #f1f1f1;\n",
       "        }    #T_c5d2b718_55a8_11eb_8679_30e37ac4ce02row1_col1 {\n",
       "            background-color:  #08306b;\n",
       "            color:  #f1f1f1;\n",
       "        }    #T_c5d2b718_55a8_11eb_8679_30e37ac4ce02row2_col1 {\n",
       "            background-color:  #08306b;\n",
       "            color:  #f1f1f1;\n",
       "        }    #T_c5d2b718_55a8_11eb_8679_30e37ac4ce02row3_col1 {\n",
       "            background-color:  #08306b;\n",
       "            color:  #f1f1f1;\n",
       "        }    #T_c5d2b718_55a8_11eb_8679_30e37ac4ce02row4_col1 {\n",
       "            background-color:  #08306b;\n",
       "            color:  #f1f1f1;\n",
       "        }    #T_c5d2b718_55a8_11eb_8679_30e37ac4ce02row5_col1 {\n",
       "            background-color:  #08306b;\n",
       "            color:  #f1f1f1;\n",
       "        }    #T_c5d2b718_55a8_11eb_8679_30e37ac4ce02row6_col1 {\n",
       "            background-color:  #08306b;\n",
       "            color:  #f1f1f1;\n",
       "        }    #T_c5d2b718_55a8_11eb_8679_30e37ac4ce02row7_col1 {\n",
       "            background-color:  #08458a;\n",
       "            color:  #f1f1f1;\n",
       "        }    #T_c5d2b718_55a8_11eb_8679_30e37ac4ce02row8_col1 {\n",
       "            background-color:  #125da6;\n",
       "            color:  #f1f1f1;\n",
       "        }    #T_c5d2b718_55a8_11eb_8679_30e37ac4ce02row9_col1 {\n",
       "            background-color:  #2b7bba;\n",
       "            color:  #000000;\n",
       "        }    #T_c5d2b718_55a8_11eb_8679_30e37ac4ce02row10_col1 {\n",
       "            background-color:  #4f9bcb;\n",
       "            color:  #000000;\n",
       "        }    #T_c5d2b718_55a8_11eb_8679_30e37ac4ce02row11_col1 {\n",
       "            background-color:  #58a1cf;\n",
       "            color:  #000000;\n",
       "        }    #T_c5d2b718_55a8_11eb_8679_30e37ac4ce02row12_col1 {\n",
       "            background-color:  #61a7d2;\n",
       "            color:  #000000;\n",
       "        }    #T_c5d2b718_55a8_11eb_8679_30e37ac4ce02row13_col1 {\n",
       "            background-color:  #63a8d3;\n",
       "            color:  #000000;\n",
       "        }    #T_c5d2b718_55a8_11eb_8679_30e37ac4ce02row14_col1 {\n",
       "            background-color:  #82bbdb;\n",
       "            color:  #000000;\n",
       "        }    #T_c5d2b718_55a8_11eb_8679_30e37ac4ce02row15_col1 {\n",
       "            background-color:  #85bcdc;\n",
       "            color:  #000000;\n",
       "        }    #T_c5d2b718_55a8_11eb_8679_30e37ac4ce02row16_col1 {\n",
       "            background-color:  #89bedc;\n",
       "            color:  #000000;\n",
       "        }    #T_c5d2b718_55a8_11eb_8679_30e37ac4ce02row17_col1 {\n",
       "            background-color:  #a0cbe2;\n",
       "            color:  #000000;\n",
       "        }    #T_c5d2b718_55a8_11eb_8679_30e37ac4ce02row18_col1 {\n",
       "            background-color:  #cfe1f2;\n",
       "            color:  #000000;\n",
       "        }    #T_c5d2b718_55a8_11eb_8679_30e37ac4ce02row19_col1 {\n",
       "            background-color:  #dbe9f6;\n",
       "            color:  #000000;\n",
       "        }    #T_c5d2b718_55a8_11eb_8679_30e37ac4ce02row20_col1 {\n",
       "            background-color:  #e3eef8;\n",
       "            color:  #000000;\n",
       "        }    #T_c5d2b718_55a8_11eb_8679_30e37ac4ce02row21_col1 {\n",
       "            background-color:  #e3eef9;\n",
       "            color:  #000000;\n",
       "        }    #T_c5d2b718_55a8_11eb_8679_30e37ac4ce02row22_col1 {\n",
       "            background-color:  #e5eff9;\n",
       "            color:  #000000;\n",
       "        }    #T_c5d2b718_55a8_11eb_8679_30e37ac4ce02row23_col1 {\n",
       "            background-color:  #f2f8fd;\n",
       "            color:  #000000;\n",
       "        }    #T_c5d2b718_55a8_11eb_8679_30e37ac4ce02row24_col1 {\n",
       "            background-color:  #f2f8fd;\n",
       "            color:  #000000;\n",
       "        }    #T_c5d2b718_55a8_11eb_8679_30e37ac4ce02row25_col1 {\n",
       "            background-color:  #f7fbff;\n",
       "            color:  #000000;\n",
       "        }</style><table id=\"T_c5d2b718_55a8_11eb_8679_30e37ac4ce02\" ><thead>    <tr>        <th class=\"blank level0\" ></th>        <th class=\"col_heading level0 col0\" >City</th>        <th class=\"col_heading level0 col1\" >Value Counts</th>    </tr></thead><tbody>\n",
       "                <tr>\n",
       "                        <th id=\"T_c5d2b718_55a8_11eb_8679_30e37ac4ce02level0_row0\" class=\"row_heading level0 row0\" >0</th>\n",
       "                        <td id=\"T_c5d2b718_55a8_11eb_8679_30e37ac4ce02row0_col0\" class=\"data row0 col0\" >Mumbai</td>\n",
       "                        <td id=\"T_c5d2b718_55a8_11eb_8679_30e37ac4ce02row0_col1\" class=\"data row0 col1\" >2009</td>\n",
       "            </tr>\n",
       "            <tr>\n",
       "                        <th id=\"T_c5d2b718_55a8_11eb_8679_30e37ac4ce02level0_row1\" class=\"row_heading level0 row1\" >1</th>\n",
       "                        <td id=\"T_c5d2b718_55a8_11eb_8679_30e37ac4ce02row1_col0\" class=\"data row1 col0\" >Delhi</td>\n",
       "                        <td id=\"T_c5d2b718_55a8_11eb_8679_30e37ac4ce02row1_col1\" class=\"data row1 col1\" >2009</td>\n",
       "            </tr>\n",
       "            <tr>\n",
       "                        <th id=\"T_c5d2b718_55a8_11eb_8679_30e37ac4ce02level0_row2\" class=\"row_heading level0 row2\" >2</th>\n",
       "                        <td id=\"T_c5d2b718_55a8_11eb_8679_30e37ac4ce02row2_col0\" class=\"data row2 col0\" >Chennai</td>\n",
       "                        <td id=\"T_c5d2b718_55a8_11eb_8679_30e37ac4ce02row2_col1\" class=\"data row2 col1\" >2009</td>\n",
       "            </tr>\n",
       "            <tr>\n",
       "                        <th id=\"T_c5d2b718_55a8_11eb_8679_30e37ac4ce02level0_row3\" class=\"row_heading level0 row3\" >3</th>\n",
       "                        <td id=\"T_c5d2b718_55a8_11eb_8679_30e37ac4ce02row3_col0\" class=\"data row3 col0\" >Bengaluru</td>\n",
       "                        <td id=\"T_c5d2b718_55a8_11eb_8679_30e37ac4ce02row3_col1\" class=\"data row3 col1\" >2009</td>\n",
       "            </tr>\n",
       "            <tr>\n",
       "                        <th id=\"T_c5d2b718_55a8_11eb_8679_30e37ac4ce02level0_row4\" class=\"row_heading level0 row4\" >4</th>\n",
       "                        <td id=\"T_c5d2b718_55a8_11eb_8679_30e37ac4ce02row4_col0\" class=\"data row4 col0\" >Lucknow</td>\n",
       "                        <td id=\"T_c5d2b718_55a8_11eb_8679_30e37ac4ce02row4_col1\" class=\"data row4 col1\" >2009</td>\n",
       "            </tr>\n",
       "            <tr>\n",
       "                        <th id=\"T_c5d2b718_55a8_11eb_8679_30e37ac4ce02level0_row5\" class=\"row_heading level0 row5\" >5</th>\n",
       "                        <td id=\"T_c5d2b718_55a8_11eb_8679_30e37ac4ce02row5_col0\" class=\"data row5 col0\" >Ahmedabad</td>\n",
       "                        <td id=\"T_c5d2b718_55a8_11eb_8679_30e37ac4ce02row5_col1\" class=\"data row5 col1\" >2009</td>\n",
       "            </tr>\n",
       "            <tr>\n",
       "                        <th id=\"T_c5d2b718_55a8_11eb_8679_30e37ac4ce02level0_row6\" class=\"row_heading level0 row6\" >6</th>\n",
       "                        <td id=\"T_c5d2b718_55a8_11eb_8679_30e37ac4ce02row6_col0\" class=\"data row6 col0\" >Hyderabad</td>\n",
       "                        <td id=\"T_c5d2b718_55a8_11eb_8679_30e37ac4ce02row6_col1\" class=\"data row6 col1\" >2006</td>\n",
       "            </tr>\n",
       "            <tr>\n",
       "                        <th id=\"T_c5d2b718_55a8_11eb_8679_30e37ac4ce02level0_row7\" class=\"row_heading level0 row7\" >7</th>\n",
       "                        <td id=\"T_c5d2b718_55a8_11eb_8679_30e37ac4ce02row7_col0\" class=\"data row7 col0\" >Patna</td>\n",
       "                        <td id=\"T_c5d2b718_55a8_11eb_8679_30e37ac4ce02row7_col1\" class=\"data row7 col1\" >1858</td>\n",
       "            </tr>\n",
       "            <tr>\n",
       "                        <th id=\"T_c5d2b718_55a8_11eb_8679_30e37ac4ce02level0_row8\" class=\"row_heading level0 row8\" >8</th>\n",
       "                        <td id=\"T_c5d2b718_55a8_11eb_8679_30e37ac4ce02row8_col0\" class=\"data row8 col0\" >Gurugram</td>\n",
       "                        <td id=\"T_c5d2b718_55a8_11eb_8679_30e37ac4ce02row8_col1\" class=\"data row8 col1\" >1679</td>\n",
       "            </tr>\n",
       "            <tr>\n",
       "                        <th id=\"T_c5d2b718_55a8_11eb_8679_30e37ac4ce02level0_row9\" class=\"row_heading level0 row9\" >9</th>\n",
       "                        <td id=\"T_c5d2b718_55a8_11eb_8679_30e37ac4ce02row9_col0\" class=\"data row9 col0\" >Visakhapatnam</td>\n",
       "                        <td id=\"T_c5d2b718_55a8_11eb_8679_30e37ac4ce02row9_col1\" class=\"data row9 col1\" >1462</td>\n",
       "            </tr>\n",
       "            <tr>\n",
       "                        <th id=\"T_c5d2b718_55a8_11eb_8679_30e37ac4ce02level0_row10\" class=\"row_heading level0 row10\" >10</th>\n",
       "                        <td id=\"T_c5d2b718_55a8_11eb_8679_30e37ac4ce02row10_col0\" class=\"data row10 col0\" >Amritsar</td>\n",
       "                        <td id=\"T_c5d2b718_55a8_11eb_8679_30e37ac4ce02row10_col1\" class=\"data row10 col1\" >1221</td>\n",
       "            </tr>\n",
       "            <tr>\n",
       "                        <th id=\"T_c5d2b718_55a8_11eb_8679_30e37ac4ce02level0_row11\" class=\"row_heading level0 row11\" >11</th>\n",
       "                        <td id=\"T_c5d2b718_55a8_11eb_8679_30e37ac4ce02row11_col0\" class=\"data row11 col0\" >Jorapokhar</td>\n",
       "                        <td id=\"T_c5d2b718_55a8_11eb_8679_30e37ac4ce02row11_col1\" class=\"data row11 col1\" >1169</td>\n",
       "            </tr>\n",
       "            <tr>\n",
       "                        <th id=\"T_c5d2b718_55a8_11eb_8679_30e37ac4ce02level0_row12\" class=\"row_heading level0 row12\" >12</th>\n",
       "                        <td id=\"T_c5d2b718_55a8_11eb_8679_30e37ac4ce02row12_col0\" class=\"data row12 col0\" >Jaipur</td>\n",
       "                        <td id=\"T_c5d2b718_55a8_11eb_8679_30e37ac4ce02row12_col1\" class=\"data row12 col1\" >1114</td>\n",
       "            </tr>\n",
       "            <tr>\n",
       "                        <th id=\"T_c5d2b718_55a8_11eb_8679_30e37ac4ce02level0_row13\" class=\"row_heading level0 row13\" >13</th>\n",
       "                        <td id=\"T_c5d2b718_55a8_11eb_8679_30e37ac4ce02row13_col0\" class=\"data row13 col0\" >Thiruvananthapuram</td>\n",
       "                        <td id=\"T_c5d2b718_55a8_11eb_8679_30e37ac4ce02row13_col1\" class=\"data row13 col1\" >1112</td>\n",
       "            </tr>\n",
       "            <tr>\n",
       "                        <th id=\"T_c5d2b718_55a8_11eb_8679_30e37ac4ce02level0_row14\" class=\"row_heading level0 row14\" >14</th>\n",
       "                        <td id=\"T_c5d2b718_55a8_11eb_8679_30e37ac4ce02row14_col0\" class=\"data row14 col0\" >Amaravati</td>\n",
       "                        <td id=\"T_c5d2b718_55a8_11eb_8679_30e37ac4ce02row14_col1\" class=\"data row14 col1\" >951</td>\n",
       "            </tr>\n",
       "            <tr>\n",
       "                        <th id=\"T_c5d2b718_55a8_11eb_8679_30e37ac4ce02level0_row15\" class=\"row_heading level0 row15\" >15</th>\n",
       "                        <td id=\"T_c5d2b718_55a8_11eb_8679_30e37ac4ce02row15_col0\" class=\"data row15 col0\" >Brajrajnagar</td>\n",
       "                        <td id=\"T_c5d2b718_55a8_11eb_8679_30e37ac4ce02row15_col1\" class=\"data row15 col1\" >938</td>\n",
       "            </tr>\n",
       "            <tr>\n",
       "                        <th id=\"T_c5d2b718_55a8_11eb_8679_30e37ac4ce02level0_row16\" class=\"row_heading level0 row16\" >16</th>\n",
       "                        <td id=\"T_c5d2b718_55a8_11eb_8679_30e37ac4ce02row16_col0\" class=\"data row16 col0\" >Talcher</td>\n",
       "                        <td id=\"T_c5d2b718_55a8_11eb_8679_30e37ac4ce02row16_col1\" class=\"data row16 col1\" >925</td>\n",
       "            </tr>\n",
       "            <tr>\n",
       "                        <th id=\"T_c5d2b718_55a8_11eb_8679_30e37ac4ce02level0_row17\" class=\"row_heading level0 row17\" >17</th>\n",
       "                        <td id=\"T_c5d2b718_55a8_11eb_8679_30e37ac4ce02row17_col0\" class=\"data row17 col0\" >Kolkata</td>\n",
       "                        <td id=\"T_c5d2b718_55a8_11eb_8679_30e37ac4ce02row17_col1\" class=\"data row17 col1\" >814</td>\n",
       "            </tr>\n",
       "            <tr>\n",
       "                        <th id=\"T_c5d2b718_55a8_11eb_8679_30e37ac4ce02level0_row18\" class=\"row_heading level0 row18\" >18</th>\n",
       "                        <td id=\"T_c5d2b718_55a8_11eb_8679_30e37ac4ce02row18_col0\" class=\"data row18 col0\" >Guwahati</td>\n",
       "                        <td id=\"T_c5d2b718_55a8_11eb_8679_30e37ac4ce02row18_col1\" class=\"data row18 col1\" >502</td>\n",
       "            </tr>\n",
       "            <tr>\n",
       "                        <th id=\"T_c5d2b718_55a8_11eb_8679_30e37ac4ce02level0_row19\" class=\"row_heading level0 row19\" >19</th>\n",
       "                        <td id=\"T_c5d2b718_55a8_11eb_8679_30e37ac4ce02row19_col0\" class=\"data row19 col0\" >Coimbatore</td>\n",
       "                        <td id=\"T_c5d2b718_55a8_11eb_8679_30e37ac4ce02row19_col1\" class=\"data row19 col1\" >386</td>\n",
       "            </tr>\n",
       "            <tr>\n",
       "                        <th id=\"T_c5d2b718_55a8_11eb_8679_30e37ac4ce02level0_row20\" class=\"row_heading level0 row20\" >20</th>\n",
       "                        <td id=\"T_c5d2b718_55a8_11eb_8679_30e37ac4ce02row20_col0\" class=\"data row20 col0\" >Shillong</td>\n",
       "                        <td id=\"T_c5d2b718_55a8_11eb_8679_30e37ac4ce02row20_col1\" class=\"data row20 col1\" >310</td>\n",
       "            </tr>\n",
       "            <tr>\n",
       "                        <th id=\"T_c5d2b718_55a8_11eb_8679_30e37ac4ce02level0_row21\" class=\"row_heading level0 row21\" >21</th>\n",
       "                        <td id=\"T_c5d2b718_55a8_11eb_8679_30e37ac4ce02row21_col0\" class=\"data row21 col0\" >Chandigarh</td>\n",
       "                        <td id=\"T_c5d2b718_55a8_11eb_8679_30e37ac4ce02row21_col1\" class=\"data row21 col1\" >304</td>\n",
       "            </tr>\n",
       "            <tr>\n",
       "                        <th id=\"T_c5d2b718_55a8_11eb_8679_30e37ac4ce02level0_row22\" class=\"row_heading level0 row22\" >22</th>\n",
       "                        <td id=\"T_c5d2b718_55a8_11eb_8679_30e37ac4ce02row22_col0\" class=\"data row22 col0\" >Bhopal</td>\n",
       "                        <td id=\"T_c5d2b718_55a8_11eb_8679_30e37ac4ce02row22_col1\" class=\"data row22 col1\" >289</td>\n",
       "            </tr>\n",
       "            <tr>\n",
       "                        <th id=\"T_c5d2b718_55a8_11eb_8679_30e37ac4ce02level0_row23\" class=\"row_heading level0 row23\" >23</th>\n",
       "                        <td id=\"T_c5d2b718_55a8_11eb_8679_30e37ac4ce02row23_col0\" class=\"data row23 col0\" >Ernakulam</td>\n",
       "                        <td id=\"T_c5d2b718_55a8_11eb_8679_30e37ac4ce02row23_col1\" class=\"data row23 col1\" >162</td>\n",
       "            </tr>\n",
       "            <tr>\n",
       "                        <th id=\"T_c5d2b718_55a8_11eb_8679_30e37ac4ce02level0_row24\" class=\"row_heading level0 row24\" >24</th>\n",
       "                        <td id=\"T_c5d2b718_55a8_11eb_8679_30e37ac4ce02row24_col0\" class=\"data row24 col0\" >Kochi</td>\n",
       "                        <td id=\"T_c5d2b718_55a8_11eb_8679_30e37ac4ce02row24_col1\" class=\"data row24 col1\" >162</td>\n",
       "            </tr>\n",
       "            <tr>\n",
       "                        <th id=\"T_c5d2b718_55a8_11eb_8679_30e37ac4ce02level0_row25\" class=\"row_heading level0 row25\" >25</th>\n",
       "                        <td id=\"T_c5d2b718_55a8_11eb_8679_30e37ac4ce02row25_col0\" class=\"data row25 col0\" >Aizawl</td>\n",
       "                        <td id=\"T_c5d2b718_55a8_11eb_8679_30e37ac4ce02row25_col1\" class=\"data row25 col1\" >113</td>\n",
       "            </tr>\n",
       "    </tbody></table>"
      ],
      "text/plain": [
       "<pandas.io.formats.style.Styler at 0x1e79ef9d288>"
      ]
     },
     "execution_count": 20,
     "metadata": {},
     "output_type": "execute_result"
    }
   ],
   "source": [
    "cities = pd.DataFrame({\n",
    "    'City': ct.index,\n",
    "    'Value Counts': ct.values\n",
    "})\n",
    "cities.style.background_gradient(cmap='Blues')"
   ]
  },
  {
   "cell_type": "code",
   "execution_count": 21,
   "metadata": {},
   "outputs": [],
   "source": [
    "mv = city_day_df.isnull().sum()"
   ]
  },
  {
   "cell_type": "code",
   "execution_count": 22,
   "metadata": {},
   "outputs": [
    {
     "data": {
      "text/plain": [
       "City              0\n",
       "Date              0\n",
       "PM2.5          4598\n",
       "PM10          11140\n",
       "NO             3582\n",
       "NO2            3585\n",
       "NOx            4185\n",
       "NH3           10328\n",
       "CO             2059\n",
       "SO2            3854\n",
       "O3             4022\n",
       "Benzene        5623\n",
       "Toluene        8041\n",
       "Xylene        18109\n",
       "AQI            4681\n",
       "AQI_Bucket     4681\n",
       "dtype: int64"
      ]
     },
     "execution_count": 22,
     "metadata": {},
     "output_type": "execute_result"
    }
   ],
   "source": [
    "mv"
   ]
  },
  {
   "cell_type": "code",
   "execution_count": 23,
   "metadata": {},
   "outputs": [
    {
     "data": {
      "text/plain": [
       "pandas.core.series.Series"
      ]
     },
     "execution_count": 23,
     "metadata": {},
     "output_type": "execute_result"
    }
   ],
   "source": [
    "type(mv)"
   ]
  },
  {
   "cell_type": "code",
   "execution_count": 24,
   "metadata": {},
   "outputs": [
    {
     "data": {
      "text/plain": [
       "Mumbai                2009\n",
       "Delhi                 2009\n",
       "Chennai               2009\n",
       "Bengaluru             2009\n",
       "Lucknow               2009\n",
       "Ahmedabad             2009\n",
       "Hyderabad             2006\n",
       "Patna                 1858\n",
       "Gurugram              1679\n",
       "Visakhapatnam         1462\n",
       "Amritsar              1221\n",
       "Jorapokhar            1169\n",
       "Jaipur                1114\n",
       "Thiruvananthapuram    1112\n",
       "Amaravati              951\n",
       "Brajrajnagar           938\n",
       "Talcher                925\n",
       "Kolkata                814\n",
       "Guwahati               502\n",
       "Coimbatore             386\n",
       "Shillong               310\n",
       "Chandigarh             304\n",
       "Bhopal                 289\n",
       "Ernakulam              162\n",
       "Kochi                  162\n",
       "Aizawl                 113\n",
       "Name: City, dtype: int64"
      ]
     },
     "execution_count": 24,
     "metadata": {},
     "output_type": "execute_result"
    }
   ],
   "source": [
    "ct"
   ]
  },
  {
   "cell_type": "code",
   "execution_count": 25,
   "metadata": {},
   "outputs": [],
   "source": [
    "cities = pd.DataFrame({\n",
    "    'City': ct.index,\n",
    "    'Value Counts': ct.values\n",
    "})\n",
    "cities = cities.style.hide_index()\n",
    "#cities.style.background_gradient(cmap=\"Blues\")"
   ]
  },
  {
   "cell_type": "code",
   "execution_count": 26,
   "metadata": {},
   "outputs": [
    {
     "data": {
      "text/plain": [
       "pandas.io.formats.style.Styler"
      ]
     },
     "execution_count": 26,
     "metadata": {},
     "output_type": "execute_result"
    }
   ],
   "source": [
    "type(cities)"
   ]
  },
  {
   "cell_type": "code",
   "execution_count": 27,
   "metadata": {},
   "outputs": [],
   "source": [
    "pollutants = ['PM2.5', 'PM10', 'NO2', 'CO', 'SO2', 'O3']"
   ]
  },
  {
   "cell_type": "code",
   "execution_count": 28,
   "metadata": {},
   "outputs": [],
   "source": [
    "city_day_df['Date'] = pd.to_datetime(city_day_df['Date'])"
   ]
  },
  {
   "cell_type": "code",
   "execution_count": 29,
   "metadata": {},
   "outputs": [
    {
     "name": "stdout",
     "output_type": "stream",
     "text": [
      "<class 'pandas.core.frame.DataFrame'>\n",
      "RangeIndex: 29531 entries, 0 to 29530\n",
      "Data columns (total 16 columns):\n",
      " #   Column      Non-Null Count  Dtype         \n",
      "---  ------      --------------  -----         \n",
      " 0   City        29531 non-null  object        \n",
      " 1   Date        29531 non-null  datetime64[ns]\n",
      " 2   PM2.5       24933 non-null  float64       \n",
      " 3   PM10        18391 non-null  float64       \n",
      " 4   NO          25949 non-null  float64       \n",
      " 5   NO2         25946 non-null  float64       \n",
      " 6   NOx         25346 non-null  float64       \n",
      " 7   NH3         19203 non-null  float64       \n",
      " 8   CO          27472 non-null  float64       \n",
      " 9   SO2         25677 non-null  float64       \n",
      " 10  O3          25509 non-null  float64       \n",
      " 11  Benzene     23908 non-null  float64       \n",
      " 12  Toluene     21490 non-null  float64       \n",
      " 13  Xylene      11422 non-null  float64       \n",
      " 14  AQI         24850 non-null  float64       \n",
      " 15  AQI_Bucket  24850 non-null  object        \n",
      "dtypes: datetime64[ns](1), float64(13), object(2)\n",
      "memory usage: 3.6+ MB\n"
     ]
    }
   ],
   "source": [
    "city_day_df.info()"
   ]
  },
  {
   "cell_type": "code",
   "execution_count": 30,
   "metadata": {},
   "outputs": [
    {
     "data": {
      "text/html": [
       "<div>\n",
       "<style scoped>\n",
       "    .dataframe tbody tr th:only-of-type {\n",
       "        vertical-align: middle;\n",
       "    }\n",
       "\n",
       "    .dataframe tbody tr th {\n",
       "        vertical-align: top;\n",
       "    }\n",
       "\n",
       "    .dataframe thead th {\n",
       "        text-align: right;\n",
       "    }\n",
       "</style>\n",
       "<table border=\"1\" class=\"dataframe\">\n",
       "  <thead>\n",
       "    <tr style=\"text-align: right;\">\n",
       "      <th></th>\n",
       "      <th>City</th>\n",
       "      <th>Date</th>\n",
       "      <th>PM2.5</th>\n",
       "      <th>PM10</th>\n",
       "      <th>NO</th>\n",
       "      <th>NO2</th>\n",
       "      <th>NOx</th>\n",
       "      <th>NH3</th>\n",
       "      <th>CO</th>\n",
       "      <th>SO2</th>\n",
       "      <th>O3</th>\n",
       "      <th>Benzene</th>\n",
       "      <th>Toluene</th>\n",
       "      <th>Xylene</th>\n",
       "      <th>AQI</th>\n",
       "      <th>AQI_Bucket</th>\n",
       "      <th>Year</th>\n",
       "      <th>Month</th>\n",
       "    </tr>\n",
       "  </thead>\n",
       "  <tbody>\n",
       "    <tr>\n",
       "      <th>0</th>\n",
       "      <td>Ahmedabad</td>\n",
       "      <td>2015-01-01</td>\n",
       "      <td>NaN</td>\n",
       "      <td>NaN</td>\n",
       "      <td>0.92</td>\n",
       "      <td>18.22</td>\n",
       "      <td>17.15</td>\n",
       "      <td>NaN</td>\n",
       "      <td>0.92</td>\n",
       "      <td>27.64</td>\n",
       "      <td>133.36</td>\n",
       "      <td>0.00</td>\n",
       "      <td>0.02</td>\n",
       "      <td>0.00</td>\n",
       "      <td>NaN</td>\n",
       "      <td>NaN</td>\n",
       "      <td>2015</td>\n",
       "      <td>1</td>\n",
       "    </tr>\n",
       "    <tr>\n",
       "      <th>1</th>\n",
       "      <td>Ahmedabad</td>\n",
       "      <td>2015-01-02</td>\n",
       "      <td>NaN</td>\n",
       "      <td>NaN</td>\n",
       "      <td>0.97</td>\n",
       "      <td>15.69</td>\n",
       "      <td>16.46</td>\n",
       "      <td>NaN</td>\n",
       "      <td>0.97</td>\n",
       "      <td>24.55</td>\n",
       "      <td>34.06</td>\n",
       "      <td>3.68</td>\n",
       "      <td>5.50</td>\n",
       "      <td>3.77</td>\n",
       "      <td>NaN</td>\n",
       "      <td>NaN</td>\n",
       "      <td>2015</td>\n",
       "      <td>1</td>\n",
       "    </tr>\n",
       "    <tr>\n",
       "      <th>2</th>\n",
       "      <td>Ahmedabad</td>\n",
       "      <td>2015-01-03</td>\n",
       "      <td>NaN</td>\n",
       "      <td>NaN</td>\n",
       "      <td>17.40</td>\n",
       "      <td>19.30</td>\n",
       "      <td>29.70</td>\n",
       "      <td>NaN</td>\n",
       "      <td>17.40</td>\n",
       "      <td>29.07</td>\n",
       "      <td>30.70</td>\n",
       "      <td>6.80</td>\n",
       "      <td>16.40</td>\n",
       "      <td>2.25</td>\n",
       "      <td>NaN</td>\n",
       "      <td>NaN</td>\n",
       "      <td>2015</td>\n",
       "      <td>1</td>\n",
       "    </tr>\n",
       "    <tr>\n",
       "      <th>3</th>\n",
       "      <td>Ahmedabad</td>\n",
       "      <td>2015-01-04</td>\n",
       "      <td>NaN</td>\n",
       "      <td>NaN</td>\n",
       "      <td>1.70</td>\n",
       "      <td>18.48</td>\n",
       "      <td>17.97</td>\n",
       "      <td>NaN</td>\n",
       "      <td>1.70</td>\n",
       "      <td>18.59</td>\n",
       "      <td>36.08</td>\n",
       "      <td>4.43</td>\n",
       "      <td>10.14</td>\n",
       "      <td>1.00</td>\n",
       "      <td>NaN</td>\n",
       "      <td>NaN</td>\n",
       "      <td>2015</td>\n",
       "      <td>1</td>\n",
       "    </tr>\n",
       "    <tr>\n",
       "      <th>4</th>\n",
       "      <td>Ahmedabad</td>\n",
       "      <td>2015-01-05</td>\n",
       "      <td>NaN</td>\n",
       "      <td>NaN</td>\n",
       "      <td>22.10</td>\n",
       "      <td>21.42</td>\n",
       "      <td>37.76</td>\n",
       "      <td>NaN</td>\n",
       "      <td>22.10</td>\n",
       "      <td>39.33</td>\n",
       "      <td>39.31</td>\n",
       "      <td>7.01</td>\n",
       "      <td>18.89</td>\n",
       "      <td>2.78</td>\n",
       "      <td>NaN</td>\n",
       "      <td>NaN</td>\n",
       "      <td>2015</td>\n",
       "      <td>1</td>\n",
       "    </tr>\n",
       "  </tbody>\n",
       "</table>\n",
       "</div>"
      ],
      "text/plain": [
       "        City       Date  PM2.5  PM10     NO    NO2    NOx  NH3     CO    SO2  \\\n",
       "0  Ahmedabad 2015-01-01    NaN   NaN   0.92  18.22  17.15  NaN   0.92  27.64   \n",
       "1  Ahmedabad 2015-01-02    NaN   NaN   0.97  15.69  16.46  NaN   0.97  24.55   \n",
       "2  Ahmedabad 2015-01-03    NaN   NaN  17.40  19.30  29.70  NaN  17.40  29.07   \n",
       "3  Ahmedabad 2015-01-04    NaN   NaN   1.70  18.48  17.97  NaN   1.70  18.59   \n",
       "4  Ahmedabad 2015-01-05    NaN   NaN  22.10  21.42  37.76  NaN  22.10  39.33   \n",
       "\n",
       "       O3  Benzene  Toluene  Xylene  AQI AQI_Bucket  Year  Month  \n",
       "0  133.36     0.00     0.02    0.00  NaN        NaN  2015      1  \n",
       "1   34.06     3.68     5.50    3.77  NaN        NaN  2015      1  \n",
       "2   30.70     6.80    16.40    2.25  NaN        NaN  2015      1  \n",
       "3   36.08     4.43    10.14    1.00  NaN        NaN  2015      1  \n",
       "4   39.31     7.01    18.89    2.78  NaN        NaN  2015      1  "
      ]
     },
     "execution_count": 30,
     "metadata": {},
     "output_type": "execute_result"
    }
   ],
   "source": [
    "city_day_df['Year'] = pd.DatetimeIndex(city_day_df['Date']).year\n",
    "city_day_df['Month'] = pd.DatetimeIndex(city_day_df['Date']).month\n",
    "city_day_df.head()"
   ]
  },
  {
   "cell_type": "code",
   "execution_count": 31,
   "metadata": {},
   "outputs": [],
   "source": [
    "city_day_df.set_index('Date', inplace=True)"
   ]
  },
  {
   "cell_type": "code",
   "execution_count": 32,
   "metadata": {},
   "outputs": [
    {
     "data": {
      "image/png": "[encoded data removed]",
      "text/plain": [
       "<Figure size 1152x1296 with 6 Axes>"
      ]
     },
     "metadata": {
      "needs_background": "light"
     },
     "output_type": "display_data"
    }
   ],
   "source": [
    "axes = city_day_df[pollutants].plot(marker=',', linestyle='None', figsize=(16,18), subplots=True)\n",
    "for ax in axes:\n",
    "    ax.set_xlabel('Years')\n",
    "    ax.set_ylabel('ug / m3')"
   ]
  },
  {
   "cell_type": "code",
   "execution_count": 33,
   "metadata": {},
   "outputs": [
    {
     "data": {
      "image/png": "[encoded data removed]",
      "text/plain": [
       "<Figure size 1080x360 with 1 Axes>"
      ]
     },
     "metadata": {
      "needs_background": "light"
     },
     "output_type": "display_data"
    }
   ],
   "source": [
    "ax.set_xlabel('Years')\n",
    "ax.set_ylabel('ug / m3')\n",
    "ax = city_day_df['PM2.5'].plot(marker=',', c = 'b', linestyle='None', figsize=(15,5), alpha=0.5);"
   ]
  },
  {
   "cell_type": "code",
   "execution_count": 34,
   "metadata": {},
   "outputs": [
    {
     "data": {
      "image/png": "[encoded data removed]",
      "text/plain": [
       "<Figure size 1080x360 with 1 Axes>"
      ]
     },
     "metadata": {
      "needs_background": "light"
     },
     "output_type": "display_data"
    }
   ],
   "source": [
    "ax = city_day_df['PM10'].plot(marker=',', c='g', linestyle='None', figsize=(15,5), alpha=0.5);"
   ]
  },
  {
   "cell_type": "code",
   "execution_count": 35,
   "metadata": {},
   "outputs": [],
   "source": [
    "def show_year_plot(df, value, c):\n",
    "    ax = df[value].plot(marker='o', c=c, linestyle='None', figsize=(15,5), alpha=0.3, legend=True)\n",
    "    ax.set_xlabel('Years')\n",
    "    ax.set_ylabel('ug / m3')"
   ]
  },
  {
   "cell_type": "code",
   "execution_count": 36,
   "metadata": {},
   "outputs": [
    {
     "data": {
      "image/png": "[encoded data removed]",
      "text/plain": [
       "<Figure size 1080x360 with 1 Axes>"
      ]
     },
     "metadata": {
      "needs_background": "light"
     },
     "output_type": "display_data"
    }
   ],
   "source": [
    "show_year_plot(city_day_df, 'PM2.5', 'g')"
   ]
  },
  {
   "cell_type": "code",
   "execution_count": 37,
   "metadata": {},
   "outputs": [
    {
     "data": {
      "image/png": "[encoded data removed]",
      "text/plain": [
       "<Figure size 1080x360 with 1 Axes>"
      ]
     },
     "metadata": {
      "needs_background": "light"
     },
     "output_type": "display_data"
    }
   ],
   "source": [
    "show_year_plot(city_day_df, 'NO2', 'b')"
   ]
  },
  {
   "cell_type": "code",
   "execution_count": 38,
   "metadata": {},
   "outputs": [],
   "source": [
    "def show_trend_plot(value):\n",
    "    sns.set_style('darkgrid')\n",
    "    fig, axes = plt.subplots(1, 2, figsize=(15,5), dpi=80)\n",
    "    sns.boxplot(x='Year', y=value, data=city_day_df, ax=axes[0])\n",
    "    sns.pointplot(x='Month', y=value, data=city_day_df, ax=axes[1])"
   ]
  },
  {
   "cell_type": "code",
   "execution_count": 39,
   "metadata": {},
   "outputs": [
    {
     "data": {
      "image/png": "[encoded data removed]",
      "text/plain": [
       "<Figure size 1200x400 with 2 Axes>"
      ]
     },
     "metadata": {},
     "output_type": "display_data"
    }
   ],
   "source": [
    "show_trend_plot('PM2.5')"
   ]
  },
  {
   "cell_type": "code",
   "execution_count": 52,
   "metadata": {},
   "outputs": [
    {
     "data": {
      "text/html": [
       "<style  type=\"text/css\" >\n",
       "    #T_19b3fdf6_55ae_11eb_b0ae_30e37ac4ce02row0_col0 {\n",
       "            background-color:  #7f2704;\n",
       "            color:  #f1f1f1;\n",
       "        }    #T_19b3fdf6_55ae_11eb_b0ae_30e37ac4ce02row1_col0 {\n",
       "            background-color:  #9e3303;\n",
       "            color:  #f1f1f1;\n",
       "        }    #T_19b3fdf6_55ae_11eb_b0ae_30e37ac4ce02row2_col0 {\n",
       "            background-color:  #9f3303;\n",
       "            color:  #f1f1f1;\n",
       "        }    #T_19b3fdf6_55ae_11eb_b0ae_30e37ac4ce02row3_col0 {\n",
       "            background-color:  #cd4401;\n",
       "            color:  #f1f1f1;\n",
       "        }    #T_19b3fdf6_55ae_11eb_b0ae_30e37ac4ce02row4_col0 {\n",
       "            background-color:  #fee9d3;\n",
       "            color:  #000000;\n",
       "        }    #T_19b3fdf6_55ae_11eb_b0ae_30e37ac4ce02row5_col0 {\n",
       "            background-color:  #ffefe0;\n",
       "            color:  #000000;\n",
       "        }    #T_19b3fdf6_55ae_11eb_b0ae_30e37ac4ce02row6_col0 {\n",
       "            background-color:  #fff0e1;\n",
       "            color:  #000000;\n",
       "        }    #T_19b3fdf6_55ae_11eb_b0ae_30e37ac4ce02row7_col0 {\n",
       "            background-color:  #fff0e2;\n",
       "            color:  #000000;\n",
       "        }    #T_19b3fdf6_55ae_11eb_b0ae_30e37ac4ce02row8_col0 {\n",
       "            background-color:  #fff1e3;\n",
       "            color:  #000000;\n",
       "        }    #T_19b3fdf6_55ae_11eb_b0ae_30e37ac4ce02row9_col0 {\n",
       "            background-color:  #fff5eb;\n",
       "            color:  #000000;\n",
       "        }</style><table id=\"T_19b3fdf6_55ae_11eb_b0ae_30e37ac4ce02\" ><thead>    <tr>        <th class=\"blank level0\" ></th>        <th class=\"col_heading level0 col0\" >PM2.5</th>    </tr>    <tr>        <th class=\"index_name level0\" >City</th>        <th class=\"blank\" ></th>    </tr></thead><tbody>\n",
       "                <tr>\n",
       "                        <th id=\"T_19b3fdf6_55ae_11eb_b0ae_30e37ac4ce02level0_row0\" class=\"row_heading level0 row0\" >Patna</th>\n",
       "                        <td id=\"T_19b3fdf6_55ae_11eb_b0ae_30e37ac4ce02row0_col0\" class=\"data row0 col0\" >123.498562</td>\n",
       "            </tr>\n",
       "            <tr>\n",
       "                        <th id=\"T_19b3fdf6_55ae_11eb_b0ae_30e37ac4ce02level0_row1\" class=\"row_heading level0 row1\" >Delhi</th>\n",
       "                        <td id=\"T_19b3fdf6_55ae_11eb_b0ae_30e37ac4ce02row1_col0\" class=\"data row1 col0\" >117.196153</td>\n",
       "            </tr>\n",
       "            <tr>\n",
       "                        <th id=\"T_19b3fdf6_55ae_11eb_b0ae_30e37ac4ce02level0_row2\" class=\"row_heading level0 row2\" >Gurugram</th>\n",
       "                        <td id=\"T_19b3fdf6_55ae_11eb_b0ae_30e37ac4ce02row2_col0\" class=\"data row2 col0\" >117.104007</td>\n",
       "            </tr>\n",
       "            <tr>\n",
       "                        <th id=\"T_19b3fdf6_55ae_11eb_b0ae_30e37ac4ce02level0_row3\" class=\"row_heading level0 row3\" >Lucknow</th>\n",
       "                        <td id=\"T_19b3fdf6_55ae_11eb_b0ae_30e37ac4ce02row3_col0\" class=\"data row3 col0\" >109.714059</td>\n",
       "            </tr>\n",
       "            <tr>\n",
       "                        <th id=\"T_19b3fdf6_55ae_11eb_b0ae_30e37ac4ce02level0_row4\" class=\"row_heading level0 row4\" >Ahmedabad</th>\n",
       "                        <td id=\"T_19b3fdf6_55ae_11eb_b0ae_30e37ac4ce02row4_col0\" class=\"data row4 col0\" >67.854497</td>\n",
       "            </tr>\n",
       "            <tr>\n",
       "                        <th id=\"T_19b3fdf6_55ae_11eb_b0ae_30e37ac4ce02level0_row5\" class=\"row_heading level0 row5\" >Kolkata</th>\n",
       "                        <td id=\"T_19b3fdf6_55ae_11eb_b0ae_30e37ac4ce02row5_col0\" class=\"data row5 col0\" >64.362833</td>\n",
       "            </tr>\n",
       "            <tr>\n",
       "                        <th id=\"T_19b3fdf6_55ae_11eb_b0ae_30e37ac4ce02level0_row6\" class=\"row_heading level0 row6\" >Jorapokhar</th>\n",
       "                        <td id=\"T_19b3fdf6_55ae_11eb_b0ae_30e37ac4ce02row6_col0\" class=\"data row6 col0\" >64.228918</td>\n",
       "            </tr>\n",
       "            <tr>\n",
       "                        <th id=\"T_19b3fdf6_55ae_11eb_b0ae_30e37ac4ce02level0_row7\" class=\"row_heading level0 row7\" >Brajrajnagar</th>\n",
       "                        <td id=\"T_19b3fdf6_55ae_11eb_b0ae_30e37ac4ce02row7_col0\" class=\"data row7 col0\" >64.057610</td>\n",
       "            </tr>\n",
       "            <tr>\n",
       "                        <th id=\"T_19b3fdf6_55ae_11eb_b0ae_30e37ac4ce02level0_row8\" class=\"row_heading level0 row8\" >Guwahati</th>\n",
       "                        <td id=\"T_19b3fdf6_55ae_11eb_b0ae_30e37ac4ce02row8_col0\" class=\"data row8 col0\" >63.685429</td>\n",
       "            </tr>\n",
       "            <tr>\n",
       "                        <th id=\"T_19b3fdf6_55ae_11eb_b0ae_30e37ac4ce02level0_row9\" class=\"row_heading level0 row9\" >Talcher</th>\n",
       "                        <td id=\"T_19b3fdf6_55ae_11eb_b0ae_30e37ac4ce02row9_col0\" class=\"data row9 col0\" >61.405425</td>\n",
       "            </tr>\n",
       "    </tbody></table>"
      ],
      "text/plain": [
       "<pandas.io.formats.style.Styler at 0x1e7a04b11c8>"
      ]
     },
     "execution_count": 52,
     "metadata": {},
     "output_type": "execute_result"
    }
   ],
   "source": [
    "# List of polluted cities, accordinng to pollutant\n",
    "df1 = city_day_df[['PM2.5', 'City']].groupby(['City']).mean().sort_values(by='PM2.5', ascending=False)\n",
    "df1[:10].style.background_gradient('Oranges')"
   ]
  },
  {
   "cell_type": "code",
   "execution_count": 47,
   "metadata": {},
   "outputs": [
    {
     "data": {
      "text/plain": [
       "pandas.core.frame.DataFrame"
      ]
     },
     "execution_count": 47,
     "metadata": {},
     "output_type": "execute_result"
    }
   ],
   "source": [
    "type(df1)"
   ]
  },
  {
   "cell_type": "code",
   "execution_count": 68,
   "metadata": {},
   "outputs": [],
   "source": [
    "# Create a function to show most polluted cities, according to pollutant\n",
    "def top_cities_pollutant(value):\n",
    "    df1 = city_day_df[[value, 'City']].groupby(['City']).mean().sort_values(by=value, ascending=False).reset_index()\n",
    "    return df1[:10].style.background_gradient(cmap='Oranges')"
   ]
  },
  {
   "cell_type": "code",
   "execution_count": 69,
   "metadata": {},
   "outputs": [
    {
     "data": {
      "text/html": [
       "<style  type=\"text/css\" >\n",
       "    #T_8ecd89c0_55b5_11eb_9264_30e37ac4ce02row0_col1 {\n",
       "            background-color:  #7f2704;\n",
       "            color:  #f1f1f1;\n",
       "        }    #T_8ecd89c0_55b5_11eb_9264_30e37ac4ce02row1_col1 {\n",
       "            background-color:  #ed6310;\n",
       "            color:  #000000;\n",
       "        }    #T_8ecd89c0_55b5_11eb_9264_30e37ac4ce02row2_col1 {\n",
       "            background-color:  #fda057;\n",
       "            color:  #000000;\n",
       "        }    #T_8ecd89c0_55b5_11eb_9264_30e37ac4ce02row3_col1 {\n",
       "            background-color:  #fdc590;\n",
       "            color:  #000000;\n",
       "        }    #T_8ecd89c0_55b5_11eb_9264_30e37ac4ce02row4_col1 {\n",
       "            background-color:  #feead5;\n",
       "            color:  #000000;\n",
       "        }    #T_8ecd89c0_55b5_11eb_9264_30e37ac4ce02row5_col1 {\n",
       "            background-color:  #feeddb;\n",
       "            color:  #000000;\n",
       "        }    #T_8ecd89c0_55b5_11eb_9264_30e37ac4ce02row6_col1 {\n",
       "            background-color:  #feeddc;\n",
       "            color:  #000000;\n",
       "        }    #T_8ecd89c0_55b5_11eb_9264_30e37ac4ce02row7_col1 {\n",
       "            background-color:  #fff1e4;\n",
       "            color:  #000000;\n",
       "        }    #T_8ecd89c0_55b5_11eb_9264_30e37ac4ce02row8_col1 {\n",
       "            background-color:  #fff4e9;\n",
       "            color:  #000000;\n",
       "        }    #T_8ecd89c0_55b5_11eb_9264_30e37ac4ce02row9_col1 {\n",
       "            background-color:  #fff5eb;\n",
       "            color:  #000000;\n",
       "        }</style><table id=\"T_8ecd89c0_55b5_11eb_9264_30e37ac4ce02\" ><thead>    <tr>        <th class=\"blank level0\" ></th>        <th class=\"col_heading level0 col0\" >City</th>        <th class=\"col_heading level0 col1\" >PM10</th>    </tr></thead><tbody>\n",
       "                <tr>\n",
       "                        <th id=\"T_8ecd89c0_55b5_11eb_9264_30e37ac4ce02level0_row0\" class=\"row_heading level0 row0\" >0</th>\n",
       "                        <td id=\"T_8ecd89c0_55b5_11eb_9264_30e37ac4ce02row0_col0\" class=\"data row0 col0\" >Delhi</td>\n",
       "                        <td id=\"T_8ecd89c0_55b5_11eb_9264_30e37ac4ce02row0_col1\" class=\"data row0 col1\" >232.809229</td>\n",
       "            </tr>\n",
       "            <tr>\n",
       "                        <th id=\"T_8ecd89c0_55b5_11eb_9264_30e37ac4ce02level0_row1\" class=\"row_heading level0 row1\" >1</th>\n",
       "                        <td id=\"T_8ecd89c0_55b5_11eb_9264_30e37ac4ce02row1_col0\" class=\"data row1 col0\" >Gurugram</td>\n",
       "                        <td id=\"T_8ecd89c0_55b5_11eb_9264_30e37ac4ce02row1_col1\" class=\"data row1 col1\" >191.504432</td>\n",
       "            </tr>\n",
       "            <tr>\n",
       "                        <th id=\"T_8ecd89c0_55b5_11eb_9264_30e37ac4ce02level0_row2\" class=\"row_heading level0 row2\" >2</th>\n",
       "                        <td id=\"T_8ecd89c0_55b5_11eb_9264_30e37ac4ce02row2_col0\" class=\"data row2 col0\" >Talcher</td>\n",
       "                        <td id=\"T_8ecd89c0_55b5_11eb_9264_30e37ac4ce02row2_col1\" class=\"data row2 col1\" >165.772708</td>\n",
       "            </tr>\n",
       "            <tr>\n",
       "                        <th id=\"T_8ecd89c0_55b5_11eb_9264_30e37ac4ce02level0_row3\" class=\"row_heading level0 row3\" >3</th>\n",
       "                        <td id=\"T_8ecd89c0_55b5_11eb_9264_30e37ac4ce02row3_col0\" class=\"data row3 col0\" >Jorapokhar</td>\n",
       "                        <td id=\"T_8ecd89c0_55b5_11eb_9264_30e37ac4ce02row3_col1\" class=\"data row3 col1\" >149.657942</td>\n",
       "            </tr>\n",
       "            <tr>\n",
       "                        <th id=\"T_8ecd89c0_55b5_11eb_9264_30e37ac4ce02level0_row4\" class=\"row_heading level0 row4\" >4</th>\n",
       "                        <td id=\"T_8ecd89c0_55b5_11eb_9264_30e37ac4ce02row4_col0\" class=\"data row4 col0\" >Patna</td>\n",
       "                        <td id=\"T_8ecd89c0_55b5_11eb_9264_30e37ac4ce02row4_col1\" class=\"data row4 col1\" >126.747958</td>\n",
       "            </tr>\n",
       "            <tr>\n",
       "                        <th id=\"T_8ecd89c0_55b5_11eb_9264_30e37ac4ce02level0_row5\" class=\"row_heading level0 row5\" >5</th>\n",
       "                        <td id=\"T_8ecd89c0_55b5_11eb_9264_30e37ac4ce02row5_col0\" class=\"data row5 col0\" >Brajrajnagar</td>\n",
       "                        <td id=\"T_8ecd89c0_55b5_11eb_9264_30e37ac4ce02row5_col1\" class=\"data row5 col1\" >124.217373</td>\n",
       "            </tr>\n",
       "            <tr>\n",
       "                        <th id=\"T_8ecd89c0_55b5_11eb_9264_30e37ac4ce02level0_row6\" class=\"row_heading level0 row6\" >6</th>\n",
       "                        <td id=\"T_8ecd89c0_55b5_11eb_9264_30e37ac4ce02row6_col0\" class=\"data row6 col0\" >Jaipur</td>\n",
       "                        <td id=\"T_8ecd89c0_55b5_11eb_9264_30e37ac4ce02row6_col1\" class=\"data row6 col1\" >123.483509</td>\n",
       "            </tr>\n",
       "            <tr>\n",
       "                        <th id=\"T_8ecd89c0_55b5_11eb_9264_30e37ac4ce02level0_row7\" class=\"row_heading level0 row7\" >7</th>\n",
       "                        <td id=\"T_8ecd89c0_55b5_11eb_9264_30e37ac4ce02row7_col0\" class=\"data row7 col0\" >Bhopal</td>\n",
       "                        <td id=\"T_8ecd89c0_55b5_11eb_9264_30e37ac4ce02row7_col1\" class=\"data row7 col1\" >119.324321</td>\n",
       "            </tr>\n",
       "            <tr>\n",
       "                        <th id=\"T_8ecd89c0_55b5_11eb_9264_30e37ac4ce02level0_row8\" class=\"row_heading level0 row8\" >8</th>\n",
       "                        <td id=\"T_8ecd89c0_55b5_11eb_9264_30e37ac4ce02row8_col0\" class=\"data row8 col0\" >Guwahati</td>\n",
       "                        <td id=\"T_8ecd89c0_55b5_11eb_9264_30e37ac4ce02row8_col1\" class=\"data row8 col1\" >116.604900</td>\n",
       "            </tr>\n",
       "            <tr>\n",
       "                        <th id=\"T_8ecd89c0_55b5_11eb_9264_30e37ac4ce02level0_row9\" class=\"row_heading level0 row9\" >9</th>\n",
       "                        <td id=\"T_8ecd89c0_55b5_11eb_9264_30e37ac4ce02row9_col0\" class=\"data row9 col0\" >Kolkata</td>\n",
       "                        <td id=\"T_8ecd89c0_55b5_11eb_9264_30e37ac4ce02row9_col1\" class=\"data row9 col1\" >115.629499</td>\n",
       "            </tr>\n",
       "    </tbody></table>"
      ],
      "text/plain": [
       "<pandas.io.formats.style.Styler at 0x1e7a04d3f08>"
      ]
     },
     "execution_count": 69,
     "metadata": {},
     "output_type": "execute_result"
    }
   ],
   "source": [
    "pm10 = top_cities_pollutant('PM10')\n",
    "pm10"
   ]
  },
  {
   "cell_type": "code",
   "execution_count": 79,
   "metadata": {},
   "outputs": [
    {
     "name": "stdout",
     "output_type": "stream",
     "text": [
      "Requirement already satisfied: plotly in c:\\users\\user\\anaconda3\\lib\\site-packages (4.9.0)\n",
      "Requirement already satisfied: six in c:\\users\\user\\anaconda3\\lib\\site-packages (from plotly) (1.14.0)\n",
      "Requirement already satisfied: retrying>=1.3.3 in c:\\users\\user\\anaconda3\\lib\\site-packages (from plotly) (1.3.3)\n",
      "Requirement already satisfied: six in c:\\users\\user\\anaconda3\\lib\\site-packages (from plotly) (1.14.0)\n"
     ]
    },
    {
     "name": "stderr",
     "output_type": "stream",
     "text": [
      "WARNING: You are using pip version 20.3.1; however, version 20.3.3 is available.\n",
      "You should consider upgrading via the 'c:\\users\\user\\anaconda3\\python.exe -m pip install --upgrade pip' command.\n"
     ]
    }
   ],
   "source": [
    "!pip install plotly"
   ]
  },
  {
   "cell_type": "code",
   "execution_count": 84,
   "metadata": {},
   "outputs": [],
   "source": [
    "from plotly.subplots import make_subplots\n",
    "import plotly.graph_objects as go"
   ]
  },
  {
   "cell_type": "code",
   "execution_count": 103,
   "metadata": {},
   "outputs": [],
   "source": [
    "def top_cities_graph(value):\n",
    "    df2 = city_day_df[[value, 'City']].groupby(['City']).mean().sort_values(by=value, ascending=False).reset_index()\n",
    "    df3 = df2[:10]\n",
    "    fig = make_subplots(\n",
    "        rows=1, cols=1,\n",
    "        column_width=[2],\n",
    "        subplot_titles=(value, \"\"))\n",
    "\n",
    "    fig.add_trace(go.Bar(x=df3['City'], y=df3[value], marker=dict(color=df3[value], coloraxis=\"coloraxis\")), 1, 1)\n",
    "    fig.update_layout(coloraxis=dict(colorscale='Oranges'), showlegend=False,plot_bgcolor='white')\n",
    "    fig.update_xaxes(ticks=\"outside\", tickwidth=2,tickangle=45, tickcolor='crimson', ticklen=10,title_text=\"Cities\")\n",
    "    fig.update_yaxes(title_text=\"ug / m3\", row=1, col=1)\n",
    "    fig.show()"
   ]
  },
  {
   "cell_type": "code",
   "execution_count": 104,
   "metadata": {},
   "outputs": [
    {
     "data": {
      "application/vnd.plotly.v1+json": {
       "config": {
        "plotlyServerURL": "https://plot.ly"
       },
       "data": [
        {
         "marker": {
          "color": [
           232.80922877846766,
           191.5044324324326,
           165.77270777479887,
           149.6579418344519,
           126.7479581151832,
           124.21737254901967,
           123.48350909090902,
           119.32432142857137,
           116.60490039840633,
           115.62949934123846
          ],
          "coloraxis": "coloraxis"
         },
         "type": "bar",
         "x": [
          "Delhi",
          "Gurugram",
          "Talcher",
          "Jorapokhar",
          "Patna",
          "Brajrajnagar",
          "Jaipur",
          "Bhopal",
          "Guwahati",
          "Kolkata"
         ],
         "xaxis": "x",
         "y": [
          232.80922877846766,
          191.5044324324326,
          165.77270777479887,
          149.6579418344519,
          126.7479581151832,
          124.21737254901967,
          123.48350909090902,
          119.32432142857137,
          116.60490039840633,
          115.62949934123846
         ],
         "yaxis": "y"
        }
       ],
       "layout": {
        "annotations": [
         {
          "font": {
           "size": 16
          },
          "showarrow": false,
          "text": "PM10",
          "x": 0.5,
          "xanchor": "center",
          "xref": "paper",
          "y": 1,
          "yanchor": "bottom",
          "yref": "paper"
         }
        ],
        "coloraxis": {
         "colorscale": [
          [
           0,
           "rgb(255,245,235)"
          ],
          [
           0.125,
           "rgb(254,230,206)"
          ],
          [
           0.25,
           "rgb(253,208,162)"
          ],
          [
           0.375,
           "rgb(253,174,107)"
          ],
          [
           0.5,
           "rgb(253,141,60)"
          ],
          [
           0.625,
           "rgb(241,105,19)"
          ],
          [
           0.75,
           "rgb(217,72,1)"
          ],
          [
           0.875,
           "rgb(166,54,3)"
          ],
          [
           1,
           "rgb(127,39,4)"
          ]
         ]
        },
        "plot_bgcolor": "white",
        "showlegend": false,
        "template": {
         "data": {
          "bar": [
           {
            "error_x": {
             "color": "#2a3f5f"
            },
            "error_y": {
             "color": "#2a3f5f"
            },
            "marker": {
             "line": {
              "color": "#E5ECF6",
              "width": 0.5
             }
            },
            "type": "bar"
           }
          ],
          "barpolar": [
           {
            "marker": {
             "line": {
              "color": "#E5ECF6",
              "width": 0.5
             }
            },
            "type": "barpolar"
           }
          ],
          "carpet": [
           {
            "aaxis": {
             "endlinecolor": "#2a3f5f",
             "gridcolor": "white",
             "linecolor": "white",
             "minorgridcolor": "white",
             "startlinecolor": "#2a3f5f"
            },
            "baxis": {
             "endlinecolor": "#2a3f5f",
             "gridcolor": "white",
             "linecolor": "white",
             "minorgridcolor": "white",
             "startlinecolor": "#2a3f5f"
            },
            "type": "carpet"
           }
          ],
          "choropleth": [
           {
            "colorbar": {
             "outlinewidth": 0,
             "ticks": ""
            },
            "type": "choropleth"
           }
          ],
          "contour": [
           {
            "colorbar": {
             "outlinewidth": 0,
             "ticks": ""
            },
            "colorscale": [
             [
              0,
              "#0d0887"
             ],
             [
              0.1111111111111111,
              "#46039f"
             ],
             [
              0.2222222222222222,
              "#7201a8"
             ],
             [
              0.3333333333333333,
              "#9c179e"
             ],
             [
              0.4444444444444444,
              "#bd3786"
             ],
             [
              0.5555555555555556,
              "#d8576b"
             ],
             [
              0.6666666666666666,
              "#ed7953"
             ],
             [
              0.7777777777777778,
              "#fb9f3a"
             ],
             [
              0.8888888888888888,
              "#fdca26"
             ],
             [
              1,
              "#f0f921"
             ]
            ],
            "type": "contour"
           }
          ],
          "contourcarpet": [
           {
            "colorbar": {
             "outlinewidth": 0,
             "ticks": ""
            },
            "type": "contourcarpet"
           }
          ],
          "heatmap": [
           {
            "colorbar": {
             "outlinewidth": 0,
             "ticks": ""
            },
            "colorscale": [
             [
              0,
              "#0d0887"
             ],
             [
              0.1111111111111111,
              "#46039f"
             ],
             [
              0.2222222222222222,
              "#7201a8"
             ],
             [
              0.3333333333333333,
              "#9c179e"
             ],
             [
              0.4444444444444444,
              "#bd3786"
             ],
             [
              0.5555555555555556,
              "#d8576b"
             ],
             [
              0.6666666666666666,
              "#ed7953"
             ],
             [
              0.7777777777777778,
              "#fb9f3a"
             ],
             [
              0.8888888888888888,
              "#fdca26"
             ],
             [
              1,
              "#f0f921"
             ]
            ],
            "type": "heatmap"
           }
          ],
          "heatmapgl": [
           {
            "colorbar": {
             "outlinewidth": 0,
             "ticks": ""
            },
            "colorscale": [
             [
              0,
              "#0d0887"
             ],
             [
              0.1111111111111111,
              "#46039f"
             ],
             [
              0.2222222222222222,
              "#7201a8"
             ],
             [
              0.3333333333333333,
              "#9c179e"
             ],
             [
              0.4444444444444444,
              "#bd3786"
             ],
             [
              0.5555555555555556,
              "#d8576b"
             ],
             [
              0.6666666666666666,
              "#ed7953"
             ],
             [
              0.7777777777777778,
              "#fb9f3a"
             ],
             [
              0.8888888888888888,
              "#fdca26"
             ],
             [
              1,
              "#f0f921"
             ]
            ],
            "type": "heatmapgl"
           }
          ],
          "histogram": [
           {
            "marker": {
             "colorbar": {
              "outlinewidth": 0,
              "ticks": ""
             }
            },
            "type": "histogram"
           }
          ],
          "histogram2d": [
           {
            "colorbar": {
             "outlinewidth": 0,
             "ticks": ""
            },
            "colorscale": [
             [
              0,
              "#0d0887"
             ],
             [
              0.1111111111111111,
              "#46039f"
             ],
             [
              0.2222222222222222,
              "#7201a8"
             ],
             [
              0.3333333333333333,
              "#9c179e"
             ],
             [
              0.4444444444444444,
              "#bd3786"
             ],
             [
              0.5555555555555556,
              "#d8576b"
             ],
             [
              0.6666666666666666,
              "#ed7953"
             ],
             [
              0.7777777777777778,
              "#fb9f3a"
             ],
             [
              0.8888888888888888,
              "#fdca26"
             ],
             [
              1,
              "#f0f921"
             ]
            ],
            "type": "histogram2d"
           }
          ],
          "histogram2dcontour": [
           {
            "colorbar": {
             "outlinewidth": 0,
             "ticks": ""
            },
            "colorscale": [
             [
              0,
              "#0d0887"
             ],
             [
              0.1111111111111111,
              "#46039f"
             ],
             [
              0.2222222222222222,
              "#7201a8"
             ],
             [
              0.3333333333333333,
              "#9c179e"
             ],
             [
              0.4444444444444444,
              "#bd3786"
             ],
             [
              0.5555555555555556,
              "#d8576b"
             ],
             [
              0.6666666666666666,
              "#ed7953"
             ],
             [
              0.7777777777777778,
              "#fb9f3a"
             ],
             [
              0.8888888888888888,
              "#fdca26"
             ],
             [
              1,
              "#f0f921"
             ]
            ],
            "type": "histogram2dcontour"
           }
          ],
          "mesh3d": [
           {
            "colorbar": {
             "outlinewidth": 0,
             "ticks": ""
            },
            "type": "mesh3d"
           }
          ],
          "parcoords": [
           {
            "line": {
             "colorbar": {
              "outlinewidth": 0,
              "ticks": ""
             }
            },
            "type": "parcoords"
           }
          ],
          "pie": [
           {
            "automargin": true,
            "type": "pie"
           }
          ],
          "scatter": [
           {
            "marker": {
             "colorbar": {
              "outlinewidth": 0,
              "ticks": ""
             }
            },
            "type": "scatter"
           }
          ],
          "scatter3d": [
           {
            "line": {
             "colorbar": {
              "outlinewidth": 0,
              "ticks": ""
             }
            },
            "marker": {
             "colorbar": {
              "outlinewidth": 0,
              "ticks": ""
             }
            },
            "type": "scatter3d"
           }
          ],
          "scattercarpet": [
           {
            "marker": {
             "colorbar": {
              "outlinewidth": 0,
              "ticks": ""
             }
            },
            "type": "scattercarpet"
           }
          ],
          "scattergeo": [
           {
            "marker": {
             "colorbar": {
              "outlinewidth": 0,
              "ticks": ""
             }
            },
            "type": "scattergeo"
           }
          ],
          "scattergl": [
           {
            "marker": {
             "colorbar": {
              "outlinewidth": 0,
              "ticks": ""
             }
            },
            "type": "scattergl"
           }
          ],
          "scattermapbox": [
           {
            "marker": {
             "colorbar": {
              "outlinewidth": 0,
              "ticks": ""
             }
            },
            "type": "scattermapbox"
           }
          ],
          "scatterpolar": [
           {
            "marker": {
             "colorbar": {
              "outlinewidth": 0,
              "ticks": ""
             }
            },
            "type": "scatterpolar"
           }
          ],
          "scatterpolargl": [
           {
            "marker": {
             "colorbar": {
              "outlinewidth": 0,
              "ticks": ""
             }
            },
            "type": "scatterpolargl"
           }
          ],
          "scatterternary": [
           {
            "marker": {
             "colorbar": {
              "outlinewidth": 0,
              "ticks": ""
             }
            },
            "type": "scatterternary"
           }
          ],
          "surface": [
           {
            "colorbar": {
             "outlinewidth": 0,
             "ticks": ""
            },
            "colorscale": [
             [
              0,
              "#0d0887"
             ],
             [
              0.1111111111111111,
              "#46039f"
             ],
             [
              0.2222222222222222,
              "#7201a8"
             ],
             [
              0.3333333333333333,
              "#9c179e"
             ],
             [
              0.4444444444444444,
              "#bd3786"
             ],
             [
              0.5555555555555556,
              "#d8576b"
             ],
             [
              0.6666666666666666,
              "#ed7953"
             ],
             [
              0.7777777777777778,
              "#fb9f3a"
             ],
             [
              0.8888888888888888,
              "#fdca26"
             ],
             [
              1,
              "#f0f921"
             ]
            ],
            "type": "surface"
           }
          ],
          "table": [
           {
            "cells": {
             "fill": {
              "color": "#EBF0F8"
             },
             "line": {
              "color": "white"
             }
            },
            "header": {
             "fill": {
              "color": "#C8D4E3"
             },
             "line": {
              "color": "white"
             }
            },
            "type": "table"
           }
          ]
         },
         "layout": {
          "annotationdefaults": {
           "arrowcolor": "#2a3f5f",
           "arrowhead": 0,
           "arrowwidth": 1
          },
          "coloraxis": {
           "colorbar": {
            "outlinewidth": 0,
            "ticks": ""
           }
          },
          "colorscale": {
           "diverging": [
            [
             0,
             "#8e0152"
            ],
            [
             0.1,
             "#c51b7d"
            ],
            [
             0.2,
             "#de77ae"
            ],
            [
             0.3,
             "#f1b6da"
            ],
            [
             0.4,
             "#fde0ef"
            ],
            [
             0.5,
             "#f7f7f7"
            ],
            [
             0.6,
             "#e6f5d0"
            ],
            [
             0.7,
             "#b8e186"
            ],
            [
             0.8,
             "#7fbc41"
            ],
            [
             0.9,
             "#4d9221"
            ],
            [
             1,
             "#276419"
            ]
           ],
           "sequential": [
            [
             0,
             "#0d0887"
            ],
            [
             0.1111111111111111,
             "#46039f"
            ],
            [
             0.2222222222222222,
             "#7201a8"
            ],
            [
             0.3333333333333333,
             "#9c179e"
            ],
            [
             0.4444444444444444,
             "#bd3786"
            ],
            [
             0.5555555555555556,
             "#d8576b"
            ],
            [
             0.6666666666666666,
             "#ed7953"
            ],
            [
             0.7777777777777778,
             "#fb9f3a"
            ],
            [
             0.8888888888888888,
             "#fdca26"
            ],
            [
             1,
             "#f0f921"
            ]
           ],
           "sequentialminus": [
            [
             0,
             "#0d0887"
            ],
            [
             0.1111111111111111,
             "#46039f"
            ],
            [
             0.2222222222222222,
             "#7201a8"
            ],
            [
             0.3333333333333333,
             "#9c179e"
            ],
            [
             0.4444444444444444,
             "#bd3786"
            ],
            [
             0.5555555555555556,
             "#d8576b"
            ],
            [
             0.6666666666666666,
             "#ed7953"
            ],
            [
             0.7777777777777778,
             "#fb9f3a"
            ],
            [
             0.8888888888888888,
             "#fdca26"
            ],
            [
             1,
             "#f0f921"
            ]
           ]
          },
          "colorway": [
           "#636efa",
           "#EF553B",
           "#00cc96",
           "#ab63fa",
           "#FFA15A",
           "#19d3f3",
           "#FF6692",
           "#B6E880",
           "#FF97FF",
           "#FECB52"
          ],
          "font": {
           "color": "#2a3f5f"
          },
          "geo": {
           "bgcolor": "white",
           "lakecolor": "white",
           "landcolor": "#E5ECF6",
           "showlakes": true,
           "showland": true,
           "subunitcolor": "white"
          },
          "hoverlabel": {
           "align": "left"
          },
          "hovermode": "closest",
          "mapbox": {
           "style": "light"
          },
          "paper_bgcolor": "white",
          "plot_bgcolor": "#E5ECF6",
          "polar": {
           "angularaxis": {
            "gridcolor": "white",
            "linecolor": "white",
            "ticks": ""
           },
           "bgcolor": "#E5ECF6",
           "radialaxis": {
            "gridcolor": "white",
            "linecolor": "white",
            "ticks": ""
           }
          },
          "scene": {
           "xaxis": {
            "backgroundcolor": "#E5ECF6",
            "gridcolor": "white",
            "gridwidth": 2,
            "linecolor": "white",
            "showbackground": true,
            "ticks": "",
            "zerolinecolor": "white"
           },
           "yaxis": {
            "backgroundcolor": "#E5ECF6",
            "gridcolor": "white",
            "gridwidth": 2,
            "linecolor": "white",
            "showbackground": true,
            "ticks": "",
            "zerolinecolor": "white"
           },
           "zaxis": {
            "backgroundcolor": "#E5ECF6",
            "gridcolor": "white",
            "gridwidth": 2,
            "linecolor": "white",
            "showbackground": true,
            "ticks": "",
            "zerolinecolor": "white"
           }
          },
          "shapedefaults": {
           "line": {
            "color": "#2a3f5f"
           }
          },
          "ternary": {
           "aaxis": {
            "gridcolor": "white",
            "linecolor": "white",
            "ticks": ""
           },
           "baxis": {
            "gridcolor": "white",
            "linecolor": "white",
            "ticks": ""
           },
           "bgcolor": "#E5ECF6",
           "caxis": {
            "gridcolor": "white",
            "linecolor": "white",
            "ticks": ""
           }
          },
          "title": {
           "x": 0.05
          },
          "xaxis": {
           "automargin": true,
           "gridcolor": "white",
           "linecolor": "white",
           "ticks": "",
           "title": {
            "standoff": 15
           },
           "zerolinecolor": "white",
           "zerolinewidth": 2
          },
          "yaxis": {
           "automargin": true,
           "gridcolor": "white",
           "linecolor": "white",
           "ticks": "",
           "title": {
            "standoff": 15
           },
           "zerolinecolor": "white",
           "zerolinewidth": 2
          }
         }
        },
        "xaxis": {
         "anchor": "y",
         "domain": [
          0,
          1
         ],
         "tickangle": 45,
         "tickcolor": "crimson",
         "ticklen": 10,
         "ticks": "outside",
         "tickwidth": 2,
         "title": {
          "text": "Cities"
         }
        },
        "yaxis": {
         "anchor": "x",
         "domain": [
          0,
          1
         ],
         "title": {
          "text": "ug / m3"
         }
        }
       }
      },
      "text/html": [
       "<div>\n",
       "        \n",
       "        \n",
       "            <div id=\"90713feb-228a-471f-8411-b322fbf63365\" class=\"plotly-graph-div\" style=\"height:525px; width:100%;\"></div>\n",
       "            <script type=\"text/javascript\">\n",
       "                require([\"plotly\"], function(Plotly) {\n",
       "                    window.PLOTLYENV=window.PLOTLYENV || {};\n",
       "                    \n",
       "                if (document.getElementById(\"90713feb-228a-471f-8411-b322fbf63365\")) {\n",
       "                    Plotly.newPlot(\n",
       "                        '90713feb-228a-471f-8411-b322fbf63365',\n",
       "                        [{\"marker\": {\"color\": [232.80922877846766, 191.5044324324326, 165.77270777479887, 149.6579418344519, 126.7479581151832, 124.21737254901967, 123.48350909090902, 119.32432142857137, 116.60490039840633, 115.62949934123846], \"coloraxis\": \"coloraxis\"}, \"type\": \"bar\", \"x\": [\"Delhi\", \"Gurugram\", \"Talcher\", \"Jorapokhar\", \"Patna\", \"Brajrajnagar\", \"Jaipur\", \"Bhopal\", \"Guwahati\", \"Kolkata\"], \"xaxis\": \"x\", \"y\": [232.80922877846766, 191.5044324324326, 165.77270777479887, 149.6579418344519, 126.7479581151832, 124.21737254901967, 123.48350909090902, 119.32432142857137, 116.60490039840633, 115.62949934123846], \"yaxis\": \"y\"}],\n",
       "                        {\"annotations\": [{\"font\": {\"size\": 16}, \"showarrow\": false, \"text\": \"PM10\", \"x\": 0.5, \"xanchor\": \"center\", \"xref\": \"paper\", \"y\": 1.0, \"yanchor\": \"bottom\", \"yref\": \"paper\"}], \"coloraxis\": {\"colorscale\": [[0.0, \"rgb(255,245,235)\"], [0.125, \"rgb(254,230,206)\"], [0.25, \"rgb(253,208,162)\"], [0.375, \"rgb(253,174,107)\"], [0.5, \"rgb(253,141,60)\"], [0.625, \"rgb(241,105,19)\"], [0.75, \"rgb(217,72,1)\"], [0.875, \"rgb(166,54,3)\"], [1.0, \"rgb(127,39,4)\"]]}, \"plot_bgcolor\": \"white\", \"showlegend\": false, \"template\": {\"data\": {\"bar\": [{\"error_x\": {\"color\": \"#2a3f5f\"}, \"error_y\": {\"color\": \"#2a3f5f\"}, \"marker\": {\"line\": {\"color\": \"#E5ECF6\", \"width\": 0.5}}, \"type\": \"bar\"}], \"barpolar\": [{\"marker\": {\"line\": {\"color\": \"#E5ECF6\", \"width\": 0.5}}, \"type\": \"barpolar\"}], \"carpet\": [{\"aaxis\": {\"endlinecolor\": \"#2a3f5f\", \"gridcolor\": \"white\", \"linecolor\": \"white\", \"minorgridcolor\": \"white\", \"startlinecolor\": \"#2a3f5f\"}, \"baxis\": {\"endlinecolor\": \"#2a3f5f\", \"gridcolor\": \"white\", \"linecolor\": \"white\", \"minorgridcolor\": \"white\", \"startlinecolor\": \"#2a3f5f\"}, \"type\": \"carpet\"}], \"choropleth\": [{\"colorbar\": {\"outlinewidth\": 0, \"ticks\": \"\"}, \"type\": \"choropleth\"}], \"contour\": [{\"colorbar\": {\"outlinewidth\": 0, \"ticks\": \"\"}, \"colorscale\": [[0.0, \"#0d0887\"], [0.1111111111111111, \"#46039f\"], [0.2222222222222222, \"#7201a8\"], [0.3333333333333333, \"#9c179e\"], [0.4444444444444444, \"#bd3786\"], [0.5555555555555556, \"#d8576b\"], [0.6666666666666666, \"#ed7953\"], [0.7777777777777778, \"#fb9f3a\"], [0.8888888888888888, \"#fdca26\"], [1.0, \"#f0f921\"]], \"type\": \"contour\"}], \"contourcarpet\": [{\"colorbar\": {\"outlinewidth\": 0, \"ticks\": \"\"}, \"type\": \"contourcarpet\"}], \"heatmap\": [{\"colorbar\": {\"outlinewidth\": 0, \"ticks\": \"\"}, \"colorscale\": [[0.0, \"#0d0887\"], [0.1111111111111111, \"#46039f\"], [0.2222222222222222, \"#7201a8\"], [0.3333333333333333, \"#9c179e\"], [0.4444444444444444, \"#bd3786\"], [0.5555555555555556, \"#d8576b\"], [0.6666666666666666, \"#ed7953\"], [0.7777777777777778, \"#fb9f3a\"], [0.8888888888888888, \"#fdca26\"], [1.0, \"#f0f921\"]], \"type\": \"heatmap\"}], \"heatmapgl\": [{\"colorbar\": {\"outlinewidth\": 0, \"ticks\": \"\"}, \"colorscale\": [[0.0, \"#0d0887\"], [0.1111111111111111, \"#46039f\"], [0.2222222222222222, \"#7201a8\"], [0.3333333333333333, \"#9c179e\"], [0.4444444444444444, \"#bd3786\"], [0.5555555555555556, \"#d8576b\"], [0.6666666666666666, \"#ed7953\"], [0.7777777777777778, \"#fb9f3a\"], [0.8888888888888888, \"#fdca26\"], [1.0, \"#f0f921\"]], \"type\": \"heatmapgl\"}], \"histogram\": [{\"marker\": {\"colorbar\": {\"outlinewidth\": 0, \"ticks\": \"\"}}, \"type\": \"histogram\"}], \"histogram2d\": [{\"colorbar\": {\"outlinewidth\": 0, \"ticks\": \"\"}, \"colorscale\": [[0.0, \"#0d0887\"], [0.1111111111111111, \"#46039f\"], [0.2222222222222222, \"#7201a8\"], [0.3333333333333333, \"#9c179e\"], [0.4444444444444444, \"#bd3786\"], [0.5555555555555556, \"#d8576b\"], [0.6666666666666666, \"#ed7953\"], [0.7777777777777778, \"#fb9f3a\"], [0.8888888888888888, \"#fdca26\"], [1.0, \"#f0f921\"]], \"type\": \"histogram2d\"}], \"histogram2dcontour\": [{\"colorbar\": {\"outlinewidth\": 0, \"ticks\": \"\"}, \"colorscale\": [[0.0, \"#0d0887\"], [0.1111111111111111, \"#46039f\"], [0.2222222222222222, \"#7201a8\"], [0.3333333333333333, \"#9c179e\"], [0.4444444444444444, \"#bd3786\"], [0.5555555555555556, \"#d8576b\"], [0.6666666666666666, \"#ed7953\"], [0.7777777777777778, \"#fb9f3a\"], [0.8888888888888888, \"#fdca26\"], [1.0, \"#f0f921\"]], \"type\": \"histogram2dcontour\"}], \"mesh3d\": [{\"colorbar\": {\"outlinewidth\": 0, \"ticks\": \"\"}, \"type\": \"mesh3d\"}], \"parcoords\": [{\"line\": {\"colorbar\": {\"outlinewidth\": 0, \"ticks\": \"\"}}, \"type\": \"parcoords\"}], \"pie\": [{\"automargin\": true, \"type\": \"pie\"}], \"scatter\": [{\"marker\": {\"colorbar\": {\"outlinewidth\": 0, \"ticks\": \"\"}}, \"type\": \"scatter\"}], \"scatter3d\": [{\"line\": {\"colorbar\": {\"outlinewidth\": 0, \"ticks\": \"\"}}, \"marker\": {\"colorbar\": {\"outlinewidth\": 0, \"ticks\": \"\"}}, \"type\": \"scatter3d\"}], \"scattercarpet\": [{\"marker\": {\"colorbar\": {\"outlinewidth\": 0, \"ticks\": \"\"}}, \"type\": \"scattercarpet\"}], \"scattergeo\": [{\"marker\": {\"colorbar\": {\"outlinewidth\": 0, \"ticks\": \"\"}}, \"type\": \"scattergeo\"}], \"scattergl\": [{\"marker\": {\"colorbar\": {\"outlinewidth\": 0, \"ticks\": \"\"}}, \"type\": \"scattergl\"}], \"scattermapbox\": [{\"marker\": {\"colorbar\": {\"outlinewidth\": 0, \"ticks\": \"\"}}, \"type\": \"scattermapbox\"}], \"scatterpolar\": [{\"marker\": {\"colorbar\": {\"outlinewidth\": 0, \"ticks\": \"\"}}, \"type\": \"scatterpolar\"}], \"scatterpolargl\": [{\"marker\": {\"colorbar\": {\"outlinewidth\": 0, \"ticks\": \"\"}}, \"type\": \"scatterpolargl\"}], \"scatterternary\": [{\"marker\": {\"colorbar\": {\"outlinewidth\": 0, \"ticks\": \"\"}}, \"type\": \"scatterternary\"}], \"surface\": [{\"colorbar\": {\"outlinewidth\": 0, \"ticks\": \"\"}, \"colorscale\": [[0.0, \"#0d0887\"], [0.1111111111111111, \"#46039f\"], [0.2222222222222222, \"#7201a8\"], [0.3333333333333333, \"#9c179e\"], [0.4444444444444444, \"#bd3786\"], [0.5555555555555556, \"#d8576b\"], [0.6666666666666666, \"#ed7953\"], [0.7777777777777778, \"#fb9f3a\"], [0.8888888888888888, \"#fdca26\"], [1.0, \"#f0f921\"]], \"type\": \"surface\"}], \"table\": [{\"cells\": {\"fill\": {\"color\": \"#EBF0F8\"}, \"line\": {\"color\": \"white\"}}, \"header\": {\"fill\": {\"color\": \"#C8D4E3\"}, \"line\": {\"color\": \"white\"}}, \"type\": \"table\"}]}, \"layout\": {\"annotationdefaults\": {\"arrowcolor\": \"#2a3f5f\", \"arrowhead\": 0, \"arrowwidth\": 1}, \"coloraxis\": {\"colorbar\": {\"outlinewidth\": 0, \"ticks\": \"\"}}, \"colorscale\": {\"diverging\": [[0, \"#8e0152\"], [0.1, \"#c51b7d\"], [0.2, \"#de77ae\"], [0.3, \"#f1b6da\"], [0.4, \"#fde0ef\"], [0.5, \"#f7f7f7\"], [0.6, \"#e6f5d0\"], [0.7, \"#b8e186\"], [0.8, \"#7fbc41\"], [0.9, \"#4d9221\"], [1, \"#276419\"]], \"sequential\": [[0.0, \"#0d0887\"], [0.1111111111111111, \"#46039f\"], [0.2222222222222222, \"#7201a8\"], [0.3333333333333333, \"#9c179e\"], [0.4444444444444444, \"#bd3786\"], [0.5555555555555556, \"#d8576b\"], [0.6666666666666666, \"#ed7953\"], [0.7777777777777778, \"#fb9f3a\"], [0.8888888888888888, \"#fdca26\"], [1.0, \"#f0f921\"]], \"sequentialminus\": [[0.0, \"#0d0887\"], [0.1111111111111111, \"#46039f\"], [0.2222222222222222, \"#7201a8\"], [0.3333333333333333, \"#9c179e\"], [0.4444444444444444, \"#bd3786\"], [0.5555555555555556, \"#d8576b\"], [0.6666666666666666, \"#ed7953\"], [0.7777777777777778, \"#fb9f3a\"], [0.8888888888888888, \"#fdca26\"], [1.0, \"#f0f921\"]]}, \"colorway\": [\"#636efa\", \"#EF553B\", \"#00cc96\", \"#ab63fa\", \"#FFA15A\", \"#19d3f3\", \"#FF6692\", \"#B6E880\", \"#FF97FF\", \"#FECB52\"], \"font\": {\"color\": \"#2a3f5f\"}, \"geo\": {\"bgcolor\": \"white\", \"lakecolor\": \"white\", \"landcolor\": \"#E5ECF6\", \"showlakes\": true, \"showland\": true, \"subunitcolor\": \"white\"}, \"hoverlabel\": {\"align\": \"left\"}, \"hovermode\": \"closest\", \"mapbox\": {\"style\": \"light\"}, \"paper_bgcolor\": \"white\", \"plot_bgcolor\": \"#E5ECF6\", \"polar\": {\"angularaxis\": {\"gridcolor\": \"white\", \"linecolor\": \"white\", \"ticks\": \"\"}, \"bgcolor\": \"#E5ECF6\", \"radialaxis\": {\"gridcolor\": \"white\", \"linecolor\": \"white\", \"ticks\": \"\"}}, \"scene\": {\"xaxis\": {\"backgroundcolor\": \"#E5ECF6\", \"gridcolor\": \"white\", \"gridwidth\": 2, \"linecolor\": \"white\", \"showbackground\": true, \"ticks\": \"\", \"zerolinecolor\": \"white\"}, \"yaxis\": {\"backgroundcolor\": \"#E5ECF6\", \"gridcolor\": \"white\", \"gridwidth\": 2, \"linecolor\": \"white\", \"showbackground\": true, \"ticks\": \"\", \"zerolinecolor\": \"white\"}, \"zaxis\": {\"backgroundcolor\": \"#E5ECF6\", \"gridcolor\": \"white\", \"gridwidth\": 2, \"linecolor\": \"white\", \"showbackground\": true, \"ticks\": \"\", \"zerolinecolor\": \"white\"}}, \"shapedefaults\": {\"line\": {\"color\": \"#2a3f5f\"}}, \"ternary\": {\"aaxis\": {\"gridcolor\": \"white\", \"linecolor\": \"white\", \"ticks\": \"\"}, \"baxis\": {\"gridcolor\": \"white\", \"linecolor\": \"white\", \"ticks\": \"\"}, \"bgcolor\": \"#E5ECF6\", \"caxis\": {\"gridcolor\": \"white\", \"linecolor\": \"white\", \"ticks\": \"\"}}, \"title\": {\"x\": 0.05}, \"xaxis\": {\"automargin\": true, \"gridcolor\": \"white\", \"linecolor\": \"white\", \"ticks\": \"\", \"title\": {\"standoff\": 15}, \"zerolinecolor\": \"white\", \"zerolinewidth\": 2}, \"yaxis\": {\"automargin\": true, \"gridcolor\": \"white\", \"linecolor\": \"white\", \"ticks\": \"\", \"title\": {\"standoff\": 15}, \"zerolinecolor\": \"white\", \"zerolinewidth\": 2}}}, \"xaxis\": {\"anchor\": \"y\", \"domain\": [0.0, 1.0], \"tickangle\": 45, \"tickcolor\": \"crimson\", \"ticklen\": 10, \"ticks\": \"outside\", \"tickwidth\": 2, \"title\": {\"text\": \"Cities\"}}, \"yaxis\": {\"anchor\": \"x\", \"domain\": [0.0, 1.0], \"title\": {\"text\": \"ug / m3\"}}},\n",
       "                        {\"responsive\": true}\n",
       "                    ).then(function(){\n",
       "                            \n",
       "var gd = document.getElementById('90713feb-228a-471f-8411-b322fbf63365');\n",
       "var x = new MutationObserver(function (mutations, observer) {{\n",
       "        var display = window.getComputedStyle(gd).display;\n",
       "        if (!display || display === 'none') {{\n",
       "            console.log([gd, 'removed!']);\n",
       "            Plotly.purge(gd);\n",
       "            observer.disconnect();\n",
       "        }}\n",
       "}});\n",
       "\n",
       "// Listen for the removal of the full notebook cells\n",
       "var notebookContainer = gd.closest('#notebook-container');\n",
       "if (notebookContainer) {{\n",
       "    x.observe(notebookContainer, {childList: true});\n",
       "}}\n",
       "\n",
       "// Listen for the clearing of the current output cell\n",
       "var outputEl = gd.closest('.output');\n",
       "if (outputEl) {{\n",
       "    x.observe(outputEl, {childList: true});\n",
       "}}\n",
       "\n",
       "                        })\n",
       "                };\n",
       "                });\n",
       "            </script>\n",
       "        </div>"
      ]
     },
     "metadata": {},
     "output_type": "display_data"
    }
   ],
   "source": [
    "top_cities_graph('PM10')"
   ]
  },
  {
   "cell_type": "code",
   "execution_count": null,
   "metadata": {},
   "outputs": [],
   "source": []
  }
 ],
 "metadata": {
  "kernelspec": {
   "display_name": "Python 3",
   "language": "python",
   "name": "python3"
  },
  "language_info": {
   "codemirror_mode": {
    "name": "ipython",
    "version": 3
   },
   "file_extension": ".py",
   "mimetype": "text/x-python",
   "name": "python",
   "nbconvert_exporter": "python",
   "pygments_lexer": "ipython3",
   "version": "3.7.6"
  }
 },
 "nbformat": 4,
 "nbformat_minor": 4
}
