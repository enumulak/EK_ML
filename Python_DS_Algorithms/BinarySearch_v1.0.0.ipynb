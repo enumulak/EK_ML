{
 "cells": [
  {
   "cell_type": "markdown",
   "metadata": {},
   "source": [
    "### Binary Search & Complexity Analysis with Python\n",
    "\n",
    "In this notebook, we focus on solving the following problem:\n",
    "\n",
    "**Question 1:** Alice has some cards with numbers written on them. She arranges the cards in descending order, and lays them out\n",
    "face down in a sequence on a table. She challenges Bob to pick out the card containing a given number by turning over as few cards as possible. Write a function to help Bob locate the card\n",
    "\n",
    "A software developer or data scientist would normally not encounter programming problems in their day-to-day work, but such problems are commonly asked during technical interviews. Solving programming problems demonstrates the following traits:\n",
    "\n",
    "1. You can think about a problem systematically and solve it systematically step-by-step\n",
    "2. You can envision different inputs, outputs and edge cases for programs you write\n",
    "3. You can communicate ideas clearly to co-workers and incorporate their suggestions\n",
    "4. Most importantly, you can convert your thoughts and ideas into working code that's also readable"
   ]
  },
  {
   "cell_type": "markdown",
   "metadata": {},
   "source": [
    "#### Methodology\n",
    "Upon reading the problem, first instinct would be to start coding. This is not an optimal strategy. A systematic strategy that can be applied for solving problems is as follows:\n",
    "\n",
    "1. State the problem clearly. Identify input and output formats\n",
    "2. Come up with some example inputs and outputs. Try to over all edge cases\n",
    "3. Come up with a correct solution for the problem. State it in plain english\n",
    "4. Implement the solution and test it using example inputs. Fix bugs, if any\n",
    "5. Analyze the algorithm's complexity and identify inefficiencies, if any\n",
    "6. Apply the right technique to overcome the inefficiency. Repeat steps 3 & 6"
   ]
  },
  {
   "cell_type": "markdown",
   "metadata": {},
   "source": [
    "### Step 1: State the problem clearly. Identify Input and Output formats\n",
    "\n",
    "For the current problem, we can represent the sequence of cards as a list of numbers. Turning over a specific card is equivalent to accessing the value of the number at the corresponding position in the list\n",
    "\n",
    "For example, the list could look like this: [12, 11, 10, 9, 8, 7, 6, 5]\n",
    "\n",
    "Let's say the number to be queried is '9' which is at index '3' in the list\n",
    "\n",
    "So, we could now paraphrase our question as follows:\n",
    "\n",
    "**Problem:** We need to write a program to find the position of a given number in a list of numbers arranged in descending order. We also need to minimize the number of times we access elements from the list\n",
    "\n",
    "**Inputs**\n",
    "1. 'cards': A list of numbers arranged in descending order\n",
    "2. 'query': A number, whose position has to be determined in 'cards'\n",
    "\n",
    "**Output**\n",
    "\n",
    "'position': This is the position of 'query' in 'cards'\n",
    "\n",
    "Based on the above, we can now create the signature (definition) of our function:"
   ]
  },
  {
   "cell_type": "code",
   "execution_count": 2,
   "metadata": {},
   "outputs": [],
   "source": [
    "def locate_card(cards, query):\n",
    "    pass"
   ]
  },
  {
   "cell_type": "markdown",
   "metadata": {},
   "source": [
    "**Some Tips:**\n",
    "\n",
    "1. Name the function appropriately and think carefully about the signature\n",
    "2. Discuss the problem with the interviewer if you are unsure about how to frame it in abstract terms\n",
    "3. Use descriptive variable names, otherwise the purpose of a variable may be forgotten"
   ]
  },
  {
   "cell_type": "markdown",
   "metadata": {},
   "source": [
    "### Step 2: Come up with some example inputs and outputs. Try to cover all edge cases\n",
    "\n",
    "Before we start implementing our function, we can create 'test cases' - some example inputs and outputs that we can use to test our problem\n",
    "\n",
    "Here's a simple test case:"
   ]
  },
  {
   "cell_type": "code",
   "execution_count": 6,
   "metadata": {},
   "outputs": [],
   "source": [
    "cards = [10, 9, 8, 7, 6, 5, 4]\n",
    "query = 7\n",
    "output = 4"
   ]
  },
  {
   "cell_type": "markdown",
   "metadata": {},
   "source": [
    "We can represent our test cases as dictionaries to make it easier for testing once the function logic has been implemented. For example, the above test case can be represented as follows:"
   ]
  },
  {
   "cell_type": "code",
   "execution_count": 7,
   "metadata": {},
   "outputs": [],
   "source": [
    "test = {\n",
    "    'input':{\n",
    "        'cards': [10, 9, 8, 7, 6, 5, 4],\n",
    "        'query': 7\n",
    "    },\n",
    "    \n",
    "    'output': 4\n",
    "}"
   ]
  },
  {
   "cell_type": "markdown",
   "metadata": {},
   "source": [
    "Our function can now be tested as follows:"
   ]
  },
  {
   "cell_type": "code",
   "execution_count": 8,
   "metadata": {},
   "outputs": [
    {
     "data": {
      "text/plain": [
       "False"
      ]
     },
     "execution_count": 8,
     "metadata": {},
     "output_type": "execute_result"
    }
   ],
   "source": [
    "locate_card(**test['input']) == test['output']"
   ]
  },
  {
   "cell_type": "markdown",
   "metadata": {},
   "source": [
    "We get False because our function does not contain any logic yet. Our function should be able to handle any set of 'valid' inputs we pass into it. Following is a list of possible input variations we may encounter:\n",
    "\n",
    "1. The number passed in as 'query' can occur somewhere in the middle of the list 'cards'\n",
    "2. 'query' could be the first number in 'cards'\n",
    "3. 'query' could be the last number in 'cards'\n",
    "4. 'query' could be the only element in 'cards'\n",
    "5. 'query' may not be in 'cards' (maybe Alice is bluffing?!)\n",
    "6. 'cards' is empty\n",
    "7. 'cards' may contain repeating numbers ('query' may or may not be that number)\n",
    "8. 'query' may occur at more than one position in 'cards'\n",
    "9. Any other variations?\n",
    "\n",
    "**Edge Cases:** Edge cases are rare or extreme examples that we may not have thought of intially when creating a list of input variations. For example, 'cards' is empty, or 'query' is not in 'cards' (we expect that 'cards' is never empty and that 'query' will always be in 'cards') are edge cases. These situations may not occur frequently, but our program should be able to handle these so that there are no unexpected failures. Let's create a list of test cases now:"
   ]
  },
  {
   "cell_type": "code",
   "execution_count": 9,
   "metadata": {},
   "outputs": [],
   "source": [
    "tests = []\n",
    "tests.append(test) # Here 'query' is in the middle (one of our input variations)"
   ]
  },
  {
   "cell_type": "code",
   "execution_count": 10,
   "metadata": {},
   "outputs": [],
   "source": [
    "tests.append({\n",
    "    \n",
    "    'input': {\n",
    "        'cards': [13, 11, 10, 7, 4, 3, 1, 0],\n",
    "        'query': 1\n",
    "    },\n",
    "    'output': 6\n",
    "})"
   ]
  },
  {
   "cell_type": "code",
   "execution_count": 11,
   "metadata": {},
   "outputs": [],
   "source": [
    "# 'query' is the first element\n",
    "tests.append({\n",
    "    \n",
    "    'input': {\n",
    "        'cards': [4, 3, 2, 1],\n",
    "        'query': 4\n",
    "    },\n",
    "    'output': 0\n",
    "})"
   ]
  },
  {
   "cell_type": "code",
   "execution_count": 12,
   "metadata": {},
   "outputs": [],
   "source": [
    "# 'query' is the last element\n",
    "tests.append({\n",
    "    \n",
    "    'input': {\n",
    "        'cards': [3, -1, -9, -127],\n",
    "        'query': -127\n",
    "    },\n",
    "    'output': 3\n",
    "})"
   ]
  },
  {
   "cell_type": "code",
   "execution_count": 13,
   "metadata": {},
   "outputs": [],
   "source": [
    "# 'cards' has one element, 'query'\n",
    "tests.append({\n",
    "    \n",
    "    'input': {\n",
    "        'cards': [6],\n",
    "        'query': 6\n",
    "    },\n",
    "    'output': 0\n",
    "})"
   ]
  },
  {
   "cell_type": "code",
   "execution_count": 14,
   "metadata": {},
   "outputs": [
    {
     "data": {
      "text/plain": [
       "[{'input': {'cards': [10, 9, 8, 7, 6, 5, 4], 'query': 7}, 'output': 4},\n",
       " {'input': {'cards': [13, 11, 10, 7, 4, 3, 1, 0], 'query': 1}, 'output': 6},\n",
       " {'input': {'cards': [4, 3, 2, 1], 'query': 4}, 'output': 0},\n",
       " {'input': {'cards': [3, -1, -9, -127], 'query': -127}, 'output': 3},\n",
       " {'input': {'cards': [6], 'query': 6}, 'output': 0}]"
      ]
     },
     "execution_count": 14,
     "metadata": {},
     "output_type": "execute_result"
    }
   ],
   "source": [
    "tests"
   ]
  },
  {
   "cell_type": "markdown",
   "metadata": {},
   "source": [
    "Our problem statement does not specify what should be done in case 'query' is not in 'cards'. Hence, our function logic will return -1 if it encounters this situation"
   ]
  },
  {
   "cell_type": "code",
   "execution_count": 15,
   "metadata": {},
   "outputs": [],
   "source": [
    "# 'cards' does not contain 'query'\n",
    "tests.append({\n",
    "    \n",
    "    'input': {\n",
    "        'cards': [9, 7, 5, 2, -9],\n",
    "        'query': 4\n",
    "    },\n",
    "    'output': -1\n",
    "})"
   ]
  },
  {
   "cell_type": "code",
   "execution_count": 16,
   "metadata": {},
   "outputs": [],
   "source": [
    "# 'cards' is empty\n",
    "tests.append({\n",
    "    \n",
    "    'input': {\n",
    "        'cards': [],\n",
    "        'query': 7\n",
    "    },\n",
    "    'output': -1\n",
    "})"
   ]
  },
  {
   "cell_type": "code",
   "execution_count": 17,
   "metadata": {},
   "outputs": [],
   "source": [
    "# Repeating numbers in 'cards'\n",
    "tests.append({\n",
    "    \n",
    "    'input': {\n",
    "        'cards': [8, 8, 8, 6, 6, 6, 6, 3, 2, 2, 1, 1, 0, 0, 0],\n",
    "        'query': 3\n",
    "    },\n",
    "    'output': 7\n",
    "})"
   ]
  },
  {
   "cell_type": "markdown",
   "metadata": {},
   "source": [
    "In the case that 'query' occurs multiple times in 'cards', we will make our function return the first occurrence of 'query'"
   ]
  },
  {
   "cell_type": "code",
   "execution_count": null,
   "metadata": {},
   "outputs": [],
   "source": []
  }
 ],
 "metadata": {
  "kernelspec": {
   "display_name": "Python 3",
   "language": "python",
   "name": "python3"
  },
  "language_info": {
   "codemirror_mode": {
    "name": "ipython",
    "version": 3
   },
   "file_extension": ".py",
   "mimetype": "text/x-python",
   "name": "python",
   "nbconvert_exporter": "python",
   "pygments_lexer": "ipython3",
   "version": "3.7.6"
  }
 },
 "nbformat": 4,
 "nbformat_minor": 4
}
