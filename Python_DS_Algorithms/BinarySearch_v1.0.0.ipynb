{
 "cells": [
  {
   "cell_type": "markdown",
   "metadata": {},
   "source": [
    "### Binary Search & Complexity Analysis with Python\n",
    "\n",
    "In this notebook, we focus on solving the following problem:\n",
    "\n",
    "**Question 1:** Alice has some cards with numbers written on them. She arranges the cards in descending order, and lays them out\n",
    "face down in a sequence on a table. She challenges Bob to pick out the card containing a given number by turning over as few cards as possible. Write a function to help Bob locate the card\n",
    "\n",
    "A software developer or data scientist would normally not encounter programming problems in their day-to-day work, but such problems are commonly asked during technical interviews. Solving programming problems demonstrates the following traits:\n",
    "\n",
    "1. You can think about a problem systematically and solve it systematically step-by-step\n",
    "2. You can envision different inputs, outputs and edge cases for programs you write\n",
    "3. You can communicate ideas clearly to co-workers and incorporate their suggestions\n",
    "4. Most importantly, you can convert your thoughts and ideas into working code that's also readable"
   ]
  },
  {
   "cell_type": "markdown",
   "metadata": {},
   "source": [
    "#### Methodology\n",
    "Upon reading the problem, first instinct would be to start coding. This is not an optimal strategy. A systematic strategy that can be applied for solving problems is as follows:\n",
    "\n",
    "1. State the problem clearly. Identify input and output formats\n",
    "2. Come up with some example inputs and outputs. Try to over all edge cases\n",
    "3. Come up with a correct solution for the problem. State it in plain english\n",
    "4. Implement the solution and test it using example inputs. Fix bugs, if any\n",
    "5. Analyze the algorithm's complexity and identify inefficiencies, if any\n",
    "6. Apply the right technique to overcome the inefficiency. Repeat steps 3 & 6"
   ]
  },
  {
   "cell_type": "markdown",
   "metadata": {},
   "source": [
    "### Step 1: State the problem clearly. Identify Input and Output formats\n",
    "\n",
    "For the current problem, we can represent the sequence of cards as a list of numbers. Turning over a specific card is equivalent to accessing the value of the number at the corresponding position in the list\n",
    "\n",
    "For example, the list could look like this: [12, 11, 10, 9, 8, 7, 6, 5]\n",
    "\n",
    "Let's say the number to be queried is '9' which is at index '3' in the list\n",
    "\n",
    "So, we could now paraphrase our question as follows:\n",
    "\n",
    "**Problem:** We need to write a program to find the position of a given number in a list of numbers arranged in descending order. We also need to minimize the number of times we access elements from the list\n",
    "\n",
    "**Inputs**\n",
    "1. 'cards': A list of numbers arranged in descending order\n",
    "2. 'query': A number, whose position has to be determined in 'cards'\n",
    "\n",
    "**Output**\n",
    "\n",
    "'position': This is the position of 'query' in 'cards'\n",
    "\n",
    "Based on the above, we can now create the signature (definition) of our function:"
   ]
  },
  {
   "cell_type": "code",
   "execution_count": 1,
   "metadata": {},
   "outputs": [],
   "source": [
    "def locate_card(cards, query):\n",
    "    pass"
   ]
  },
  {
   "cell_type": "markdown",
   "metadata": {},
   "source": [
    "**Some Tips:**\n",
    "\n",
    "1. Name the function appropriately and think carefully about the signature\n",
    "2. Discuss the problem with the interviewer if you are unsure about how to frame it in abstract terms\n",
    "3. Use descriptive variable names, otherwise the purpose of a variable may be forgotten"
   ]
  },
  {
   "cell_type": "markdown",
   "metadata": {},
   "source": [
    "### Step 2: Come up with some example inputs and outputs. Try to cover all edge cases\n",
    "\n",
    "Before we start implementing our function, we can create 'test cases' - some example inputs and outputs that we can use to test our problem\n",
    "\n",
    "Here's a simple test case:"
   ]
  },
  {
   "cell_type": "code",
   "execution_count": 2,
   "metadata": {},
   "outputs": [],
   "source": [
    "cards = [10, 9, 8, 7, 6, 5, 4]\n",
    "query = 7\n",
    "output = 3"
   ]
  },
  {
   "cell_type": "markdown",
   "metadata": {},
   "source": [
    "We can represent our test cases as dictionaries to make it easier for testing once the function logic has been implemented. For example, the above test case can be represented as follows:"
   ]
  },
  {
   "cell_type": "code",
   "execution_count": 3,
   "metadata": {},
   "outputs": [],
   "source": [
    "test = {\n",
    "    'input':{\n",
    "        'cards': [10, 9, 8, 7, 6, 5, 4],\n",
    "        'query': 7\n",
    "    },\n",
    "    \n",
    "    'output': 3\n",
    "}"
   ]
  },
  {
   "cell_type": "markdown",
   "metadata": {},
   "source": [
    "Our function can now be tested as follows:"
   ]
  },
  {
   "cell_type": "code",
   "execution_count": 4,
   "metadata": {},
   "outputs": [
    {
     "data": {
      "text/plain": [
       "False"
      ]
     },
     "execution_count": 4,
     "metadata": {},
     "output_type": "execute_result"
    }
   ],
   "source": [
    "locate_card(**test['input']) == test['output']"
   ]
  },
  {
   "cell_type": "markdown",
   "metadata": {},
   "source": [
    "We get False because our function does not contain any logic yet. Our function should be able to handle any set of 'valid' inputs we pass into it. Following is a list of possible input variations we may encounter:\n",
    "\n",
    "1. The number passed in as 'query' can occur somewhere in the middle of the list 'cards'\n",
    "2. 'query' could be the first number in 'cards'\n",
    "3. 'query' could be the last number in 'cards'\n",
    "4. 'query' could be the only element in 'cards'\n",
    "5. 'query' may not be in 'cards' (maybe Alice is bluffing?!)\n",
    "6. 'cards' is empty\n",
    "7. 'cards' may contain repeating numbers ('query' may or may not be that number)\n",
    "8. 'query' may occur at more than one position in 'cards'\n",
    "9. Any other variations?\n",
    "\n",
    "**Edge Cases:** Edge cases are rare or extreme examples that we may not have thought of intially when creating a list of input variations. For example, 'cards' is empty, or 'query' is not in 'cards' (we expect that 'cards' is never empty and that 'query' will always be in 'cards') are edge cases. These situations may not occur frequently, but our program should be able to handle these so that there are no unexpected failures. Let's create a list of test cases now:"
   ]
  },
  {
   "cell_type": "code",
   "execution_count": 5,
   "metadata": {},
   "outputs": [],
   "source": [
    "tests = []\n",
    "tests.append(test) # Here 'query' is in the middle (one of our input variations)"
   ]
  },
  {
   "cell_type": "code",
   "execution_count": 6,
   "metadata": {},
   "outputs": [],
   "source": [
    "tests.append({\n",
    "    \n",
    "    'input': {\n",
    "        'cards': [13, 11, 10, 7, 4, 3, 1, 0],\n",
    "        'query': 1\n",
    "    },\n",
    "    'output': 6\n",
    "})"
   ]
  },
  {
   "cell_type": "code",
   "execution_count": 7,
   "metadata": {},
   "outputs": [],
   "source": [
    "# 'query' is the first element\n",
    "tests.append({\n",
    "    \n",
    "    'input': {\n",
    "        'cards': [4, 3, 2, 1],\n",
    "        'query': 4\n",
    "    },\n",
    "    'output': 0\n",
    "})"
   ]
  },
  {
   "cell_type": "code",
   "execution_count": 8,
   "metadata": {},
   "outputs": [],
   "source": [
    "# 'query' is the last element\n",
    "tests.append({\n",
    "    \n",
    "    'input': {\n",
    "        'cards': [3, -1, -9, -127],\n",
    "        'query': -127\n",
    "    },\n",
    "    'output': 3\n",
    "})"
   ]
  },
  {
   "cell_type": "code",
   "execution_count": 9,
   "metadata": {},
   "outputs": [],
   "source": [
    "# 'cards' has one element, 'query'\n",
    "tests.append({\n",
    "    \n",
    "    'input': {\n",
    "        'cards': [6],\n",
    "        'query': 6\n",
    "    },\n",
    "    'output': 0\n",
    "})"
   ]
  },
  {
   "cell_type": "code",
   "execution_count": 10,
   "metadata": {},
   "outputs": [
    {
     "data": {
      "text/plain": [
       "[{'input': {'cards': [10, 9, 8, 7, 6, 5, 4], 'query': 7}, 'output': 3},\n",
       " {'input': {'cards': [13, 11, 10, 7, 4, 3, 1, 0], 'query': 1}, 'output': 6},\n",
       " {'input': {'cards': [4, 3, 2, 1], 'query': 4}, 'output': 0},\n",
       " {'input': {'cards': [3, -1, -9, -127], 'query': -127}, 'output': 3},\n",
       " {'input': {'cards': [6], 'query': 6}, 'output': 0}]"
      ]
     },
     "execution_count": 10,
     "metadata": {},
     "output_type": "execute_result"
    }
   ],
   "source": [
    "tests"
   ]
  },
  {
   "cell_type": "markdown",
   "metadata": {},
   "source": [
    "Our problem statement does not specify what should be done in case 'query' is not in 'cards'. Hence, our function logic will return -1 if it encounters this situation"
   ]
  },
  {
   "cell_type": "code",
   "execution_count": 11,
   "metadata": {},
   "outputs": [],
   "source": [
    "# 'cards' does not contain 'query'\n",
    "tests.append({\n",
    "    \n",
    "    'input': {\n",
    "        'cards': [9, 7, 5, 2, -9],\n",
    "        'query': 4\n",
    "    },\n",
    "    'output': -1\n",
    "})"
   ]
  },
  {
   "cell_type": "code",
   "execution_count": 12,
   "metadata": {},
   "outputs": [],
   "source": [
    "# 'cards' is empty\n",
    "tests.append({\n",
    "    \n",
    "    'input': {\n",
    "        'cards': [],\n",
    "        'query': 7\n",
    "    },\n",
    "    'output': -1\n",
    "})"
   ]
  },
  {
   "cell_type": "code",
   "execution_count": 13,
   "metadata": {},
   "outputs": [],
   "source": [
    "# Repeating numbers in 'cards'\n",
    "tests.append({\n",
    "    \n",
    "    'input': {\n",
    "        'cards': [8, 8, 8, 6, 6, 6, 6, 3, 2, 2, 1, 1, 0, 0, 0],\n",
    "        'query': 3\n",
    "    },\n",
    "    'output': 7\n",
    "})"
   ]
  },
  {
   "cell_type": "markdown",
   "metadata": {},
   "source": [
    "In the case that 'query' occurs multiple times in 'cards', we will make our function return the first occurrence of 'query'"
   ]
  },
  {
   "cell_type": "code",
   "execution_count": 14,
   "metadata": {},
   "outputs": [
    {
     "data": {
      "text/plain": [
       "[{'input': {'cards': [10, 9, 8, 7, 6, 5, 4], 'query': 7}, 'output': 3},\n",
       " {'input': {'cards': [13, 11, 10, 7, 4, 3, 1, 0], 'query': 1}, 'output': 6},\n",
       " {'input': {'cards': [4, 3, 2, 1], 'query': 4}, 'output': 0},\n",
       " {'input': {'cards': [3, -1, -9, -127], 'query': -127}, 'output': 3},\n",
       " {'input': {'cards': [6], 'query': 6}, 'output': 0},\n",
       " {'input': {'cards': [9, 7, 5, 2, -9], 'query': 4}, 'output': -1},\n",
       " {'input': {'cards': [], 'query': 7}, 'output': -1},\n",
       " {'input': {'cards': [8, 8, 8, 6, 6, 6, 6, 3, 2, 2, 1, 1, 0, 0, 0],\n",
       "   'query': 3},\n",
       "  'output': 7}]"
      ]
     },
     "execution_count": 14,
     "metadata": {},
     "output_type": "execute_result"
    }
   ],
   "source": [
    "tests"
   ]
  },
  {
   "cell_type": "markdown",
   "metadata": {},
   "source": [
    "We now have a substantial number of test cases to verify our function logic\n",
    "\n",
    "Creating test cases helps you identify edge cases and input variations in advance"
   ]
  },
  {
   "cell_type": "markdown",
   "metadata": {},
   "source": [
    "### Step 3: Come up with a correct solution for the problem. State it in plain English\n",
    "\n",
    "Our first goal should be to always come up with a 'correct' solution for our problem, which may not always be the most 'efficient' solution. The simplest solution to a problem, which generally involves checking all possible answers is called the 'brute force' solution.\n",
    "\n",
    "In our problem, this type of solution is quite easy. Bob can simply turn over cards one by one till he finds the card for the given query number. Here's how this might be implemented in code:\n",
    "\n",
    "1. Create a variable 'position' with 0\n",
    "2. Check whether the number at index 'position' in 'cards' equals 'query'\n",
    "3. If it does, 'position' is the answer / output and can be returned from the function\n",
    "4. If not, increment the value of 'position' by 1, and repeat steps 2 to 5 till we reach final position in 'cards'\n",
    "5. If the query number was not found, return -1\n",
    "\n",
    "**Linear Search Algorithm:** We have just written our first algorithm! An algorithm is simply a set of steps that can be conveted to code and executed by the computer. This particular algorithm is called Linear Search, since it involves searching through a list in a linear fashion i.e. element after element"
   ]
  },
  {
   "cell_type": "markdown",
   "metadata": {},
   "source": [
    "### Step 4: Implement the solution and test it using example inputs. Fix bugs, if any\n",
    "\n",
    "We are now ready to implement our solution. We now know what our function should do and we have a way of testing it on a variety of input conditions. \n",
    "\n",
    "Here's an initial implementation of our function:"
   ]
  },
  {
   "cell_type": "code",
   "execution_count": 15,
   "metadata": {},
   "outputs": [],
   "source": [
    "def locate_card(cards, query):\n",
    "    \n",
    "    # Initialize position to 0\n",
    "    position = 0\n",
    "    \n",
    "    while True:\n",
    "        \n",
    "        if cards[position] == query:\n",
    "            return position\n",
    "        \n",
    "        position += 1\n",
    "        \n",
    "        if position == len(cards):\n",
    "            \n",
    "            return -1      "
   ]
  },
  {
   "cell_type": "markdown",
   "metadata": {},
   "source": [
    "Let's test our function using our first test case"
   ]
  },
  {
   "cell_type": "code",
   "execution_count": 16,
   "metadata": {},
   "outputs": [
    {
     "data": {
      "text/plain": [
       "{'input': {'cards': [10, 9, 8, 7, 6, 5, 4], 'query': 7}, 'output': 3}"
      ]
     },
     "execution_count": 16,
     "metadata": {},
     "output_type": "execute_result"
    }
   ],
   "source": [
    "test"
   ]
  },
  {
   "cell_type": "code",
   "execution_count": 17,
   "metadata": {},
   "outputs": [
    {
     "data": {
      "text/plain": [
       "3"
      ]
     },
     "execution_count": 17,
     "metadata": {},
     "output_type": "execute_result"
    }
   ],
   "source": [
    "result = locate_card(test['input']['cards'], test['input']['query'])\n",
    "result"
   ]
  },
  {
   "cell_type": "code",
   "execution_count": 18,
   "metadata": {},
   "outputs": [
    {
     "data": {
      "text/plain": [
       "True"
      ]
     },
     "execution_count": 18,
     "metadata": {},
     "output_type": "execute_result"
    }
   ],
   "source": [
    "result == output"
   ]
  },
  {
   "cell_type": "markdown",
   "metadata": {},
   "source": [
    "So the result matches the output!\n",
    "\n",
    "It's time to test all our test cases"
   ]
  },
  {
   "cell_type": "code",
   "execution_count": 19,
   "metadata": {},
   "outputs": [
    {
     "ename": "IndexError",
     "evalue": "list index out of range",
     "output_type": "error",
     "traceback": [
      "\u001b[1;31m---------------------------------------------------------------------------\u001b[0m",
      "\u001b[1;31mIndexError\u001b[0m                                Traceback (most recent call last)",
      "\u001b[1;32m<ipython-input-19-4f03cc6681a8>\u001b[0m in \u001b[0;36m<module>\u001b[1;34m\u001b[0m\n\u001b[0;32m      1\u001b[0m \u001b[1;32mfor\u001b[0m \u001b[0mrec\u001b[0m \u001b[1;32min\u001b[0m \u001b[0mtests\u001b[0m\u001b[1;33m:\u001b[0m\u001b[1;33m\u001b[0m\u001b[1;33m\u001b[0m\u001b[0m\n\u001b[1;32m----> 2\u001b[1;33m     \u001b[0mlocate_card\u001b[0m\u001b[1;33m(\u001b[0m\u001b[0mrec\u001b[0m\u001b[1;33m[\u001b[0m\u001b[1;34m'input'\u001b[0m\u001b[1;33m]\u001b[0m\u001b[1;33m[\u001b[0m\u001b[1;34m'cards'\u001b[0m\u001b[1;33m]\u001b[0m\u001b[1;33m,\u001b[0m \u001b[0mrec\u001b[0m\u001b[1;33m[\u001b[0m\u001b[1;34m'input'\u001b[0m\u001b[1;33m]\u001b[0m\u001b[1;33m[\u001b[0m\u001b[1;34m'query'\u001b[0m\u001b[1;33m]\u001b[0m\u001b[1;33m)\u001b[0m\u001b[1;33m\u001b[0m\u001b[1;33m\u001b[0m\u001b[0m\n\u001b[0m",
      "\u001b[1;32m<ipython-input-15-c5966752e675>\u001b[0m in \u001b[0;36mlocate_card\u001b[1;34m(cards, query)\u001b[0m\n\u001b[0;32m      6\u001b[0m     \u001b[1;32mwhile\u001b[0m \u001b[1;32mTrue\u001b[0m\u001b[1;33m:\u001b[0m\u001b[1;33m\u001b[0m\u001b[1;33m\u001b[0m\u001b[0m\n\u001b[0;32m      7\u001b[0m \u001b[1;33m\u001b[0m\u001b[0m\n\u001b[1;32m----> 8\u001b[1;33m         \u001b[1;32mif\u001b[0m \u001b[0mcards\u001b[0m\u001b[1;33m[\u001b[0m\u001b[0mposition\u001b[0m\u001b[1;33m]\u001b[0m \u001b[1;33m==\u001b[0m \u001b[0mquery\u001b[0m\u001b[1;33m:\u001b[0m\u001b[1;33m\u001b[0m\u001b[1;33m\u001b[0m\u001b[0m\n\u001b[0m\u001b[0;32m      9\u001b[0m             \u001b[1;32mreturn\u001b[0m \u001b[0mposition\u001b[0m\u001b[1;33m\u001b[0m\u001b[1;33m\u001b[0m\u001b[0m\n\u001b[0;32m     10\u001b[0m \u001b[1;33m\u001b[0m\u001b[0m\n",
      "\u001b[1;31mIndexError\u001b[0m: list index out of range"
     ]
    }
   ],
   "source": [
    "for rec in tests:\n",
    "    locate_card(rec['input']['cards'], rec['input']['query'])"
   ]
  },
  {
   "cell_type": "markdown",
   "metadata": {},
   "source": [
    "So we have an index out of range error for one of our tests cases. Looks like this happens when we execute the situation where 'cards' is empty. We can verify if that is the case:"
   ]
  },
  {
   "cell_type": "code",
   "execution_count": 20,
   "metadata": {},
   "outputs": [
    {
     "data": {
      "text/plain": [
       "[{'input': {'cards': [10, 9, 8, 7, 6, 5, 4], 'query': 7}, 'output': 3},\n",
       " {'input': {'cards': [13, 11, 10, 7, 4, 3, 1, 0], 'query': 1}, 'output': 6},\n",
       " {'input': {'cards': [4, 3, 2, 1], 'query': 4}, 'output': 0},\n",
       " {'input': {'cards': [3, -1, -9, -127], 'query': -127}, 'output': 3},\n",
       " {'input': {'cards': [6], 'query': 6}, 'output': 0},\n",
       " {'input': {'cards': [9, 7, 5, 2, -9], 'query': 4}, 'output': -1},\n",
       " {'input': {'cards': [], 'query': 7}, 'output': -1},\n",
       " {'input': {'cards': [8, 8, 8, 6, 6, 6, 6, 3, 2, 2, 1, 1, 0, 0, 0],\n",
       "   'query': 3},\n",
       "  'output': 7}]"
      ]
     },
     "execution_count": 20,
     "metadata": {},
     "output_type": "execute_result"
    }
   ],
   "source": [
    "tests"
   ]
  },
  {
   "cell_type": "code",
   "execution_count": 21,
   "metadata": {},
   "outputs": [
    {
     "ename": "IndexError",
     "evalue": "list index out of range",
     "output_type": "error",
     "traceback": [
      "\u001b[1;31m---------------------------------------------------------------------------\u001b[0m",
      "\u001b[1;31mIndexError\u001b[0m                                Traceback (most recent call last)",
      "\u001b[1;32m<ipython-input-21-84480ab1bde5>\u001b[0m in \u001b[0;36m<module>\u001b[1;34m\u001b[0m\n\u001b[1;32m----> 1\u001b[1;33m \u001b[0mlocate_card\u001b[0m\u001b[1;33m(\u001b[0m\u001b[0mtests\u001b[0m\u001b[1;33m[\u001b[0m\u001b[1;36m6\u001b[0m\u001b[1;33m]\u001b[0m\u001b[1;33m[\u001b[0m\u001b[1;34m'input'\u001b[0m\u001b[1;33m]\u001b[0m\u001b[1;33m[\u001b[0m\u001b[1;34m'cards'\u001b[0m\u001b[1;33m]\u001b[0m\u001b[1;33m,\u001b[0m \u001b[0mtests\u001b[0m\u001b[1;33m[\u001b[0m\u001b[1;36m6\u001b[0m\u001b[1;33m]\u001b[0m\u001b[1;33m[\u001b[0m\u001b[1;34m'input'\u001b[0m\u001b[1;33m]\u001b[0m\u001b[1;33m[\u001b[0m\u001b[1;34m'query'\u001b[0m\u001b[1;33m]\u001b[0m\u001b[1;33m)\u001b[0m\u001b[1;33m\u001b[0m\u001b[1;33m\u001b[0m\u001b[0m\n\u001b[0m",
      "\u001b[1;32m<ipython-input-15-c5966752e675>\u001b[0m in \u001b[0;36mlocate_card\u001b[1;34m(cards, query)\u001b[0m\n\u001b[0;32m      6\u001b[0m     \u001b[1;32mwhile\u001b[0m \u001b[1;32mTrue\u001b[0m\u001b[1;33m:\u001b[0m\u001b[1;33m\u001b[0m\u001b[1;33m\u001b[0m\u001b[0m\n\u001b[0;32m      7\u001b[0m \u001b[1;33m\u001b[0m\u001b[0m\n\u001b[1;32m----> 8\u001b[1;33m         \u001b[1;32mif\u001b[0m \u001b[0mcards\u001b[0m\u001b[1;33m[\u001b[0m\u001b[0mposition\u001b[0m\u001b[1;33m]\u001b[0m \u001b[1;33m==\u001b[0m \u001b[0mquery\u001b[0m\u001b[1;33m:\u001b[0m\u001b[1;33m\u001b[0m\u001b[1;33m\u001b[0m\u001b[0m\n\u001b[0m\u001b[0;32m      9\u001b[0m             \u001b[1;32mreturn\u001b[0m \u001b[0mposition\u001b[0m\u001b[1;33m\u001b[0m\u001b[1;33m\u001b[0m\u001b[0m\n\u001b[0;32m     10\u001b[0m \u001b[1;33m\u001b[0m\u001b[0m\n",
      "\u001b[1;31mIndexError\u001b[0m: list index out of range"
     ]
    }
   ],
   "source": [
    "locate_card(tests[6]['input']['cards'], tests[6]['input']['query'])"
   ]
  },
  {
   "cell_type": "markdown",
   "metadata": {},
   "source": [
    "So yes, our function fails when 'cards' is empty. Let's modify our function to handle this situation:"
   ]
  },
  {
   "cell_type": "code",
   "execution_count": 22,
   "metadata": {},
   "outputs": [],
   "source": [
    "def locate_card(cards, query):\n",
    "    \n",
    "    position = 0\n",
    "    \n",
    "    # Condition changes for while loop - return -1 if end of array is reached before accessing an element\n",
    "    while position < len(cards):\n",
    "        \n",
    "        if cards[position] == query:\n",
    "            \n",
    "            return position\n",
    "        \n",
    "        position += 1\n",
    "        \n",
    "    return -1"
   ]
  },
  {
   "cell_type": "markdown",
   "metadata": {},
   "source": [
    "Let's test the failing test case again"
   ]
  },
  {
   "cell_type": "code",
   "execution_count": 23,
   "metadata": {},
   "outputs": [
    {
     "data": {
      "text/plain": [
       "-1"
      ]
     },
     "execution_count": 23,
     "metadata": {},
     "output_type": "execute_result"
    }
   ],
   "source": [
    "locate_card(tests[6]['input']['cards'], tests[6]['input']['query'])"
   ]
  },
  {
   "cell_type": "markdown",
   "metadata": {},
   "source": [
    "The result now matches the expected output. This is a major benefit of listing test cases beforehand. Without a good set of test cases, we may never have discovered this error in our function.\n",
    "\n",
    "We can verify if all test cases pass without errors"
   ]
  },
  {
   "cell_type": "code",
   "execution_count": 24,
   "metadata": {},
   "outputs": [],
   "source": [
    "for rec in tests:\n",
    "    locate_card(rec['input']['cards'], rec['input']['query'])"
   ]
  },
  {
   "cell_type": "markdown",
   "metadata": {},
   "source": [
    "**To-Do: Create a function / module that displays a message for every test case passed**"
   ]
  },
  {
   "cell_type": "code",
   "execution_count": 30,
   "metadata": {},
   "outputs": [],
   "source": [
    "def evaluate_test_cases(function, cases):\n",
    "    pass"
   ]
  },
  {
   "cell_type": "markdown",
   "metadata": {},
   "source": [
    "### Step 5: Analyze the algorithm's complexity and identify inefficiencies, if any\n",
    "\n",
    "If we recall our problem statement: 'Alice challenges Bob to pick out the card containing a given number by turning over as few cards as possible'. We rephrased this requirement as 'Minimize the number of times we access elements from 'cards'\n",
    "\n",
    "Before we can minimize the number, we need a way to measure it. Since we access a list element once in every iteration, for a list size of 'N', we iterate 'N' times to locate the number that was queried. So, worst case scenario, Bob may have to turn all cards to determine the correct one. Suppose he is aloowed to turn 1 card per minute? It would then take 30 minutes to turn 30 cards. Could there be a better way to do it? Would it be possible to turn only 5 cards instead of 30?\n",
    "\n",
    "The field of study concerned with finding the amount of time, space or other resources required to complete the execution of computer programs is called the 'analysis of algorithms'. And the process of figuring out the best algorithm to solve a given problem is called 'algorithm design and optimization'.\n",
    "\n",
    "**Complexity and Big-O Notation**\n",
    "\n",
    "Complexity of an algorithm is a measure of the amount of time and/or space required by an algorithm for an input of a given size e.g. 'N'. Unless otherwise stated, the term 'complexity' always refers to the worst-case complexity (i.e. the highest possible time/space taken by the program/algorithm to process the input)\n",
    "\n",
    "In the case of linear search:\n",
    "\n",
    "1. The 'time complexity' of this algorithm is 'cN' for some fixed constant c that depends on the number of operations performed each iteration and the time taken to execute a statement. Time complexity is also sometimes referred to as 'running time'\n",
    "\n",
    "2. The 'space complexity' is some constant 'c' (independent of N), since we just need a single variable (position) to iterate through the array, and it occupies a constant space in the computer's memory\n",
    "\n",
    "Worst-Case complexity is often expressed using the Big-O notation. In Big-O, we drop fixed constants and lower powers of variables to capture the trend of the relationship between size of the input and complexity of the algorithm. For example, if the complexity of an algorithm is 'cN^3 + dN^2 + eN + f', then in Big-O notation it is expressed as **O(N^3)**\n",
    "\n",
    "Thus the time complexity of the linear search algorithm is **O(N)** and its space complexity is **O(1)**"
   ]
  },
  {
   "cell_type": "markdown",
   "metadata": {},
   "source": [
    "### Step 6: Apply the right technique to overcome the inefficiency. Repeat steps 3 to 6\n",
    "\n",
    "At the moment, we're simply going over the cards one by one, and not even utilizing the fact that they are sorted. This is called a 'brute force' approach.\n",
    "\n",
    "With all cards turned over, it is impossible to guess the right number in the first attempt. The next best idea would be to pick a random card, and utilize the fact that the list is sorted to determine whether the target card lies to the left or right of it. In fact, if we pick the middle card, we can reduce the number of additional cards to be tested to half the size of the list. Then, we can simply repeat the process with each half. This technique is called **Binary Search**"
   ]
  },
  {
   "cell_type": "markdown",
   "metadata": {},
   "source": [
    "### Step 7: Come up with a correct solution for the problem. State it in plain english\n",
    "\n",
    "Here's how binary search can be applied to our problem:\n",
    "\n",
    "1. Find the middle element of the list\n",
    "2. If it matches the queried number, return the middle position as the answer\n",
    "3. If it is less than the queried number, then search first half of the list\n",
    "4. If it is greater than the queried number, search in the second half of the list\n",
    "5. If no more elements remain, return -1"
   ]
  },
  {
   "cell_type": "markdown",
   "metadata": {},
   "source": [
    "### Step 8: Implement the solution and test it using example inputs. Fix bugs, if any\n",
    "\n",
    "Here's an implementation of the binary search:"
   ]
  },
  {
   "cell_type": "code",
   "execution_count": 25,
   "metadata": {},
   "outputs": [],
   "source": [
    "def locate_card_binary(cards, query):\n",
    "    \n",
    "    lo, hi = 0, len(cards) - 1\n",
    "    \n",
    "    while lo <= hi:\n",
    "        \n",
    "        mid = (lo + hi) // 2\n",
    "        mid_number = cards[mid]\n",
    "        \n",
    "        print(f\"lo: {lo}, hi: {hi}, mid: {mid}, mid_number: {mid_number}\")\n",
    "        \n",
    "        if mid_number == query:\n",
    "            return mid\n",
    "        elif mid_number < query:\n",
    "            hi = mid - 1\n",
    "        elif mid_number > query:\n",
    "            lo = mid + 1\n",
    "    return -1"
   ]
  },
  {
   "cell_type": "markdown",
   "metadata": {},
   "source": [
    "Let's test with one test case"
   ]
  },
  {
   "cell_type": "code",
   "execution_count": 26,
   "metadata": {},
   "outputs": [
    {
     "data": {
      "text/plain": [
       "{'input': {'cards': [10, 9, 8, 7, 6, 5, 4], 'query': 7}, 'output': 3}"
      ]
     },
     "execution_count": 26,
     "metadata": {},
     "output_type": "execute_result"
    }
   ],
   "source": [
    "test"
   ]
  },
  {
   "cell_type": "code",
   "execution_count": 27,
   "metadata": {},
   "outputs": [
    {
     "name": "stdout",
     "output_type": "stream",
     "text": [
      "lo: 0, hi: 6, mid: 3, mid_number: 7\n"
     ]
    }
   ],
   "source": [
    "result = locate_card_binary(test['input']['cards'], test['input']['query'])"
   ]
  },
  {
   "cell_type": "code",
   "execution_count": 28,
   "metadata": {},
   "outputs": [
    {
     "data": {
      "text/plain": [
       "True"
      ]
     },
     "execution_count": 28,
     "metadata": {},
     "output_type": "execute_result"
    }
   ],
   "source": [
    "result == output"
   ]
  },
  {
   "cell_type": "code",
   "execution_count": 29,
   "metadata": {},
   "outputs": [
    {
     "name": "stdout",
     "output_type": "stream",
     "text": [
      "lo: 0, hi: 6, mid: 3, mid_number: 7\n",
      "lo: 0, hi: 7, mid: 3, mid_number: 7\n",
      "lo: 4, hi: 7, mid: 5, mid_number: 3\n",
      "lo: 6, hi: 7, mid: 6, mid_number: 1\n",
      "lo: 0, hi: 3, mid: 1, mid_number: 3\n",
      "lo: 0, hi: 0, mid: 0, mid_number: 4\n",
      "lo: 0, hi: 3, mid: 1, mid_number: -1\n",
      "lo: 2, hi: 3, mid: 2, mid_number: -9\n",
      "lo: 3, hi: 3, mid: 3, mid_number: -127\n",
      "lo: 0, hi: 0, mid: 0, mid_number: 6\n",
      "lo: 0, hi: 4, mid: 2, mid_number: 5\n",
      "lo: 3, hi: 4, mid: 3, mid_number: 2\n",
      "lo: 0, hi: 14, mid: 7, mid_number: 3\n"
     ]
    }
   ],
   "source": [
    "for rec in tests:\n",
    "    locate_card_binary(rec['input']['cards'], rec['input']['query'])"
   ]
  },
  {
   "cell_type": "code",
   "execution_count": null,
   "metadata": {},
   "outputs": [],
   "source": []
  }
 ],
 "metadata": {
  "kernelspec": {
   "display_name": "Python 3",
   "language": "python",
   "name": "python3"
  },
  "language_info": {
   "codemirror_mode": {
    "name": "ipython",
    "version": 3
   },
   "file_extension": ".py",
   "mimetype": "text/x-python",
   "name": "python",
   "nbconvert_exporter": "python",
   "pygments_lexer": "ipython3",
   "version": "3.7.6"
  }
 },
 "nbformat": 4,
 "nbformat_minor": 4
}
