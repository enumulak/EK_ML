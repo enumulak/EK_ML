{
 "cells": [
  {
   "cell_type": "markdown",
   "metadata": {},
   "source": [
    "## What is Python ?"
   ]
  },
  {
   "cell_type": "markdown",
   "metadata": {},
   "source": [
    "#### Python is an interpreted, object-oriented, high-level programming language with dynamic semantics. It supports multiple programming paradigms: object-oriented and functional\n",
    "\n",
    "#### Python is a great language for Machine Learning and Data Science, for the simple reason that it is more general purpose than R (another language used for Data Science) and has a number of mature ML libraries such as NumPy, Pandas, Matplotlib, Sci-Kit Learn and so on..."
   ]
  },
  {
   "cell_type": "markdown",
   "metadata": {},
   "source": [
    "## The Python Interpretor"
   ]
  },
  {
   "cell_type": "markdown",
   "metadata": {},
   "source": [
    "#### A python interpretor is basically a console that allows interactive development. In our case, we are using a Jupyter Notebook that uses an advanced interpretor called iPython"
   ]
  },
  {
   "cell_type": "code",
   "execution_count": 1,
   "metadata": {},
   "outputs": [
    {
     "name": "stdout",
     "output_type": "stream",
     "text": [
      "Hello World\n"
     ]
    }
   ],
   "source": [
    "# Print Hello World\n",
    "print('Hello World')"
   ]
  },
  {
   "cell_type": "markdown",
   "metadata": {},
   "source": [
    "#### We just used the in-built print() function to print some text "
   ]
  },
  {
   "cell_type": "markdown",
   "metadata": {},
   "source": [
    "## Topics that will be covered"
   ]
  },
  {
   "cell_type": "markdown",
   "metadata": {},
   "source": [
    "***\n",
    "1. **Python Basics**\n",
    "\n",
    "    -Variables: strings, numbers and booleans\n",
    "    - String Manipulation and methods\n",
    "    - Numbers and Arithematic Operations\n",
    "    - Booleans\n",
    "    - Functions\n",
    "    - Conditions (if, else, elif) and Comparision Operators\n",
    "    - Try, Except and User Input\n",
    "    \n",
    "\n",
    "2. **Data Types and Data Structures**\n",
    "    - Lists\n",
    "    - Dictionaries\n",
    "    - Sets and Tuples\n",
    "    \n",
    "\n",
    "3. **Loops**\n",
    "    - For, While Loops\n",
    "    \n",
    "\n",
    "    \n",
    "4. **File I/O**\n",
    "\n",
    "    - Reading Files\n",
    "    - Writing to Files"
   ]
  },
  {
   "cell_type": "markdown",
   "metadata": {},
   "source": [
    "## Python Basics"
   ]
  },
  {
   "cell_type": "markdown",
   "metadata": {},
   "source": [
    "### Strings"
   ]
  },
  {
   "cell_type": "markdown",
   "metadata": {},
   "source": [
    "#### Strings are used to store text information, such as name. Strings in Python are basically a sequence of characters, and Python keeps track of every character that occurs in a given string. For example, the string 'Hello' would be understood by Python as a sequence of characters - 'h', 'e', 'l', 'l', 'o'. This means that as programmers, we can access each characeter of a given string by using its unique index.\n",
    "\n",
    "#### In this section we will look at the following:\n",
    "##### 1. Creating Strings\n",
    "##### 2. Printing Strings\n",
    "##### 3. String Indexing and Slicing\n",
    "##### 4. String Properties\n",
    "##### 5. String Methods\n",
    "##### 6. Print Formatting"
   ]
  },
  {
   "cell_type": "code",
   "execution_count": 2,
   "metadata": {},
   "outputs": [
    {
     "name": "stdout",
     "output_type": "stream",
     "text": [
      "Hello\n"
     ]
    }
   ],
   "source": [
    "# In Python, we can create a string by using either single quotes or double quotes\n",
    "# Single Word\n",
    "print('Hello')"
   ]
  },
  {
   "cell_type": "code",
   "execution_count": 3,
   "metadata": {},
   "outputs": [
    {
     "name": "stdout",
     "output_type": "stream",
     "text": [
      "This is a string\n"
     ]
    }
   ],
   "source": [
    "# Entire sentence\n",
    "print('This is a string')"
   ]
  },
  {
   "cell_type": "markdown",
   "metadata": {},
   "source": [
    "##### We can now introduce the concept of 'variables'. A variable is something that holds or stores a value. We can use a variable and assign it a string value. This variable can then be used at multiple places throughout our code to refer to the value we assigned it. \n",
    "\n",
    "##### We create and initialize (assign a value) a variable in the following way:\n",
    "##### variable_name = value or expression\n",
    "\n",
    "##### We usually name a variable based on the value that it will hold. This will be clear as we go along"
   ]
  },
  {
   "cell_type": "code",
   "execution_count": 4,
   "metadata": {},
   "outputs": [
    {
     "name": "stdout",
     "output_type": "stream",
     "text": [
      "New York\n"
     ]
    }
   ],
   "source": [
    "# Create a variable named City and give it a value\n",
    "city = 'New York'\n",
    "\n",
    "print(city)"
   ]
  },
  {
   "cell_type": "code",
   "execution_count": 5,
   "metadata": {},
   "outputs": [
    {
     "name": "stdout",
     "output_type": "stream",
     "text": [
      "<class 'str'>\n"
     ]
    }
   ],
   "source": [
    "# Print the 'type' of city\n",
    "print(type(city))"
   ]
  },
  {
   "cell_type": "code",
   "execution_count": 6,
   "metadata": {},
   "outputs": [
    {
     "name": "stdout",
     "output_type": "stream",
     "text": [
      "8\n"
     ]
    }
   ],
   "source": [
    "# Print the length of city\n",
    "print(len(city))"
   ]
  },
  {
   "cell_type": "code",
   "execution_count": 7,
   "metadata": {},
   "outputs": [
    {
     "name": "stdout",
     "output_type": "stream",
     "text": [
      "t\n"
     ]
    }
   ],
   "source": [
    "# String Indexing - extract a character from a specific index\n",
    "course = 'Python for Beginners'\n",
    "print(course[2])"
   ]
  },
  {
   "cell_type": "code",
   "execution_count": 8,
   "metadata": {},
   "outputs": [
    {
     "name": "stdout",
     "output_type": "stream",
     "text": [
      "Pytho\n"
     ]
    }
   ],
   "source": [
    "# Print characters within a specified range - The range is from 0 to 5, but python will print characters at index 0,1,2,3,4\n",
    "print(course[0:5])"
   ]
  },
  {
   "cell_type": "code",
   "execution_count": 9,
   "metadata": {},
   "outputs": [
    {
     "name": "stdout",
     "output_type": "stream",
     "text": [
      "s\n"
     ]
    }
   ],
   "source": [
    "# Print characters beginning with the last. -1 is index for the last character, -2 is for the second-last and so on..\n",
    "print(course[-1])"
   ]
  },
  {
   "cell_type": "code",
   "execution_count": 10,
   "metadata": {},
   "outputs": [
    {
     "name": "stdout",
     "output_type": "stream",
     "text": [
      "thon for Beginne\n"
     ]
    }
   ],
   "source": [
    "# Print characters from 2nd index to the third last (-2 will be excluded). This is also called 'Slicing'\n",
    "print(course[2:-2])"
   ]
  },
  {
   "cell_type": "code",
   "execution_count": 11,
   "metadata": {},
   "outputs": [
    {
     "name": "stdout",
     "output_type": "stream",
     "text": [
      "Hello World\n"
     ]
    }
   ],
   "source": [
    "# String Concatenation - Adding Strings together\n",
    "s1 = 'Hello'\n",
    "s2 = 'World'\n",
    "print(s1 + \" \" + s2)"
   ]
  },
  {
   "cell_type": "code",
   "execution_count": 12,
   "metadata": {},
   "outputs": [
    {
     "name": "stdout",
     "output_type": "stream",
     "text": [
      "HelloHelloHello\n"
     ]
    }
   ],
   "source": [
    "# String Repetition - Multiplying \n",
    "print('Hello' * 3)"
   ]
  },
  {
   "cell_type": "code",
   "execution_count": 13,
   "metadata": {},
   "outputs": [
    {
     "name": "stdout",
     "output_type": "stream",
     "text": [
      "* * * * * * * * * * \n"
     ]
    }
   ],
   "source": [
    "print('* ' * 10)"
   ]
  },
  {
   "cell_type": "code",
   "execution_count": 14,
   "metadata": {},
   "outputs": [
    {
     "name": "stdout",
     "output_type": "stream",
     "text": [
      "True\n"
     ]
    }
   ],
   "source": [
    "# Check if a word occurs in a string (this is case-sensitive) - this returns a boolean\n",
    "print('Python' in course)"
   ]
  },
  {
   "cell_type": "code",
   "execution_count": 15,
   "metadata": {},
   "outputs": [
    {
     "name": "stdout",
     "output_type": "stream",
     "text": [
      "7\n"
     ]
    }
   ],
   "source": [
    "# We can also use the find() method of string to find a word - this method returns the starting index of the \n",
    "# word and is case-sensitive\n",
    "print(course.find('for'))"
   ]
  },
  {
   "cell_type": "code",
   "execution_count": 16,
   "metadata": {},
   "outputs": [
    {
     "name": "stdout",
     "output_type": "stream",
     "text": [
      "-1\n"
     ]
    }
   ],
   "source": [
    "# If the given argument is not found, then a -1 is returned\n",
    "print(course.find('beginner'))"
   ]
  },
  {
   "cell_type": "code",
   "execution_count": 17,
   "metadata": {},
   "outputs": [
    {
     "name": "stdout",
     "output_type": "stream",
     "text": [
      "PYTHON FOR BEGINNERS\n"
     ]
    }
   ],
   "source": [
    "# Basic String Methods - Convert all characters to uppercase\n",
    "print(course.upper())"
   ]
  },
  {
   "cell_type": "code",
   "execution_count": 18,
   "metadata": {},
   "outputs": [
    {
     "name": "stdout",
     "output_type": "stream",
     "text": [
      "python for beginners\n"
     ]
    }
   ],
   "source": [
    "# Basic String Methods - Convert all characters to lowercase\n",
    "print(course.lower())"
   ]
  },
  {
   "cell_type": "code",
   "execution_count": 19,
   "metadata": {},
   "outputs": [
    {
     "name": "stdout",
     "output_type": "stream",
     "text": [
      "My name is John Smith, and my age is 29\n",
      "My name is John Smith, and my age is 29\n",
      "My name is John Smith, and my age is 29\n"
     ]
    }
   ],
   "source": [
    "# String Formatting \n",
    "name = 'John Smith'\n",
    "age = 29\n",
    "\n",
    "print(\"My name is %s, and my age is %s\" % (name, age))\n",
    "\n",
    "print(f'My name is {name}, and my age is {age}')\n",
    "\n",
    "print(\"My name is {}, and my age is {}\".format(name, age))"
   ]
  },
  {
   "cell_type": "markdown",
   "metadata": {},
   "source": [
    "### Numbers"
   ]
  },
  {
   "cell_type": "markdown",
   "metadata": {},
   "source": [
    "#### We will focus on two types of number values that we can store in Python: integers and floating point numbers\n",
    "#### Integers are whole numbers, positive or negative. For example: -3, 4, -9...\n",
    "#### Floating point numbers contain a decimal point. For example: 3.20, 25.567, 0.33333... "
   ]
  },
  {
   "cell_type": "code",
   "execution_count": 20,
   "metadata": {},
   "outputs": [
    {
     "name": "stdout",
     "output_type": "stream",
     "text": [
      "3\n",
      "60\n",
      "6\n",
      "3.0\n"
     ]
    }
   ],
   "source": [
    "# Let's start with some basic arithmetic\n",
    "print(2+1)\n",
    "print(2*30)\n",
    "print(10-4)\n",
    "print(12/4)"
   ]
  },
  {
   "cell_type": "code",
   "execution_count": 21,
   "metadata": {},
   "outputs": [
    {
     "data": {
      "text/plain": [
       "8"
      ]
     },
     "execution_count": 21,
     "metadata": {},
     "output_type": "execute_result"
    }
   ],
   "source": [
    "# Powers \n",
    "2 ** 3"
   ]
  },
  {
   "cell_type": "code",
   "execution_count": 22,
   "metadata": {},
   "outputs": [
    {
     "name": "stdout",
     "output_type": "stream",
     "text": [
      "105\n"
     ]
    }
   ],
   "source": [
    "# Order of precedence in Python - parenthesis, exponentiation, multiplication or division, addition or subtraction\n",
    "# Result of the following will be: 105 (10 * 10 will be computed first and then 2 + 3 will be added to the result)\n",
    "print(2 + 10 * 10 + 3)"
   ]
  },
  {
   "cell_type": "code",
   "execution_count": 23,
   "metadata": {},
   "outputs": [
    {
     "name": "stdout",
     "output_type": "stream",
     "text": [
      "156\n"
     ]
    }
   ],
   "source": [
    "# Result of the following however will be different: The addition will be done first, and so it will be 12 * 13\n",
    "print((2 + 10) * (10 + 3))"
   ]
  },
  {
   "cell_type": "code",
   "execution_count": 24,
   "metadata": {},
   "outputs": [
    {
     "name": "stdout",
     "output_type": "stream",
     "text": [
      "2400\n"
     ]
    }
   ],
   "source": [
    "# Let's do some exercises\n",
    "# Calculate the area of a rectangle, given its height and width\n",
    "height = 60\n",
    "width = 40\n",
    "area_of_rectangle = height * width\n",
    "print(area_of_rectangle)"
   ]
  },
  {
   "cell_type": "code",
   "execution_count": 25,
   "metadata": {},
   "outputs": [
    {
     "name": "stdout",
     "output_type": "stream",
     "text": [
      "25.000000000000004\n"
     ]
    }
   ],
   "source": [
    "# Calculate BMI (BMI = weight / (height * height))\n",
    "height = 1.7\n",
    "weight = 72.25\n",
    "bmi = weight / (height * height)\n",
    "print(bmi)"
   ]
  },
  {
   "cell_type": "code",
   "execution_count": 26,
   "metadata": {},
   "outputs": [
    {
     "name": "stdout",
     "output_type": "stream",
     "text": [
      "25\n"
     ]
    }
   ],
   "source": [
    "# Since this is a floating point number - let's convert it to int so that it can be rounded off\n",
    "bmi = int(bmi)\n",
    "print(bmi)"
   ]
  },
  {
   "cell_type": "markdown",
   "metadata": {},
   "source": [
    "### Booleans"
   ]
  },
  {
   "cell_type": "markdown",
   "metadata": {},
   "source": [
    "#### A boolean is a type of variable that can have only two possible values - true or false"
   ]
  },
  {
   "cell_type": "code",
   "execution_count": 27,
   "metadata": {},
   "outputs": [
    {
     "name": "stdout",
     "output_type": "stream",
     "text": [
      "True\n"
     ]
    }
   ],
   "source": [
    "flag = True\n",
    "print(flag)"
   ]
  },
  {
   "cell_type": "code",
   "execution_count": 28,
   "metadata": {},
   "outputs": [
    {
     "name": "stdout",
     "output_type": "stream",
     "text": [
      "False\n"
     ]
    }
   ],
   "source": [
    "flag = False\n",
    "print(flag)"
   ]
  },
  {
   "cell_type": "markdown",
   "metadata": {},
   "source": [
    "#### Boolean variables are helpful in conditions that decide program flow and we will take a look at these later..."
   ]
  },
  {
   "cell_type": "markdown",
   "metadata": {},
   "source": [
    "### Functions"
   ]
  },
  {
   "cell_type": "markdown",
   "metadata": {},
   "source": [
    "#### Functions are re-usable pieces of code that perform a set or group of tasks. If a piece of code needs to perform a certain computation again and again, then this piece of code is a good candidate for a function\n",
    "#### We call a function by its name so that code defined within it can be executed\n",
    "#### A function may take some values as input (called arguments) and may return a value (output), although this is not mandatory. A function may not return any output and may exit after performing a specific task like updating the value of a variable or printing something on the screen..."
   ]
  },
  {
   "cell_type": "code",
   "execution_count": 29,
   "metadata": {},
   "outputs": [
    {
     "data": {
      "text/plain": [
       "int"
      ]
     },
     "execution_count": 29,
     "metadata": {},
     "output_type": "execute_result"
    }
   ],
   "source": [
    "# Let's take a look at a basic function that we have used before - type(). This function returns the type of a variable\n",
    "type(23)"
   ]
  },
  {
   "cell_type": "code",
   "execution_count": 30,
   "metadata": {},
   "outputs": [
    {
     "data": {
      "text/plain": [
       "str"
      ]
     },
     "execution_count": 30,
     "metadata": {},
     "output_type": "execute_result"
    }
   ],
   "source": [
    "type('Hello')"
   ]
  },
  {
   "cell_type": "code",
   "execution_count": 31,
   "metadata": {},
   "outputs": [
    {
     "data": {
      "text/plain": [
       "bool"
      ]
     },
     "execution_count": 31,
     "metadata": {},
     "output_type": "execute_result"
    }
   ],
   "source": [
    "type(True)"
   ]
  },
  {
   "cell_type": "code",
   "execution_count": 32,
   "metadata": {},
   "outputs": [],
   "source": [
    "# Create a function that takes two numbers as arguments and returns their sum\n",
    "def add_num(num1, num2):\n",
    "    return num1 + num2"
   ]
  },
  {
   "cell_type": "code",
   "execution_count": 33,
   "metadata": {},
   "outputs": [
    {
     "name": "stdout",
     "output_type": "stream",
     "text": [
      "20\n"
     ]
    }
   ],
   "source": [
    "# We now need to call this function to execute it, and since it returns a value, we can create a variable to store it\n",
    "total = add_num(9,11)\n",
    "print(total)"
   ]
  },
  {
   "cell_type": "code",
   "execution_count": 34,
   "metadata": {},
   "outputs": [
    {
     "name": "stdout",
     "output_type": "stream",
     "text": [
      "Something\n"
     ]
    }
   ],
   "source": [
    "# Here's another example of a function\n",
    "def print_something():\n",
    "    print('Something')\n",
    "print_something()"
   ]
  },
  {
   "cell_type": "markdown",
   "metadata": {},
   "source": [
    "### Conditions and Comparision Operators"
   ]
  },
  {
   "cell_type": "code",
   "execution_count": 35,
   "metadata": {},
   "outputs": [
    {
     "name": "stdout",
     "output_type": "stream",
     "text": [
      "x is smaller\n"
     ]
    }
   ],
   "source": [
    "# Consider the following code:\n",
    "x = 5\n",
    "if x < 10:\n",
    "    print('x is smaller')\n",
    "if x > 10:\n",
    "    print('x is larger')"
   ]
  },
  {
   "cell_type": "code",
   "execution_count": 36,
   "metadata": {},
   "outputs": [
    {
     "name": "stdout",
     "output_type": "stream",
     "text": [
      "John Smith is a new patient\n"
     ]
    }
   ],
   "source": [
    "# We initialized a variable and then 'checked' if the value in the variable is greater or less than 10\n",
    "# The 'if' keyword specifies conditional statements\n",
    "# If statements are widely used with boolean variables. We can check if a boolean is true or false and then do something\n",
    "# based on that. The 'else' keyword allows us to execute code if the condition we are trying to check is not true\n",
    "name = 'John Smith'\n",
    "new_patient = True\n",
    "\n",
    "if new_patient:\n",
    "    print(f'{name} is a new patient')\n",
    "else:\n",
    "    print(f'{name} is not a new patient')"
   ]
  },
  {
   "cell_type": "code",
   "execution_count": 37,
   "metadata": {},
   "outputs": [
    {
     "name": "stdout",
     "output_type": "stream",
     "text": [
      "Equals 10\n",
      "x is greater than 5\n",
      "x is greater than or equal to 5\n",
      "x is not equal to 6\n"
     ]
    }
   ],
   "source": [
    "# Comparision Operators\n",
    "x = 10\n",
    "if x == 10:\n",
    "    print('Equals 10')\n",
    "if x > 5:\n",
    "    print('x is greater than 5')\n",
    "if x >= 5:\n",
    "    print('x is greater than or equal to 5')\n",
    "if x < 6:\n",
    "    print('x is less than 6')\n",
    "if x<= 6:\n",
    "    print('x is less than or equal to 6')\n",
    "if x != 6:\n",
    "    print('x is not equal to 6')"
   ]
  },
  {
   "cell_type": "code",
   "execution_count": 38,
   "metadata": {},
   "outputs": [
    {
     "name": "stdout",
     "output_type": "stream",
     "text": [
      "x is larger than 1\n",
      "x is smaller than 100\n"
     ]
    }
   ],
   "source": [
    "# Nested Decisions\n",
    "x = 42\n",
    "if x > 1:\n",
    "    print('x is larger than 1')\n",
    "    if x < 100:\n",
    "        print('x is smaller than 100')"
   ]
  },
  {
   "cell_type": "code",
   "execution_count": 39,
   "metadata": {},
   "outputs": [
    {
     "name": "stdout",
     "output_type": "stream",
     "text": [
      "x is smaller than 100\n"
     ]
    }
   ],
   "source": [
    "# Two-Way decisions\n",
    "x = 42\n",
    "if x > 100:\n",
    "    print('x is larger than 100')\n",
    "else:\n",
    "    print('x is smaller than 100')"
   ]
  },
  {
   "cell_type": "code",
   "execution_count": 40,
   "metadata": {},
   "outputs": [
    {
     "name": "stdout",
     "output_type": "stream",
     "text": [
      "x is smaller than 50\n"
     ]
    }
   ],
   "source": [
    "# Multi-Way decisions using elif\n",
    "x = 42\n",
    "if x < 2:\n",
    "    print('x is smaller than 2')\n",
    "elif x <50:\n",
    "    print('x is smaller than 50')\n",
    "else:\n",
    "    print('x is larger than 50')"
   ]
  },
  {
   "cell_type": "code",
   "execution_count": 41,
   "metadata": {},
   "outputs": [
    {
     "name": "stdout",
     "output_type": "stream",
     "text": [
      "x is smaller than 50\n"
     ]
    }
   ],
   "source": [
    "# Multi-Way without else\n",
    "x = 42\n",
    "if x < 50:\n",
    "    print('x is smaller than 50')\n",
    "elif x > 50:\n",
    "    print('x is larger than 50')"
   ]
  },
  {
   "cell_type": "markdown",
   "metadata": {},
   "source": [
    "### Try-Except and User Input"
   ]
  },
  {
   "cell_type": "markdown",
   "metadata": {},
   "source": [
    "#### If we are anticipating that a piece of code is likely to produce an error, then those statements can be surrounded by a try-except block\n",
    "#### A common use for this is to ask a user to enter a specific type of value, for example only an integer"
   ]
  },
  {
   "cell_type": "code",
   "execution_count": 42,
   "metadata": {},
   "outputs": [
    {
     "name": "stdout",
     "output_type": "stream",
     "text": [
      "Enter a number :12\n",
      "you entered: 12\n"
     ]
    }
   ],
   "source": [
    "# Ask user to enter an integer value and verify it - statements in the try block are executed if user entered an integer\n",
    "try:\n",
    "    some_val = int(input(\"Enter a number :\"))\n",
    "    print(f'you entered: {some_val}')\n",
    "except:\n",
    "    print('That is not a number')"
   ]
  },
  {
   "cell_type": "code",
   "execution_count": 43,
   "metadata": {},
   "outputs": [
    {
     "name": "stdout",
     "output_type": "stream",
     "text": [
      "Enter a number :ef\n",
      "That is not a number\n"
     ]
    }
   ],
   "source": [
    "# Ask user to enter an integer value and verify it - statements in the except block are executed if value entered is not \n",
    "# an integer\n",
    "try:\n",
    "    some_val = int(input(\"Enter a number :\"))\n",
    "    print(f'you entered: {some_val}')\n",
    "except:\n",
    "    print('That is not a number')"
   ]
  },
  {
   "cell_type": "markdown",
   "metadata": {},
   "source": [
    "## Loops"
   ]
  },
  {
   "cell_type": "markdown",
   "metadata": {},
   "source": [
    "#### A while loop repeats a set of statements based on the condition provided to it"
   ]
  },
  {
   "cell_type": "code",
   "execution_count": 47,
   "metadata": {},
   "outputs": [
    {
     "name": "stdout",
     "output_type": "stream",
     "text": [
      "5\n",
      "4\n",
      "3\n",
      "2\n",
      "1\n"
     ]
    }
   ],
   "source": [
    "# print the value of n while n is greater than 0. With each iteration we decrement value of n by 1, so that we exit\n",
    "# the loop when n = 0\n",
    "n = 5\n",
    "while n > 0:\n",
    "    print(n)\n",
    "    n -= 1"
   ]
  },
  {
   "cell_type": "code",
   "execution_count": null,
   "metadata": {},
   "outputs": [],
   "source": []
  }
 ],
 "metadata": {
  "kernelspec": {
   "display_name": "Python 3",
   "language": "python",
   "name": "python3"
  },
  "language_info": {
   "codemirror_mode": {
    "name": "ipython",
    "version": 3
   },
   "file_extension": ".py",
   "mimetype": "text/x-python",
   "name": "python",
   "nbconvert_exporter": "python",
   "pygments_lexer": "ipython3",
   "version": "3.7.6"
  }
 },
 "nbformat": 4,
 "nbformat_minor": 4
}
