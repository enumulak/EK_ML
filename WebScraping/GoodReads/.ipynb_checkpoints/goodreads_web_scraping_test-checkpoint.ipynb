{
 "cells": [
  {
   "cell_type": "markdown",
   "metadata": {},
   "source": [
    "## Book Data from GoodReads\n",
    "### A Web Scraping Project\n",
    "\n",
    "#### In this exercise, we will be scraping the goodreads web site to get information on books. Specifically, we will be targeting the list - 'Books that everyone should read at least once'. The scraping will be accomplished in two steps:\n",
    "\n",
    "#### Step 1: Get the Book name and Book URL from all pages of the above mentioned list. Store this information in a dictionary and subsequently convert it to a CSV for persistence\n",
    "\n",
    "#### Step 2: Get Book-specific information from each URL, build a pandas dataframe with this data and save the entire dataset to CSV for persistence\n",
    "\n",
    "#### Let's begin!"
   ]
  },
  {
   "cell_type": "code",
   "execution_count": 6,
   "metadata": {},
   "outputs": [],
   "source": [
    "# Import required libraries\n",
    "\n",
    "from bs4 import BeautifulSoup as bs\n",
    "import urllib.request\n",
    "import pandas as pd\n",
    "import numpy as np\n",
    "import time\n",
    "import lxml # If this library does not import then install via - !pip install lxml\n",
    "\n",
    "import warnings\n",
    "warnings.filterwarnings('ignore')\n",
    "\n",
    "from requests import get\n",
    "import os"
   ]
  },
  {
   "cell_type": "code",
   "execution_count": 2,
   "metadata": {},
   "outputs": [],
   "source": [
    "# Required Variables\n",
    "\n",
    "BASE_URL = 'https://www.goodreads.com'\n",
    "LIST_URL = 'https://www.goodreads.com/list/show/264.Books_That_Everyone_Should_Read_At_Least_Once'\n",
    "\n",
    "hdr = {'User-Agent': 'Mozilla/5.0 (X11; Linux x86_64) AppleWebKit/537.11 (KHTML, like Gecko) Chrome/23.0.1271.64 Safari/537.11',\n",
    "      'Accept': 'text/html,application/xhtml+xml,application/xml;q=0.9,*/*;q=0.8',\n",
    "      'Referer': 'https://cssspritegenerator.com',\n",
    "      'Accept-Charset': 'ISO-8859-1,utf-8;q=0.7,*;q=0.3',\n",
    "      'Accept-Encoding': 'none',\n",
    "      'Accept-Language': 'en-US,en;q=0.8'}\n",
    "\n",
    "num_pages = 2\n",
    "\n",
    "books = {'Title': [], 'URL': []}"
   ]
  },
  {
   "cell_type": "code",
   "execution_count": 3,
   "metadata": {},
   "outputs": [
    {
     "data": {
      "text/plain": [
       "{'Title': [], 'URL': []}"
      ]
     },
     "execution_count": 3,
     "metadata": {},
     "output_type": "execute_result"
    }
   ],
   "source": [
    "books"
   ]
  },
  {
   "cell_type": "code",
   "execution_count": 4,
   "metadata": {},
   "outputs": [
    {
     "name": "stdout",
     "output_type": "stream",
     "text": [
      "Reading Page 1\n"
     ]
    },
    {
     "data": {
      "text/html": [
       "<div>\n",
       "<style scoped>\n",
       "    .dataframe tbody tr th:only-of-type {\n",
       "        vertical-align: middle;\n",
       "    }\n",
       "\n",
       "    .dataframe tbody tr th {\n",
       "        vertical-align: top;\n",
       "    }\n",
       "\n",
       "    .dataframe thead th {\n",
       "        text-align: right;\n",
       "    }\n",
       "</style>\n",
       "<table border=\"1\" class=\"dataframe\">\n",
       "  <thead>\n",
       "    <tr style=\"text-align: right;\">\n",
       "      <th></th>\n",
       "      <th>Title</th>\n",
       "      <th>URL</th>\n",
       "    </tr>\n",
       "  </thead>\n",
       "  <tbody>\n",
       "    <tr>\n",
       "      <th>0</th>\n",
       "      <td>To Kill a Mockingbird</td>\n",
       "      <td>https://www.goodreads.com/book/show/2657.To_Ki...</td>\n",
       "    </tr>\n",
       "    <tr>\n",
       "      <th>1</th>\n",
       "      <td>Harry Potter and the Sorcerer's Stone (Harry P...</td>\n",
       "      <td>https://www.goodreads.com/book/show/3.Harry_Po...</td>\n",
       "    </tr>\n",
       "    <tr>\n",
       "      <th>2</th>\n",
       "      <td>1984</td>\n",
       "      <td>https://www.goodreads.com/book/show/40961427-1984</td>\n",
       "    </tr>\n",
       "    <tr>\n",
       "      <th>3</th>\n",
       "      <td>Pride and Prejudice</td>\n",
       "      <td>https://www.goodreads.com/book/show/1885.Pride...</td>\n",
       "    </tr>\n",
       "    <tr>\n",
       "      <th>4</th>\n",
       "      <td>The Diary of a Young Girl</td>\n",
       "      <td>https://www.goodreads.com/book/show/48855.The_...</td>\n",
       "    </tr>\n",
       "  </tbody>\n",
       "</table>\n",
       "</div>"
      ],
      "text/plain": [
       "                                               Title  \\\n",
       "0                              To Kill a Mockingbird   \n",
       "1  Harry Potter and the Sorcerer's Stone (Harry P...   \n",
       "2                                               1984   \n",
       "3                                Pride and Prejudice   \n",
       "4                          The Diary of a Young Girl   \n",
       "\n",
       "                                                 URL  \n",
       "0  https://www.goodreads.com/book/show/2657.To_Ki...  \n",
       "1  https://www.goodreads.com/book/show/3.Harry_Po...  \n",
       "2  https://www.goodreads.com/book/show/40961427-1984  \n",
       "3  https://www.goodreads.com/book/show/1885.Pride...  \n",
       "4  https://www.goodreads.com/book/show/48855.The_...  "
      ]
     },
     "execution_count": 4,
     "metadata": {},
     "output_type": "execute_result"
    }
   ],
   "source": [
    "for i in range(1, num_pages):\n",
    "    print(f'Reading Page {i}')\n",
    "    list_page_url = f'{LIST_URL}?page={i}'\n",
    "    list_page = get(list_page_url, headers = hdr)\n",
    "    list_soup = bs(list_page.content, 'lxml')\n",
    "    book_table = list_soup.find('table', attrs={'class': 'tableList'})\n",
    "    rows = book_table.find_all('tr')\n",
    "    for row in rows:\n",
    "        link = row.find('a', attrs={'class': 'bookTitle'})\n",
    "        title = link.find('span').text\n",
    "        books['Title'] += [title]\n",
    "        url = link.attrs['href']\n",
    "        full_url = BASE_URL+url\n",
    "        books['URL'] += [full_url]\n",
    "\n",
    "books_df = pd.DataFrame.from_dict(books)\n",
    "books_df.head()"
   ]
  },
  {
   "cell_type": "code",
   "execution_count": 5,
   "metadata": {},
   "outputs": [],
   "source": [
    "test_url = 'https://www.goodreads.com/book/show/2657.To_Kill_a_Mockingbird'"
   ]
  },
  {
   "cell_type": "code",
   "execution_count": 9,
   "metadata": {},
   "outputs": [],
   "source": [
    "if not os.path.exists('book_data_test.csv'):\n",
    "    \n",
    "    book_data = pd.DataFrame(columns=[\n",
    "        \n",
    "        'img_url',\n",
    "        'book_title',\n",
    "        'book_authors',\n",
    "        'book_format',\n",
    "        'book_pages',\n",
    "        'avg_rating',\n",
    "        'rating_count',\n",
    "        'review_count'\n",
    "    ])\n",
    "    \n",
    "    book_data.to_csv('book_data_test.csv')\n",
    "\n",
    "book_data = pd.read_csv('book_data_test.csv')"
   ]
  },
  {
   "cell_type": "code",
   "execution_count": 10,
   "metadata": {},
   "outputs": [
    {
     "data": {
      "text/html": [
       "<div>\n",
       "<style scoped>\n",
       "    .dataframe tbody tr th:only-of-type {\n",
       "        vertical-align: middle;\n",
       "    }\n",
       "\n",
       "    .dataframe tbody tr th {\n",
       "        vertical-align: top;\n",
       "    }\n",
       "\n",
       "    .dataframe thead th {\n",
       "        text-align: right;\n",
       "    }\n",
       "</style>\n",
       "<table border=\"1\" class=\"dataframe\">\n",
       "  <thead>\n",
       "    <tr style=\"text-align: right;\">\n",
       "      <th></th>\n",
       "      <th>Unnamed: 0</th>\n",
       "      <th>img_url</th>\n",
       "      <th>book_title</th>\n",
       "      <th>book_authors</th>\n",
       "      <th>book_format</th>\n",
       "      <th>book_pages</th>\n",
       "      <th>avg_rating</th>\n",
       "      <th>rating_count</th>\n",
       "      <th>review_count</th>\n",
       "    </tr>\n",
       "  </thead>\n",
       "  <tbody>\n",
       "  </tbody>\n",
       "</table>\n",
       "</div>"
      ],
      "text/plain": [
       "Empty DataFrame\n",
       "Columns: [Unnamed: 0, img_url, book_title, book_authors, book_format, book_pages, avg_rating, rating_count, review_count]\n",
       "Index: []"
      ]
     },
     "execution_count": 10,
     "metadata": {},
     "output_type": "execute_result"
    }
   ],
   "source": [
    "book_data.head()"
   ]
  },
  {
   "cell_type": "code",
   "execution_count": 13,
   "metadata": {},
   "outputs": [],
   "source": [
    "try:\n",
    "    book_page = get(test_url)\n",
    "    book_soup = bs(book_page.content, 'lxml')\n",
    "    #print(book_soup.prettify())\n",
    "    \n",
    "    book = dict()\n",
    "    \n",
    "    image_url = book_soup.find('img', attrs={'id': 'coverImage'})\n",
    "    \n",
    "    if(image_url):\n",
    "        book['img_url'] = image_url.attrs['src']\n",
    "    else:\n",
    "        book['img_url'] = ''\n",
    "        \n",
    "    \n",
    "    title = book_soup.find('h1', attrs={'id': bookTitle})\n",
    "    if(title):\n",
    "        book['book_title'] = title.text\n",
    "    \n",
    "except:\n",
    "    print(\"hello\")"
   ]
  },
  {
   "cell_type": "code",
   "execution_count": null,
   "metadata": {},
   "outputs": [],
   "source": []
  }
 ],
 "metadata": {
  "kernelspec": {
   "display_name": "Python 3",
   "language": "python",
   "name": "python3"
  },
  "language_info": {
   "codemirror_mode": {
    "name": "ipython",
    "version": 3
   },
   "file_extension": ".py",
   "mimetype": "text/x-python",
   "name": "python",
   "nbconvert_exporter": "python",
   "pygments_lexer": "ipython3",
   "version": "3.7.6"
  }
 },
 "nbformat": 4,
 "nbformat_minor": 4
}
