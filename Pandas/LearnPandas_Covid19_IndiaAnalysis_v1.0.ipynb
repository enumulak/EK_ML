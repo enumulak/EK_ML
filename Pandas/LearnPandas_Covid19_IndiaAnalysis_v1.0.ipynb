{
 "cells": [
  {
   "cell_type": "markdown",
   "metadata": {},
   "source": [
    "# Data Analysis using Python and Pandas\n",
    "\n",
    "#### Pandas is a flexible and easy-to-use data analysis library built on top of the Python programming language"
   ]
  },
  {
   "cell_type": "code",
   "execution_count": 1,
   "metadata": {},
   "outputs": [],
   "source": [
    "import pandas as pd\n",
    "import numpy as np\n",
    "\n",
    "import warnings\n",
    "warnings.filterwarnings('ignore')"
   ]
  },
  {
   "cell_type": "code",
   "execution_count": 2,
   "metadata": {},
   "outputs": [],
   "source": [
    "# The dataset we are using has been downloaded from https://covid19.org\n",
    "# This is time-series data representing covid19 status in India\n",
    "# Read the CSV file using pandas\n",
    "\n",
    "covid_df = pd.read_csv('./Data/covid19_time_series_India.csv')"
   ]
  },
  {
   "cell_type": "markdown",
   "metadata": {},
   "source": [
    "##### Data from the file is read and stored in 'DataFrame' obect - one of the core structures in Pandas for storing and working with tabular data"
   ]
  },
  {
   "cell_type": "code",
   "execution_count": 3,
   "metadata": {},
   "outputs": [
    {
     "data": {
      "text/plain": [
       "pandas.core.frame.DataFrame"
      ]
     },
     "execution_count": 3,
     "metadata": {},
     "output_type": "execute_result"
    }
   ],
   "source": [
    "type(covid_df)"
   ]
  },
  {
   "cell_type": "code",
   "execution_count": 4,
   "metadata": {},
   "outputs": [
    {
     "data": {
      "text/html": [
       "<div>\n",
       "<style scoped>\n",
       "    .dataframe tbody tr th:only-of-type {\n",
       "        vertical-align: middle;\n",
       "    }\n",
       "\n",
       "    .dataframe tbody tr th {\n",
       "        vertical-align: top;\n",
       "    }\n",
       "\n",
       "    .dataframe thead th {\n",
       "        text-align: right;\n",
       "    }\n",
       "</style>\n",
       "<table border=\"1\" class=\"dataframe\">\n",
       "  <thead>\n",
       "    <tr style=\"text-align: right;\">\n",
       "      <th></th>\n",
       "      <th>Date</th>\n",
       "      <th>Date_YMD</th>\n",
       "      <th>Daily Confirmed</th>\n",
       "      <th>Total Confirmed</th>\n",
       "      <th>Daily Recovered</th>\n",
       "      <th>Total Recovered</th>\n",
       "      <th>Daily Deceased</th>\n",
       "      <th>Total Deceased</th>\n",
       "    </tr>\n",
       "  </thead>\n",
       "  <tbody>\n",
       "    <tr>\n",
       "      <th>0</th>\n",
       "      <td>30 January</td>\n",
       "      <td>2020-01-30</td>\n",
       "      <td>1</td>\n",
       "      <td>1</td>\n",
       "      <td>0</td>\n",
       "      <td>0</td>\n",
       "      <td>0</td>\n",
       "      <td>0</td>\n",
       "    </tr>\n",
       "    <tr>\n",
       "      <th>1</th>\n",
       "      <td>31 January</td>\n",
       "      <td>2020-01-31</td>\n",
       "      <td>0</td>\n",
       "      <td>1</td>\n",
       "      <td>0</td>\n",
       "      <td>0</td>\n",
       "      <td>0</td>\n",
       "      <td>0</td>\n",
       "    </tr>\n",
       "    <tr>\n",
       "      <th>2</th>\n",
       "      <td>01 February</td>\n",
       "      <td>2020-02-01</td>\n",
       "      <td>0</td>\n",
       "      <td>1</td>\n",
       "      <td>0</td>\n",
       "      <td>0</td>\n",
       "      <td>0</td>\n",
       "      <td>0</td>\n",
       "    </tr>\n",
       "    <tr>\n",
       "      <th>3</th>\n",
       "      <td>02 February</td>\n",
       "      <td>2020-02-02</td>\n",
       "      <td>1</td>\n",
       "      <td>2</td>\n",
       "      <td>0</td>\n",
       "      <td>0</td>\n",
       "      <td>0</td>\n",
       "      <td>0</td>\n",
       "    </tr>\n",
       "    <tr>\n",
       "      <th>4</th>\n",
       "      <td>03 February</td>\n",
       "      <td>2020-02-03</td>\n",
       "      <td>1</td>\n",
       "      <td>3</td>\n",
       "      <td>0</td>\n",
       "      <td>0</td>\n",
       "      <td>0</td>\n",
       "      <td>0</td>\n",
       "    </tr>\n",
       "    <tr>\n",
       "      <th>...</th>\n",
       "      <td>...</td>\n",
       "      <td>...</td>\n",
       "      <td>...</td>\n",
       "      <td>...</td>\n",
       "      <td>...</td>\n",
       "      <td>...</td>\n",
       "      <td>...</td>\n",
       "      <td>...</td>\n",
       "    </tr>\n",
       "    <tr>\n",
       "      <th>336</th>\n",
       "      <td>31 December</td>\n",
       "      <td>2020-12-31</td>\n",
       "      <td>19026</td>\n",
       "      <td>10286234</td>\n",
       "      <td>21969</td>\n",
       "      <td>9881565</td>\n",
       "      <td>244</td>\n",
       "      <td>148427</td>\n",
       "    </tr>\n",
       "    <tr>\n",
       "      <th>337</th>\n",
       "      <td>01 January</td>\n",
       "      <td>2021-01-01</td>\n",
       "      <td>20159</td>\n",
       "      <td>10306393</td>\n",
       "      <td>23838</td>\n",
       "      <td>9905403</td>\n",
       "      <td>237</td>\n",
       "      <td>148664</td>\n",
       "    </tr>\n",
       "    <tr>\n",
       "      <th>338</th>\n",
       "      <td>02 January</td>\n",
       "      <td>2021-01-02</td>\n",
       "      <td>18144</td>\n",
       "      <td>10324537</td>\n",
       "      <td>20903</td>\n",
       "      <td>9926306</td>\n",
       "      <td>216</td>\n",
       "      <td>148880</td>\n",
       "    </tr>\n",
       "    <tr>\n",
       "      <th>339</th>\n",
       "      <td>03 January</td>\n",
       "      <td>2021-01-03</td>\n",
       "      <td>16678</td>\n",
       "      <td>10341215</td>\n",
       "      <td>19658</td>\n",
       "      <td>9945964</td>\n",
       "      <td>215</td>\n",
       "      <td>149095</td>\n",
       "    </tr>\n",
       "    <tr>\n",
       "      <th>340</th>\n",
       "      <td>04 January</td>\n",
       "      <td>2021-01-04</td>\n",
       "      <td>16278</td>\n",
       "      <td>10357493</td>\n",
       "      <td>29209</td>\n",
       "      <td>9975173</td>\n",
       "      <td>200</td>\n",
       "      <td>149295</td>\n",
       "    </tr>\n",
       "  </tbody>\n",
       "</table>\n",
       "<p>341 rows × 8 columns</p>\n",
       "</div>"
      ],
      "text/plain": [
       "             Date    Date_YMD  Daily Confirmed  Total Confirmed  \\\n",
       "0     30 January   2020-01-30                1                1   \n",
       "1     31 January   2020-01-31                0                1   \n",
       "2    01 February   2020-02-01                0                1   \n",
       "3    02 February   2020-02-02                1                2   \n",
       "4    03 February   2020-02-03                1                3   \n",
       "..            ...         ...              ...              ...   \n",
       "336  31 December   2020-12-31            19026         10286234   \n",
       "337   01 January   2021-01-01            20159         10306393   \n",
       "338   02 January   2021-01-02            18144         10324537   \n",
       "339   03 January   2021-01-03            16678         10341215   \n",
       "340   04 January   2021-01-04            16278         10357493   \n",
       "\n",
       "     Daily Recovered  Total Recovered  Daily Deceased  Total Deceased  \n",
       "0                  0                0               0               0  \n",
       "1                  0                0               0               0  \n",
       "2                  0                0               0               0  \n",
       "3                  0                0               0               0  \n",
       "4                  0                0               0               0  \n",
       "..               ...              ...             ...             ...  \n",
       "336            21969          9881565             244          148427  \n",
       "337            23838          9905403             237          148664  \n",
       "338            20903          9926306             216          148880  \n",
       "339            19658          9945964             215          149095  \n",
       "340            29209          9975173             200          149295  \n",
       "\n",
       "[341 rows x 8 columns]"
      ]
     },
     "execution_count": 4,
     "metadata": {},
     "output_type": "execute_result"
    }
   ],
   "source": [
    "# Display the data\n",
    "covid_df"
   ]
  },
  {
   "cell_type": "markdown",
   "metadata": {},
   "source": [
    "Here's what we can say about the data:\n",
    "    - The file provides 6 day-wise metrics for Covid 19 in India\n",
    "    - The metrics are: Daily Confirmed, Total Confirmed, Daily Recovered, Total Recovered, Daily Deceased and Total Deceased\n",
    "    - Data provided is for 341 days, from 30th January 2020 to 4th January 2021\n",
    "\n",
    "NOTE: These are officially provided numbers. Actual numbers may vary since not all cases are diagnosed / recorded"
   ]
  },
  {
   "cell_type": "code",
   "execution_count": 5,
   "metadata": {},
   "outputs": [
    {
     "name": "stdout",
     "output_type": "stream",
     "text": [
      "<class 'pandas.core.frame.DataFrame'>\n",
      "RangeIndex: 341 entries, 0 to 340\n",
      "Data columns (total 8 columns):\n",
      " #   Column           Non-Null Count  Dtype \n",
      "---  ------           --------------  ----- \n",
      " 0   Date             341 non-null    object\n",
      " 1   Date_YMD         341 non-null    object\n",
      " 2   Daily Confirmed  341 non-null    int64 \n",
      " 3   Total Confirmed  341 non-null    int64 \n",
      " 4   Daily Recovered  341 non-null    int64 \n",
      " 5   Total Recovered  341 non-null    int64 \n",
      " 6   Daily Deceased   341 non-null    int64 \n",
      " 7   Total Deceased   341 non-null    int64 \n",
      "dtypes: int64(6), object(2)\n",
      "memory usage: 21.4+ KB\n"
     ]
    }
   ],
   "source": [
    "# View basic information about the data frame\n",
    "covid_df.info()"
   ]
  },
  {
   "cell_type": "markdown",
   "metadata": {},
   "source": [
    "We see that each column contains values of a specific data type. Statistical information can be viewed for numerical columns\n",
    "(Mean, Standard Deviation, Min / Max Values, and number of null / empty values) using the 'describe' method"
   ]
  },
  {
   "cell_type": "code",
   "execution_count": 6,
   "metadata": {},
   "outputs": [
    {
     "data": {
      "text/html": [
       "<div>\n",
       "<style scoped>\n",
       "    .dataframe tbody tr th:only-of-type {\n",
       "        vertical-align: middle;\n",
       "    }\n",
       "\n",
       "    .dataframe tbody tr th {\n",
       "        vertical-align: top;\n",
       "    }\n",
       "\n",
       "    .dataframe thead th {\n",
       "        text-align: right;\n",
       "    }\n",
       "</style>\n",
       "<table border=\"1\" class=\"dataframe\">\n",
       "  <thead>\n",
       "    <tr style=\"text-align: right;\">\n",
       "      <th></th>\n",
       "      <th>Daily Confirmed</th>\n",
       "      <th>Total Confirmed</th>\n",
       "      <th>Daily Recovered</th>\n",
       "      <th>Total Recovered</th>\n",
       "      <th>Daily Deceased</th>\n",
       "      <th>Total Deceased</th>\n",
       "    </tr>\n",
       "  </thead>\n",
       "  <tbody>\n",
       "    <tr>\n",
       "      <th>count</th>\n",
       "      <td>341.000000</td>\n",
       "      <td>3.410000e+02</td>\n",
       "      <td>341.000000</td>\n",
       "      <td>3.410000e+02</td>\n",
       "      <td>341.000000</td>\n",
       "      <td>341.000000</td>\n",
       "    </tr>\n",
       "    <tr>\n",
       "      <th>mean</th>\n",
       "      <td>30373.879765</td>\n",
       "      <td>3.300570e+06</td>\n",
       "      <td>29252.706745</td>\n",
       "      <td>2.905230e+06</td>\n",
       "      <td>437.815249</td>\n",
       "      <td>51925.797654</td>\n",
       "    </tr>\n",
       "    <tr>\n",
       "      <th>std</th>\n",
       "      <td>29393.037881</td>\n",
       "      <td>3.791066e+06</td>\n",
       "      <td>29373.625649</td>\n",
       "      <td>3.556720e+06</td>\n",
       "      <td>383.847271</td>\n",
       "      <td>54722.137416</td>\n",
       "    </tr>\n",
       "    <tr>\n",
       "      <th>min</th>\n",
       "      <td>0.000000</td>\n",
       "      <td>1.000000e+00</td>\n",
       "      <td>0.000000</td>\n",
       "      <td>0.000000e+00</td>\n",
       "      <td>0.000000</td>\n",
       "      <td>0.000000</td>\n",
       "    </tr>\n",
       "    <tr>\n",
       "      <th>25%</th>\n",
       "      <td>1580.000000</td>\n",
       "      <td>2.444800e+04</td>\n",
       "      <td>580.000000</td>\n",
       "      <td>5.496000e+03</td>\n",
       "      <td>53.000000</td>\n",
       "      <td>781.000000</td>\n",
       "    </tr>\n",
       "    <tr>\n",
       "      <th>50%</th>\n",
       "      <td>22718.000000</td>\n",
       "      <td>1.077873e+06</td>\n",
       "      <td>20977.000000</td>\n",
       "      <td>6.776620e+05</td>\n",
       "      <td>394.000000</td>\n",
       "      <td>26830.000000</td>\n",
       "    </tr>\n",
       "    <tr>\n",
       "      <th>75%</th>\n",
       "      <td>50488.000000</td>\n",
       "      <td>7.119309e+06</td>\n",
       "      <td>54133.000000</td>\n",
       "      <td>6.146402e+06</td>\n",
       "      <td>710.000000</td>\n",
       "      <td>108598.000000</td>\n",
       "    </tr>\n",
       "    <tr>\n",
       "      <th>max</th>\n",
       "      <td>97860.000000</td>\n",
       "      <td>1.035749e+07</td>\n",
       "      <td>102070.000000</td>\n",
       "      <td>9.975173e+06</td>\n",
       "      <td>2004.000000</td>\n",
       "      <td>149295.000000</td>\n",
       "    </tr>\n",
       "  </tbody>\n",
       "</table>\n",
       "</div>"
      ],
      "text/plain": [
       "       Daily Confirmed  Total Confirmed  Daily Recovered  Total Recovered  \\\n",
       "count       341.000000     3.410000e+02       341.000000     3.410000e+02   \n",
       "mean      30373.879765     3.300570e+06     29252.706745     2.905230e+06   \n",
       "std       29393.037881     3.791066e+06     29373.625649     3.556720e+06   \n",
       "min           0.000000     1.000000e+00         0.000000     0.000000e+00   \n",
       "25%        1580.000000     2.444800e+04       580.000000     5.496000e+03   \n",
       "50%       22718.000000     1.077873e+06     20977.000000     6.776620e+05   \n",
       "75%       50488.000000     7.119309e+06     54133.000000     6.146402e+06   \n",
       "max       97860.000000     1.035749e+07    102070.000000     9.975173e+06   \n",
       "\n",
       "       Daily Deceased  Total Deceased  \n",
       "count      341.000000      341.000000  \n",
       "mean       437.815249    51925.797654  \n",
       "std        383.847271    54722.137416  \n",
       "min          0.000000        0.000000  \n",
       "25%         53.000000      781.000000  \n",
       "50%        394.000000    26830.000000  \n",
       "75%        710.000000   108598.000000  \n",
       "max       2004.000000   149295.000000  "
      ]
     },
     "execution_count": 6,
     "metadata": {},
     "output_type": "execute_result"
    }
   ],
   "source": [
    "covid_df.describe()"
   ]
  },
  {
   "cell_type": "markdown",
   "metadata": {},
   "source": [
    "We can view a list of all columns in the data frame"
   ]
  },
  {
   "cell_type": "code",
   "execution_count": 7,
   "metadata": {},
   "outputs": [
    {
     "data": {
      "text/plain": [
       "Index(['Date', 'Date_YMD', 'Daily Confirmed', 'Total Confirmed',\n",
       "       'Daily Recovered', 'Total Recovered', 'Daily Deceased',\n",
       "       'Total Deceased'],\n",
       "      dtype='object')"
      ]
     },
     "execution_count": 7,
     "metadata": {},
     "output_type": "execute_result"
    }
   ],
   "source": [
    "covid_df.columns"
   ]
  },
  {
   "cell_type": "markdown",
   "metadata": {},
   "source": [
    "The number of rows and columns can be viewed using the 'shape' method"
   ]
  },
  {
   "cell_type": "code",
   "execution_count": 8,
   "metadata": {},
   "outputs": [
    {
     "data": {
      "text/plain": [
       "(341, 8)"
      ]
     },
     "execution_count": 8,
     "metadata": {},
     "output_type": "execute_result"
    }
   ],
   "source": [
    "covid_df.shape"
   ]
  },
  {
   "cell_type": "markdown",
   "metadata": {},
   "source": [
    "Here's a summary of the methods and tools we have looked at so far:\n",
    "\n",
    "    - pd.read_csv(): reads data from a csv file into a pandas dataframe object\n",
    "    - .info(): gives basic information on rows, columns and data types\n",
    "    - .describe(): shows statistical information for numerical columns\n",
    "    - .columns: gives a list a columns\n",
    "    - .shape: gives the number of rows and columns \n"
   ]
  },
  {
   "cell_type": "markdown",
   "metadata": {},
   "source": [
    "### Retrieving Data from a Data Frame"
   ]
  },
  {
   "cell_type": "markdown",
   "metadata": {},
   "source": [
    "Usually, the first thing we do is to extract data from a data frame, e.g. a list of values from a particular column, the counts of a specific parameter and so on. To do this, we need to understand how data is internally represented in a data frame. \n",
    "\n",
    "Conceptually, a data frame is a dictionary of lists (and not a list of dictionaries) where the keys are column names, and the values are lists/arrays containing data for the respective columns"
   ]
  },
  {
   "cell_type": "code",
   "execution_count": 9,
   "metadata": {},
   "outputs": [],
   "source": [
    "# Pandas format is like the following: (dictionary of lists)\n",
    "\n",
    "covid_data_dict = {\n",
    "    \n",
    "    'date': ['2020-08-30', '2020-08-31', '2020-09-01'],\n",
    "    'daily_confirmed': [2000, 1400, 1565],\n",
    "    'daily_recovered': [3000, 2500, 4325],\n",
    "    'daily_deceased': [100, 97, 113]\n",
    "}"
   ]
  },
  {
   "cell_type": "markdown",
   "metadata": {},
   "source": [
    "Some benefits of representing data in the above format:\n",
    "    - All values in a column typically have the same type of value, so it's more efficient to store them in a single array\n",
    "    - Retrieving the values for a particular row simply requires extracting the elements at a given index from each column \n",
    "      array\n",
    "    - The representation is more compact (column names are recorded only once) compared to other formats that use a \n",
    "      dictionary for each row of data (example below)"
   ]
  },
  {
   "cell_type": "code",
   "execution_count": 12,
   "metadata": {},
   "outputs": [],
   "source": [
    "# Pandas format is NOT as follows: (list of dictionaries)\n",
    "covid_data_list = [\n",
    "    \n",
    "    {'date': '2020-08-30', 'daily_confirmed': 2000, 'daily_recovered': 3000, 'daily_deceased': 100},\n",
    "    {'date': '2020-08-31', 'daily_confirmed': 1400, 'daily_recovered': 2500, 'daily_deceased': 97},\n",
    "    {'date': '2020-09-01', 'daily_confirmed': 1565, 'daily_recovered': 4325, 'daily_deceased': 113}\n",
    "]"
   ]
  },
  {
   "cell_type": "markdown",
   "metadata": {},
   "source": [
    "With this understanding, we can now guess how to retrieve data from an existing data frame. For example, we can get a list\n",
    "of values from a specific column using the [ ] index notation"
   ]
  },
  {
   "cell_type": "code",
   "execution_count": 13,
   "metadata": {},
   "outputs": [
    {
     "data": {
      "text/plain": [
       "[3000, 2500, 4325]"
      ]
     },
     "execution_count": 13,
     "metadata": {},
     "output_type": "execute_result"
    }
   ],
   "source": [
    "covid_data_dict['daily_recovered']"
   ]
  },
  {
   "cell_type": "code",
   "execution_count": 16,
   "metadata": {},
   "outputs": [
    {
     "data": {
      "text/plain": [
       "0          0\n",
       "1          0\n",
       "2          0\n",
       "3          0\n",
       "4          0\n",
       "       ...  \n",
       "336    21969\n",
       "337    23838\n",
       "338    20903\n",
       "339    19658\n",
       "340    29209\n",
       "Name: Daily Recovered, Length: 341, dtype: int64"
      ]
     },
     "execution_count": 16,
     "metadata": {},
     "output_type": "execute_result"
    }
   ],
   "source": [
    "# Let's retrieve data for a column from our main data frame\n",
    "covid_df['Daily Recovered']"
   ]
  },
  {
   "cell_type": "markdown",
   "metadata": {},
   "source": [
    "Each column is represented using a data structure called 'Series', which is essentially a numpy array with some additional\n",
    "methods and proeprties"
   ]
  },
  {
   "cell_type": "code",
   "execution_count": 17,
   "metadata": {},
   "outputs": [
    {
     "data": {
      "text/plain": [
       "pandas.core.series.Series"
      ]
     },
     "execution_count": 17,
     "metadata": {},
     "output_type": "execute_result"
    }
   ],
   "source": [
    "type(covid_df['Daily Recovered'])"
   ]
  },
  {
   "cell_type": "code",
   "execution_count": 18,
   "metadata": {},
   "outputs": [],
   "source": [
    "# For simplicity and consistency, let's rename the columns of our main data frame\n",
    "covid_df.columns = ['date', 'date_ymd', 'daily_confirmed', 'total_confirmed', 'daily_recovered', 'total_recovered',\n",
    "                   'daily_deceased', 'total_deceased']"
   ]
  },
  {
   "cell_type": "markdown",
   "metadata": {},
   "source": [
    "To view the first 5 records from the data frame, we can use the 'Head' method. That way, we can also verify that column\n",
    "renaming was successful"
   ]
  },
  {
   "cell_type": "code",
   "execution_count": 20,
   "metadata": {},
   "outputs": [
    {
     "data": {
      "text/html": [
       "<div>\n",
       "<style scoped>\n",
       "    .dataframe tbody tr th:only-of-type {\n",
       "        vertical-align: middle;\n",
       "    }\n",
       "\n",
       "    .dataframe tbody tr th {\n",
       "        vertical-align: top;\n",
       "    }\n",
       "\n",
       "    .dataframe thead th {\n",
       "        text-align: right;\n",
       "    }\n",
       "</style>\n",
       "<table border=\"1\" class=\"dataframe\">\n",
       "  <thead>\n",
       "    <tr style=\"text-align: right;\">\n",
       "      <th></th>\n",
       "      <th>date</th>\n",
       "      <th>date_ymd</th>\n",
       "      <th>daily_confirmed</th>\n",
       "      <th>total_confirmed</th>\n",
       "      <th>daily_recovered</th>\n",
       "      <th>total_recovered</th>\n",
       "      <th>daily_deceased</th>\n",
       "      <th>total_deceased</th>\n",
       "    </tr>\n",
       "  </thead>\n",
       "  <tbody>\n",
       "    <tr>\n",
       "      <th>0</th>\n",
       "      <td>30 January</td>\n",
       "      <td>2020-01-30</td>\n",
       "      <td>1</td>\n",
       "      <td>1</td>\n",
       "      <td>0</td>\n",
       "      <td>0</td>\n",
       "      <td>0</td>\n",
       "      <td>0</td>\n",
       "    </tr>\n",
       "    <tr>\n",
       "      <th>1</th>\n",
       "      <td>31 January</td>\n",
       "      <td>2020-01-31</td>\n",
       "      <td>0</td>\n",
       "      <td>1</td>\n",
       "      <td>0</td>\n",
       "      <td>0</td>\n",
       "      <td>0</td>\n",
       "      <td>0</td>\n",
       "    </tr>\n",
       "    <tr>\n",
       "      <th>2</th>\n",
       "      <td>01 February</td>\n",
       "      <td>2020-02-01</td>\n",
       "      <td>0</td>\n",
       "      <td>1</td>\n",
       "      <td>0</td>\n",
       "      <td>0</td>\n",
       "      <td>0</td>\n",
       "      <td>0</td>\n",
       "    </tr>\n",
       "    <tr>\n",
       "      <th>3</th>\n",
       "      <td>02 February</td>\n",
       "      <td>2020-02-02</td>\n",
       "      <td>1</td>\n",
       "      <td>2</td>\n",
       "      <td>0</td>\n",
       "      <td>0</td>\n",
       "      <td>0</td>\n",
       "      <td>0</td>\n",
       "    </tr>\n",
       "    <tr>\n",
       "      <th>4</th>\n",
       "      <td>03 February</td>\n",
       "      <td>2020-02-03</td>\n",
       "      <td>1</td>\n",
       "      <td>3</td>\n",
       "      <td>0</td>\n",
       "      <td>0</td>\n",
       "      <td>0</td>\n",
       "      <td>0</td>\n",
       "    </tr>\n",
       "  </tbody>\n",
       "</table>\n",
       "</div>"
      ],
      "text/plain": [
       "           date    date_ymd  daily_confirmed  total_confirmed  \\\n",
       "0   30 January   2020-01-30                1                1   \n",
       "1   31 January   2020-01-31                0                1   \n",
       "2  01 February   2020-02-01                0                1   \n",
       "3  02 February   2020-02-02                1                2   \n",
       "4  03 February   2020-02-03                1                3   \n",
       "\n",
       "   daily_recovered  total_recovered  daily_deceased  total_deceased  \n",
       "0                0                0               0               0  \n",
       "1                0                0               0               0  \n",
       "2                0                0               0               0  \n",
       "3                0                0               0               0  \n",
       "4                0                0               0               0  "
      ]
     },
     "execution_count": 20,
     "metadata": {},
     "output_type": "execute_result"
    }
   ],
   "source": [
    "covid_df.head()"
   ]
  },
  {
   "cell_type": "markdown",
   "metadata": {},
   "source": [
    "We had noted above that a column in the data frame is basically a numpy array with additional methods. Like arrays, we can \n",
    "retrieve a specific value in the series using the index [ ] notation"
   ]
  },
  {
   "cell_type": "code",
   "execution_count": 21,
   "metadata": {},
   "outputs": [
    {
     "data": {
      "text/plain": [
       "81945"
      ]
     },
     "execution_count": 21,
     "metadata": {},
     "output_type": "execute_result"
    }
   ],
   "source": [
    "covid_df['daily_recovered'][250]"
   ]
  },
  {
   "cell_type": "markdown",
   "metadata": {},
   "source": [
    "Pandas also provides the 'at' method to retrieve the element at a specific row and column directly"
   ]
  },
  {
   "cell_type": "code",
   "execution_count": 22,
   "metadata": {},
   "outputs": [
    {
     "data": {
      "text/plain": [
       "81945"
      ]
     },
     "execution_count": 22,
     "metadata": {},
     "output_type": "execute_result"
    }
   ],
   "source": [
    "covid_df.at[250, 'daily_recovered']"
   ]
  },
  {
   "cell_type": "markdown",
   "metadata": {},
   "source": [
    "Apart from the index notation, Pandas also allows accessing columns using the '.' notation. However, note that this property works only when the column has no spaces or special characters"
   ]
  },
  {
   "cell_type": "code",
   "execution_count": 23,
   "metadata": {},
   "outputs": [
    {
     "data": {
      "text/plain": [
       "0          0\n",
       "1          0\n",
       "2          0\n",
       "3          0\n",
       "4          0\n",
       "       ...  \n",
       "336    21969\n",
       "337    23838\n",
       "338    20903\n",
       "339    19658\n",
       "340    29209\n",
       "Name: daily_recovered, Length: 341, dtype: int64"
      ]
     },
     "execution_count": 23,
     "metadata": {},
     "output_type": "execute_result"
    }
   ],
   "source": [
    "covid_df.daily_recovered"
   ]
  },
  {
   "cell_type": "markdown",
   "metadata": {},
   "source": [
    "Also, you can pass a list of columns with the index [ ] notation to access a subset of the data frame"
   ]
  },
  {
   "cell_type": "code",
   "execution_count": 25,
   "metadata": {},
   "outputs": [
    {
     "data": {
      "text/html": [
       "<div>\n",
       "<style scoped>\n",
       "    .dataframe tbody tr th:only-of-type {\n",
       "        vertical-align: middle;\n",
       "    }\n",
       "\n",
       "    .dataframe tbody tr th {\n",
       "        vertical-align: top;\n",
       "    }\n",
       "\n",
       "    .dataframe thead th {\n",
       "        text-align: right;\n",
       "    }\n",
       "</style>\n",
       "<table border=\"1\" class=\"dataframe\">\n",
       "  <thead>\n",
       "    <tr style=\"text-align: right;\">\n",
       "      <th></th>\n",
       "      <th>date</th>\n",
       "      <th>daily_recovered</th>\n",
       "    </tr>\n",
       "  </thead>\n",
       "  <tbody>\n",
       "    <tr>\n",
       "      <th>0</th>\n",
       "      <td>30 January</td>\n",
       "      <td>0</td>\n",
       "    </tr>\n",
       "    <tr>\n",
       "      <th>1</th>\n",
       "      <td>31 January</td>\n",
       "      <td>0</td>\n",
       "    </tr>\n",
       "    <tr>\n",
       "      <th>2</th>\n",
       "      <td>01 February</td>\n",
       "      <td>0</td>\n",
       "    </tr>\n",
       "    <tr>\n",
       "      <th>3</th>\n",
       "      <td>02 February</td>\n",
       "      <td>0</td>\n",
       "    </tr>\n",
       "    <tr>\n",
       "      <th>4</th>\n",
       "      <td>03 February</td>\n",
       "      <td>0</td>\n",
       "    </tr>\n",
       "    <tr>\n",
       "      <th>...</th>\n",
       "      <td>...</td>\n",
       "      <td>...</td>\n",
       "    </tr>\n",
       "    <tr>\n",
       "      <th>336</th>\n",
       "      <td>31 December</td>\n",
       "      <td>21969</td>\n",
       "    </tr>\n",
       "    <tr>\n",
       "      <th>337</th>\n",
       "      <td>01 January</td>\n",
       "      <td>23838</td>\n",
       "    </tr>\n",
       "    <tr>\n",
       "      <th>338</th>\n",
       "      <td>02 January</td>\n",
       "      <td>20903</td>\n",
       "    </tr>\n",
       "    <tr>\n",
       "      <th>339</th>\n",
       "      <td>03 January</td>\n",
       "      <td>19658</td>\n",
       "    </tr>\n",
       "    <tr>\n",
       "      <th>340</th>\n",
       "      <td>04 January</td>\n",
       "      <td>29209</td>\n",
       "    </tr>\n",
       "  </tbody>\n",
       "</table>\n",
       "<p>341 rows × 2 columns</p>\n",
       "</div>"
      ],
      "text/plain": [
       "             date  daily_recovered\n",
       "0     30 January                 0\n",
       "1     31 January                 0\n",
       "2    01 February                 0\n",
       "3    02 February                 0\n",
       "4    03 February                 0\n",
       "..            ...              ...\n",
       "336  31 December             21969\n",
       "337   01 January             23838\n",
       "338   02 January             20903\n",
       "339   03 January             19658\n",
       "340   04 January             29209\n",
       "\n",
       "[341 rows x 2 columns]"
      ]
     },
     "execution_count": 25,
     "metadata": {},
     "output_type": "execute_result"
    }
   ],
   "source": [
    "rec_cases_df = covid_df[['date', 'daily_recovered']]\n",
    "rec_cases_df"
   ]
  },
  {
   "cell_type": "markdown",
   "metadata": {},
   "source": [
    "The new data frame 'rec_cases_df' is simply a 'snapshot' of the original data frame covid_df. Both data frames point to the same location in computer memory which effectively means that changing values in one date frame will affect the other data frame as well. This sharing of data between data frames makes data manipulation really fast in Pandas.\n",
    "\n",
    "Sometimes though we may need to make a copy of the data frame, which can be done using the 'copy()' method"
   ]
  },
  {
   "cell_type": "code",
   "execution_count": 26,
   "metadata": {},
   "outputs": [],
   "source": [
    "covid_df_copy = covid_df.copy()"
   ]
  },
  {
   "cell_type": "markdown",
   "metadata": {},
   "source": [
    "In this case, the covid_df_copy data frame is separate from covid_df, and so changing values in the copy will not affect the original data frame"
   ]
  },
  {
   "cell_type": "markdown",
   "metadata": {},
   "source": [
    "To access a specific row in the data, Pandas provides the 'loc' method"
   ]
  },
  {
   "cell_type": "code",
   "execution_count": 27,
   "metadata": {},
   "outputs": [
    {
     "data": {
      "text/plain": [
       "date               06 October \n",
       "date_ymd            2020-10-06\n",
       "daily_confirmed          71869\n",
       "total_confirmed        6754191\n",
       "daily_recovered          81945\n",
       "total_recovered        5741231\n",
       "daily_deceased             990\n",
       "total_deceased          104005\n",
       "Name: 250, dtype: object"
      ]
     },
     "execution_count": 27,
     "metadata": {},
     "output_type": "execute_result"
    }
   ],
   "source": [
    "covid_df.loc[250]"
   ]
  },
  {
   "cell_type": "markdown",
   "metadata": {},
   "source": [
    "We had earlier seen the 'head()' method that gives us the first 5 rows from the data frame. We can pass in a number as an argument to the method to view that many rows"
   ]
  },
  {
   "cell_type": "code",
   "execution_count": 28,
   "metadata": {},
   "outputs": [
    {
     "data": {
      "text/html": [
       "<div>\n",
       "<style scoped>\n",
       "    .dataframe tbody tr th:only-of-type {\n",
       "        vertical-align: middle;\n",
       "    }\n",
       "\n",
       "    .dataframe tbody tr th {\n",
       "        vertical-align: top;\n",
       "    }\n",
       "\n",
       "    .dataframe thead th {\n",
       "        text-align: right;\n",
       "    }\n",
       "</style>\n",
       "<table border=\"1\" class=\"dataframe\">\n",
       "  <thead>\n",
       "    <tr style=\"text-align: right;\">\n",
       "      <th></th>\n",
       "      <th>date</th>\n",
       "      <th>date_ymd</th>\n",
       "      <th>daily_confirmed</th>\n",
       "      <th>total_confirmed</th>\n",
       "      <th>daily_recovered</th>\n",
       "      <th>total_recovered</th>\n",
       "      <th>daily_deceased</th>\n",
       "      <th>total_deceased</th>\n",
       "    </tr>\n",
       "  </thead>\n",
       "  <tbody>\n",
       "    <tr>\n",
       "      <th>0</th>\n",
       "      <td>30 January</td>\n",
       "      <td>2020-01-30</td>\n",
       "      <td>1</td>\n",
       "      <td>1</td>\n",
       "      <td>0</td>\n",
       "      <td>0</td>\n",
       "      <td>0</td>\n",
       "      <td>0</td>\n",
       "    </tr>\n",
       "    <tr>\n",
       "      <th>1</th>\n",
       "      <td>31 January</td>\n",
       "      <td>2020-01-31</td>\n",
       "      <td>0</td>\n",
       "      <td>1</td>\n",
       "      <td>0</td>\n",
       "      <td>0</td>\n",
       "      <td>0</td>\n",
       "      <td>0</td>\n",
       "    </tr>\n",
       "    <tr>\n",
       "      <th>2</th>\n",
       "      <td>01 February</td>\n",
       "      <td>2020-02-01</td>\n",
       "      <td>0</td>\n",
       "      <td>1</td>\n",
       "      <td>0</td>\n",
       "      <td>0</td>\n",
       "      <td>0</td>\n",
       "      <td>0</td>\n",
       "    </tr>\n",
       "    <tr>\n",
       "      <th>3</th>\n",
       "      <td>02 February</td>\n",
       "      <td>2020-02-02</td>\n",
       "      <td>1</td>\n",
       "      <td>2</td>\n",
       "      <td>0</td>\n",
       "      <td>0</td>\n",
       "      <td>0</td>\n",
       "      <td>0</td>\n",
       "    </tr>\n",
       "    <tr>\n",
       "      <th>4</th>\n",
       "      <td>03 February</td>\n",
       "      <td>2020-02-03</td>\n",
       "      <td>1</td>\n",
       "      <td>3</td>\n",
       "      <td>0</td>\n",
       "      <td>0</td>\n",
       "      <td>0</td>\n",
       "      <td>0</td>\n",
       "    </tr>\n",
       "    <tr>\n",
       "      <th>5</th>\n",
       "      <td>04 February</td>\n",
       "      <td>2020-02-04</td>\n",
       "      <td>0</td>\n",
       "      <td>3</td>\n",
       "      <td>0</td>\n",
       "      <td>0</td>\n",
       "      <td>0</td>\n",
       "      <td>0</td>\n",
       "    </tr>\n",
       "    <tr>\n",
       "      <th>6</th>\n",
       "      <td>05 February</td>\n",
       "      <td>2020-02-05</td>\n",
       "      <td>0</td>\n",
       "      <td>3</td>\n",
       "      <td>0</td>\n",
       "      <td>0</td>\n",
       "      <td>0</td>\n",
       "      <td>0</td>\n",
       "    </tr>\n",
       "    <tr>\n",
       "      <th>7</th>\n",
       "      <td>06 February</td>\n",
       "      <td>2020-02-06</td>\n",
       "      <td>0</td>\n",
       "      <td>3</td>\n",
       "      <td>0</td>\n",
       "      <td>0</td>\n",
       "      <td>0</td>\n",
       "      <td>0</td>\n",
       "    </tr>\n",
       "    <tr>\n",
       "      <th>8</th>\n",
       "      <td>07 February</td>\n",
       "      <td>2020-02-07</td>\n",
       "      <td>0</td>\n",
       "      <td>3</td>\n",
       "      <td>0</td>\n",
       "      <td>0</td>\n",
       "      <td>0</td>\n",
       "      <td>0</td>\n",
       "    </tr>\n",
       "    <tr>\n",
       "      <th>9</th>\n",
       "      <td>08 February</td>\n",
       "      <td>2020-02-08</td>\n",
       "      <td>0</td>\n",
       "      <td>3</td>\n",
       "      <td>0</td>\n",
       "      <td>0</td>\n",
       "      <td>0</td>\n",
       "      <td>0</td>\n",
       "    </tr>\n",
       "    <tr>\n",
       "      <th>10</th>\n",
       "      <td>09 February</td>\n",
       "      <td>2020-02-09</td>\n",
       "      <td>0</td>\n",
       "      <td>3</td>\n",
       "      <td>0</td>\n",
       "      <td>0</td>\n",
       "      <td>0</td>\n",
       "      <td>0</td>\n",
       "    </tr>\n",
       "    <tr>\n",
       "      <th>11</th>\n",
       "      <td>10 February</td>\n",
       "      <td>2020-02-10</td>\n",
       "      <td>0</td>\n",
       "      <td>3</td>\n",
       "      <td>0</td>\n",
       "      <td>0</td>\n",
       "      <td>0</td>\n",
       "      <td>0</td>\n",
       "    </tr>\n",
       "    <tr>\n",
       "      <th>12</th>\n",
       "      <td>11 February</td>\n",
       "      <td>2020-02-11</td>\n",
       "      <td>0</td>\n",
       "      <td>3</td>\n",
       "      <td>0</td>\n",
       "      <td>0</td>\n",
       "      <td>0</td>\n",
       "      <td>0</td>\n",
       "    </tr>\n",
       "    <tr>\n",
       "      <th>13</th>\n",
       "      <td>12 February</td>\n",
       "      <td>2020-02-12</td>\n",
       "      <td>0</td>\n",
       "      <td>3</td>\n",
       "      <td>0</td>\n",
       "      <td>0</td>\n",
       "      <td>0</td>\n",
       "      <td>0</td>\n",
       "    </tr>\n",
       "    <tr>\n",
       "      <th>14</th>\n",
       "      <td>13 February</td>\n",
       "      <td>2020-02-13</td>\n",
       "      <td>0</td>\n",
       "      <td>3</td>\n",
       "      <td>1</td>\n",
       "      <td>1</td>\n",
       "      <td>0</td>\n",
       "      <td>0</td>\n",
       "    </tr>\n",
       "    <tr>\n",
       "      <th>15</th>\n",
       "      <td>14 February</td>\n",
       "      <td>2020-02-14</td>\n",
       "      <td>0</td>\n",
       "      <td>3</td>\n",
       "      <td>0</td>\n",
       "      <td>1</td>\n",
       "      <td>0</td>\n",
       "      <td>0</td>\n",
       "    </tr>\n",
       "    <tr>\n",
       "      <th>16</th>\n",
       "      <td>15 February</td>\n",
       "      <td>2020-02-15</td>\n",
       "      <td>0</td>\n",
       "      <td>3</td>\n",
       "      <td>0</td>\n",
       "      <td>1</td>\n",
       "      <td>0</td>\n",
       "      <td>0</td>\n",
       "    </tr>\n",
       "    <tr>\n",
       "      <th>17</th>\n",
       "      <td>16 February</td>\n",
       "      <td>2020-02-16</td>\n",
       "      <td>0</td>\n",
       "      <td>3</td>\n",
       "      <td>1</td>\n",
       "      <td>2</td>\n",
       "      <td>0</td>\n",
       "      <td>0</td>\n",
       "    </tr>\n",
       "    <tr>\n",
       "      <th>18</th>\n",
       "      <td>17 February</td>\n",
       "      <td>2020-02-17</td>\n",
       "      <td>0</td>\n",
       "      <td>3</td>\n",
       "      <td>0</td>\n",
       "      <td>2</td>\n",
       "      <td>0</td>\n",
       "      <td>0</td>\n",
       "    </tr>\n",
       "    <tr>\n",
       "      <th>19</th>\n",
       "      <td>18 February</td>\n",
       "      <td>2020-02-18</td>\n",
       "      <td>0</td>\n",
       "      <td>3</td>\n",
       "      <td>0</td>\n",
       "      <td>2</td>\n",
       "      <td>0</td>\n",
       "      <td>0</td>\n",
       "    </tr>\n",
       "  </tbody>\n",
       "</table>\n",
       "</div>"
      ],
      "text/plain": [
       "            date    date_ymd  daily_confirmed  total_confirmed  \\\n",
       "0    30 January   2020-01-30                1                1   \n",
       "1    31 January   2020-01-31                0                1   \n",
       "2   01 February   2020-02-01                0                1   \n",
       "3   02 February   2020-02-02                1                2   \n",
       "4   03 February   2020-02-03                1                3   \n",
       "5   04 February   2020-02-04                0                3   \n",
       "6   05 February   2020-02-05                0                3   \n",
       "7   06 February   2020-02-06                0                3   \n",
       "8   07 February   2020-02-07                0                3   \n",
       "9   08 February   2020-02-08                0                3   \n",
       "10  09 February   2020-02-09                0                3   \n",
       "11  10 February   2020-02-10                0                3   \n",
       "12  11 February   2020-02-11                0                3   \n",
       "13  12 February   2020-02-12                0                3   \n",
       "14  13 February   2020-02-13                0                3   \n",
       "15  14 February   2020-02-14                0                3   \n",
       "16  15 February   2020-02-15                0                3   \n",
       "17  16 February   2020-02-16                0                3   \n",
       "18  17 February   2020-02-17                0                3   \n",
       "19  18 February   2020-02-18                0                3   \n",
       "\n",
       "    daily_recovered  total_recovered  daily_deceased  total_deceased  \n",
       "0                 0                0               0               0  \n",
       "1                 0                0               0               0  \n",
       "2                 0                0               0               0  \n",
       "3                 0                0               0               0  \n",
       "4                 0                0               0               0  \n",
       "5                 0                0               0               0  \n",
       "6                 0                0               0               0  \n",
       "7                 0                0               0               0  \n",
       "8                 0                0               0               0  \n",
       "9                 0                0               0               0  \n",
       "10                0                0               0               0  \n",
       "11                0                0               0               0  \n",
       "12                0                0               0               0  \n",
       "13                0                0               0               0  \n",
       "14                1                1               0               0  \n",
       "15                0                1               0               0  \n",
       "16                0                1               0               0  \n",
       "17                1                2               0               0  \n",
       "18                0                2               0               0  \n",
       "19                0                2               0               0  "
      ]
     },
     "execution_count": 28,
     "metadata": {},
     "output_type": "execute_result"
    }
   ],
   "source": [
    "covid_df.head(20)"
   ]
  },
  {
   "cell_type": "markdown",
   "metadata": {},
   "source": [
    "The 'tail()' method shows us the last 5 rows"
   ]
  },
  {
   "cell_type": "code",
   "execution_count": 29,
   "metadata": {},
   "outputs": [
    {
     "data": {
      "text/html": [
       "<div>\n",
       "<style scoped>\n",
       "    .dataframe tbody tr th:only-of-type {\n",
       "        vertical-align: middle;\n",
       "    }\n",
       "\n",
       "    .dataframe tbody tr th {\n",
       "        vertical-align: top;\n",
       "    }\n",
       "\n",
       "    .dataframe thead th {\n",
       "        text-align: right;\n",
       "    }\n",
       "</style>\n",
       "<table border=\"1\" class=\"dataframe\">\n",
       "  <thead>\n",
       "    <tr style=\"text-align: right;\">\n",
       "      <th></th>\n",
       "      <th>date</th>\n",
       "      <th>date_ymd</th>\n",
       "      <th>daily_confirmed</th>\n",
       "      <th>total_confirmed</th>\n",
       "      <th>daily_recovered</th>\n",
       "      <th>total_recovered</th>\n",
       "      <th>daily_deceased</th>\n",
       "      <th>total_deceased</th>\n",
       "    </tr>\n",
       "  </thead>\n",
       "  <tbody>\n",
       "    <tr>\n",
       "      <th>336</th>\n",
       "      <td>31 December</td>\n",
       "      <td>2020-12-31</td>\n",
       "      <td>19026</td>\n",
       "      <td>10286234</td>\n",
       "      <td>21969</td>\n",
       "      <td>9881565</td>\n",
       "      <td>244</td>\n",
       "      <td>148427</td>\n",
       "    </tr>\n",
       "    <tr>\n",
       "      <th>337</th>\n",
       "      <td>01 January</td>\n",
       "      <td>2021-01-01</td>\n",
       "      <td>20159</td>\n",
       "      <td>10306393</td>\n",
       "      <td>23838</td>\n",
       "      <td>9905403</td>\n",
       "      <td>237</td>\n",
       "      <td>148664</td>\n",
       "    </tr>\n",
       "    <tr>\n",
       "      <th>338</th>\n",
       "      <td>02 January</td>\n",
       "      <td>2021-01-02</td>\n",
       "      <td>18144</td>\n",
       "      <td>10324537</td>\n",
       "      <td>20903</td>\n",
       "      <td>9926306</td>\n",
       "      <td>216</td>\n",
       "      <td>148880</td>\n",
       "    </tr>\n",
       "    <tr>\n",
       "      <th>339</th>\n",
       "      <td>03 January</td>\n",
       "      <td>2021-01-03</td>\n",
       "      <td>16678</td>\n",
       "      <td>10341215</td>\n",
       "      <td>19658</td>\n",
       "      <td>9945964</td>\n",
       "      <td>215</td>\n",
       "      <td>149095</td>\n",
       "    </tr>\n",
       "    <tr>\n",
       "      <th>340</th>\n",
       "      <td>04 January</td>\n",
       "      <td>2021-01-04</td>\n",
       "      <td>16278</td>\n",
       "      <td>10357493</td>\n",
       "      <td>29209</td>\n",
       "      <td>9975173</td>\n",
       "      <td>200</td>\n",
       "      <td>149295</td>\n",
       "    </tr>\n",
       "  </tbody>\n",
       "</table>\n",
       "</div>"
      ],
      "text/plain": [
       "             date    date_ymd  daily_confirmed  total_confirmed  \\\n",
       "336  31 December   2020-12-31            19026         10286234   \n",
       "337   01 January   2021-01-01            20159         10306393   \n",
       "338   02 January   2021-01-02            18144         10324537   \n",
       "339   03 January   2021-01-03            16678         10341215   \n",
       "340   04 January   2021-01-04            16278         10357493   \n",
       "\n",
       "     daily_recovered  total_recovered  daily_deceased  total_deceased  \n",
       "336            21969          9881565             244          148427  \n",
       "337            23838          9905403             237          148664  \n",
       "338            20903          9926306             216          148880  \n",
       "339            19658          9945964             215          149095  \n",
       "340            29209          9975173             200          149295  "
      ]
     },
     "execution_count": 29,
     "metadata": {},
     "output_type": "execute_result"
    }
   ],
   "source": [
    "covid_df.tail()"
   ]
  },
  {
   "cell_type": "markdown",
   "metadata": {},
   "source": [
    "We an use the 'sample()' method to retrieve a random sample of rows from the data"
   ]
  },
  {
   "cell_type": "code",
   "execution_count": 30,
   "metadata": {},
   "outputs": [
    {
     "data": {
      "text/html": [
       "<div>\n",
       "<style scoped>\n",
       "    .dataframe tbody tr th:only-of-type {\n",
       "        vertical-align: middle;\n",
       "    }\n",
       "\n",
       "    .dataframe tbody tr th {\n",
       "        vertical-align: top;\n",
       "    }\n",
       "\n",
       "    .dataframe thead th {\n",
       "        text-align: right;\n",
       "    }\n",
       "</style>\n",
       "<table border=\"1\" class=\"dataframe\">\n",
       "  <thead>\n",
       "    <tr style=\"text-align: right;\">\n",
       "      <th></th>\n",
       "      <th>date</th>\n",
       "      <th>date_ymd</th>\n",
       "      <th>daily_confirmed</th>\n",
       "      <th>total_confirmed</th>\n",
       "      <th>daily_recovered</th>\n",
       "      <th>total_recovered</th>\n",
       "      <th>daily_deceased</th>\n",
       "      <th>total_deceased</th>\n",
       "    </tr>\n",
       "  </thead>\n",
       "  <tbody>\n",
       "    <tr>\n",
       "      <th>158</th>\n",
       "      <td>06 July</td>\n",
       "      <td>2020-07-06</td>\n",
       "      <td>22500</td>\n",
       "      <td>720349</td>\n",
       "      <td>15315</td>\n",
       "      <td>440210</td>\n",
       "      <td>473</td>\n",
       "      <td>20176</td>\n",
       "    </tr>\n",
       "    <tr>\n",
       "      <th>218</th>\n",
       "      <td>04 September</td>\n",
       "      <td>2020-09-04</td>\n",
       "      <td>87115</td>\n",
       "      <td>4020252</td>\n",
       "      <td>69625</td>\n",
       "      <td>3104505</td>\n",
       "      <td>950</td>\n",
       "      <td>69179</td>\n",
       "    </tr>\n",
       "    <tr>\n",
       "      <th>275</th>\n",
       "      <td>31 October</td>\n",
       "      <td>2020-10-31</td>\n",
       "      <td>47228</td>\n",
       "      <td>8183317</td>\n",
       "      <td>58682</td>\n",
       "      <td>7489426</td>\n",
       "      <td>469</td>\n",
       "      <td>121559</td>\n",
       "    </tr>\n",
       "    <tr>\n",
       "      <th>288</th>\n",
       "      <td>13 November</td>\n",
       "      <td>2020-11-13</td>\n",
       "      <td>44620</td>\n",
       "      <td>8773167</td>\n",
       "      <td>47620</td>\n",
       "      <td>8161355</td>\n",
       "      <td>517</td>\n",
       "      <td>128634</td>\n",
       "    </tr>\n",
       "    <tr>\n",
       "      <th>328</th>\n",
       "      <td>23 December</td>\n",
       "      <td>2020-12-23</td>\n",
       "      <td>24716</td>\n",
       "      <td>10123948</td>\n",
       "      <td>29946</td>\n",
       "      <td>9692476</td>\n",
       "      <td>315</td>\n",
       "      <td>146200</td>\n",
       "    </tr>\n",
       "    <tr>\n",
       "      <th>124</th>\n",
       "      <td>02 June</td>\n",
       "      <td>2020-06-02</td>\n",
       "      <td>8812</td>\n",
       "      <td>207187</td>\n",
       "      <td>4531</td>\n",
       "      <td>100275</td>\n",
       "      <td>222</td>\n",
       "      <td>5829</td>\n",
       "    </tr>\n",
       "    <tr>\n",
       "      <th>118</th>\n",
       "      <td>27 May</td>\n",
       "      <td>2020-05-27</td>\n",
       "      <td>7246</td>\n",
       "      <td>158104</td>\n",
       "      <td>3434</td>\n",
       "      <td>67725</td>\n",
       "      <td>188</td>\n",
       "      <td>4534</td>\n",
       "    </tr>\n",
       "    <tr>\n",
       "      <th>44</th>\n",
       "      <td>14 March</td>\n",
       "      <td>2020-03-14</td>\n",
       "      <td>11</td>\n",
       "      <td>102</td>\n",
       "      <td>0</td>\n",
       "      <td>10</td>\n",
       "      <td>1</td>\n",
       "      <td>2</td>\n",
       "    </tr>\n",
       "    <tr>\n",
       "      <th>43</th>\n",
       "      <td>13 March</td>\n",
       "      <td>2020-03-13</td>\n",
       "      <td>10</td>\n",
       "      <td>91</td>\n",
       "      <td>6</td>\n",
       "      <td>10</td>\n",
       "      <td>0</td>\n",
       "      <td>1</td>\n",
       "    </tr>\n",
       "    <tr>\n",
       "      <th>57</th>\n",
       "      <td>27 March</td>\n",
       "      <td>2020-03-27</td>\n",
       "      <td>153</td>\n",
       "      <td>883</td>\n",
       "      <td>25</td>\n",
       "      <td>75</td>\n",
       "      <td>3</td>\n",
       "      <td>19</td>\n",
       "    </tr>\n",
       "  </tbody>\n",
       "</table>\n",
       "</div>"
      ],
      "text/plain": [
       "              date    date_ymd  daily_confirmed  total_confirmed  \\\n",
       "158       06 July   2020-07-06            22500           720349   \n",
       "218  04 September   2020-09-04            87115          4020252   \n",
       "275    31 October   2020-10-31            47228          8183317   \n",
       "288   13 November   2020-11-13            44620          8773167   \n",
       "328   23 December   2020-12-23            24716         10123948   \n",
       "124       02 June   2020-06-02             8812           207187   \n",
       "118        27 May   2020-05-27             7246           158104   \n",
       "44       14 March   2020-03-14               11              102   \n",
       "43       13 March   2020-03-13               10               91   \n",
       "57       27 March   2020-03-27              153              883   \n",
       "\n",
       "     daily_recovered  total_recovered  daily_deceased  total_deceased  \n",
       "158            15315           440210             473           20176  \n",
       "218            69625          3104505             950           69179  \n",
       "275            58682          7489426             469          121559  \n",
       "288            47620          8161355             517          128634  \n",
       "328            29946          9692476             315          146200  \n",
       "124             4531           100275             222            5829  \n",
       "118             3434            67725             188            4534  \n",
       "44                 0               10               1               2  \n",
       "43                 6               10               0               1  \n",
       "57                25               75               3              19  "
      ]
     },
     "execution_count": 30,
     "metadata": {},
     "output_type": "execute_result"
    }
   ],
   "source": [
    "covid_df.sample(10)"
   ]
  },
  {
   "cell_type": "markdown",
   "metadata": {},
   "source": [
    "We can check if our data frame contains any null / missing values by using the 'isnull().sum()' expression"
   ]
  },
  {
   "cell_type": "code",
   "execution_count": 31,
   "metadata": {},
   "outputs": [
    {
     "data": {
      "text/plain": [
       "date               0\n",
       "date_ymd           0\n",
       "daily_confirmed    0\n",
       "total_confirmed    0\n",
       "daily_recovered    0\n",
       "total_recovered    0\n",
       "daily_deceased     0\n",
       "total_deceased     0\n",
       "dtype: int64"
      ]
     },
     "execution_count": 31,
     "metadata": {},
     "output_type": "execute_result"
    }
   ],
   "source": [
    "covid_df.isnull().sum()"
   ]
  },
  {
   "cell_type": "markdown",
   "metadata": {},
   "source": [
    "Here's a summary of what we learnt in the above section:\n",
    "    - covid_df['daily_recovered']: retrieving columns as a series using the column name\n",
    "    - daily_recovered[250]: retrieving values from a series using an index\n",
    "    - covid_df.at[250, 'daily_recovered]: retrieving a single value from the data frame\n",
    "    - covid_df.copy(): create a deep copy of the data frame\n",
    "    - covid_df.loc[250]: retrieving a row or range of rows from the data frame\n",
    "    - head, tail and sample: methods used to retrieve several rows from the data frame"
   ]
  },
  {
   "cell_type": "code",
   "execution_count": null,
   "metadata": {},
   "outputs": [],
   "source": []
  }
 ],
 "metadata": {
  "kernelspec": {
   "display_name": "Python 3",
   "language": "python",
   "name": "python3"
  },
  "language_info": {
   "codemirror_mode": {
    "name": "ipython",
    "version": 3
   },
   "file_extension": ".py",
   "mimetype": "text/x-python",
   "name": "python",
   "nbconvert_exporter": "python",
   "pygments_lexer": "ipython3",
   "version": "3.7.6"
  }
 },
 "nbformat": 4,
 "nbformat_minor": 4
}
