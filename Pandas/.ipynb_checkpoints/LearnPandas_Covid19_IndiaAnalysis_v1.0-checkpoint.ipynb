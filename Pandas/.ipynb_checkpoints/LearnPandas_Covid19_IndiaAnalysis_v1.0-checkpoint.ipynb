{
 "cells": [
  {
   "cell_type": "markdown",
   "metadata": {},
   "source": [
    "# Data Analysis using Python and Pandas\n",
    "\n",
    "#### Pandas is a flexible and easy-to-use data analysis library built on top of the Python programming language"
   ]
  },
  {
   "cell_type": "code",
   "execution_count": 1,
   "metadata": {},
   "outputs": [],
   "source": [
    "import pandas as pd\n",
    "import numpy as np\n",
    "\n",
    "import warnings\n",
    "warnings.filterwarnings('ignore')"
   ]
  },
  {
   "cell_type": "code",
   "execution_count": 2,
   "metadata": {},
   "outputs": [],
   "source": [
    "# The dataset we are using has been downloaded from https://covid19.org\n",
    "# This is time-series data representing covid19 status in India\n",
    "# Read the CSV file using pandas\n",
    "\n",
    "covid_df = pd.read_csv('./Data/covid19_time_series_India.csv')"
   ]
  },
  {
   "cell_type": "markdown",
   "metadata": {},
   "source": [
    "##### Data from the file is read and stored in 'DataFrame' obect - one of the core structures in Pandas for storing and working with tabular data"
   ]
  },
  {
   "cell_type": "code",
   "execution_count": 3,
   "metadata": {},
   "outputs": [
    {
     "data": {
      "text/plain": [
       "pandas.core.frame.DataFrame"
      ]
     },
     "execution_count": 3,
     "metadata": {},
     "output_type": "execute_result"
    }
   ],
   "source": [
    "type(covid_df)"
   ]
  },
  {
   "cell_type": "code",
   "execution_count": 4,
   "metadata": {},
   "outputs": [
    {
     "data": {
      "text/html": [
       "<div>\n",
       "<style scoped>\n",
       "    .dataframe tbody tr th:only-of-type {\n",
       "        vertical-align: middle;\n",
       "    }\n",
       "\n",
       "    .dataframe tbody tr th {\n",
       "        vertical-align: top;\n",
       "    }\n",
       "\n",
       "    .dataframe thead th {\n",
       "        text-align: right;\n",
       "    }\n",
       "</style>\n",
       "<table border=\"1\" class=\"dataframe\">\n",
       "  <thead>\n",
       "    <tr style=\"text-align: right;\">\n",
       "      <th></th>\n",
       "      <th>Date</th>\n",
       "      <th>Date_YMD</th>\n",
       "      <th>Daily Confirmed</th>\n",
       "      <th>Total Confirmed</th>\n",
       "      <th>Daily Recovered</th>\n",
       "      <th>Total Recovered</th>\n",
       "      <th>Daily Deceased</th>\n",
       "      <th>Total Deceased</th>\n",
       "    </tr>\n",
       "  </thead>\n",
       "  <tbody>\n",
       "    <tr>\n",
       "      <th>0</th>\n",
       "      <td>30 January</td>\n",
       "      <td>2020-01-30</td>\n",
       "      <td>1</td>\n",
       "      <td>1</td>\n",
       "      <td>0</td>\n",
       "      <td>0</td>\n",
       "      <td>0</td>\n",
       "      <td>0</td>\n",
       "    </tr>\n",
       "    <tr>\n",
       "      <th>1</th>\n",
       "      <td>31 January</td>\n",
       "      <td>2020-01-31</td>\n",
       "      <td>0</td>\n",
       "      <td>1</td>\n",
       "      <td>0</td>\n",
       "      <td>0</td>\n",
       "      <td>0</td>\n",
       "      <td>0</td>\n",
       "    </tr>\n",
       "    <tr>\n",
       "      <th>2</th>\n",
       "      <td>01 February</td>\n",
       "      <td>2020-02-01</td>\n",
       "      <td>0</td>\n",
       "      <td>1</td>\n",
       "      <td>0</td>\n",
       "      <td>0</td>\n",
       "      <td>0</td>\n",
       "      <td>0</td>\n",
       "    </tr>\n",
       "    <tr>\n",
       "      <th>3</th>\n",
       "      <td>02 February</td>\n",
       "      <td>2020-02-02</td>\n",
       "      <td>1</td>\n",
       "      <td>2</td>\n",
       "      <td>0</td>\n",
       "      <td>0</td>\n",
       "      <td>0</td>\n",
       "      <td>0</td>\n",
       "    </tr>\n",
       "    <tr>\n",
       "      <th>4</th>\n",
       "      <td>03 February</td>\n",
       "      <td>2020-02-03</td>\n",
       "      <td>1</td>\n",
       "      <td>3</td>\n",
       "      <td>0</td>\n",
       "      <td>0</td>\n",
       "      <td>0</td>\n",
       "      <td>0</td>\n",
       "    </tr>\n",
       "    <tr>\n",
       "      <th>...</th>\n",
       "      <td>...</td>\n",
       "      <td>...</td>\n",
       "      <td>...</td>\n",
       "      <td>...</td>\n",
       "      <td>...</td>\n",
       "      <td>...</td>\n",
       "      <td>...</td>\n",
       "      <td>...</td>\n",
       "    </tr>\n",
       "    <tr>\n",
       "      <th>336</th>\n",
       "      <td>31 December</td>\n",
       "      <td>2020-12-31</td>\n",
       "      <td>19026</td>\n",
       "      <td>10286234</td>\n",
       "      <td>21969</td>\n",
       "      <td>9881565</td>\n",
       "      <td>244</td>\n",
       "      <td>148427</td>\n",
       "    </tr>\n",
       "    <tr>\n",
       "      <th>337</th>\n",
       "      <td>01 January</td>\n",
       "      <td>2021-01-01</td>\n",
       "      <td>20159</td>\n",
       "      <td>10306393</td>\n",
       "      <td>23838</td>\n",
       "      <td>9905403</td>\n",
       "      <td>237</td>\n",
       "      <td>148664</td>\n",
       "    </tr>\n",
       "    <tr>\n",
       "      <th>338</th>\n",
       "      <td>02 January</td>\n",
       "      <td>2021-01-02</td>\n",
       "      <td>18144</td>\n",
       "      <td>10324537</td>\n",
       "      <td>20903</td>\n",
       "      <td>9926306</td>\n",
       "      <td>216</td>\n",
       "      <td>148880</td>\n",
       "    </tr>\n",
       "    <tr>\n",
       "      <th>339</th>\n",
       "      <td>03 January</td>\n",
       "      <td>2021-01-03</td>\n",
       "      <td>16678</td>\n",
       "      <td>10341215</td>\n",
       "      <td>19658</td>\n",
       "      <td>9945964</td>\n",
       "      <td>215</td>\n",
       "      <td>149095</td>\n",
       "    </tr>\n",
       "    <tr>\n",
       "      <th>340</th>\n",
       "      <td>04 January</td>\n",
       "      <td>2021-01-04</td>\n",
       "      <td>16278</td>\n",
       "      <td>10357493</td>\n",
       "      <td>29209</td>\n",
       "      <td>9975173</td>\n",
       "      <td>200</td>\n",
       "      <td>149295</td>\n",
       "    </tr>\n",
       "  </tbody>\n",
       "</table>\n",
       "<p>341 rows × 8 columns</p>\n",
       "</div>"
      ],
      "text/plain": [
       "             Date    Date_YMD  Daily Confirmed  Total Confirmed  \\\n",
       "0     30 January   2020-01-30                1                1   \n",
       "1     31 January   2020-01-31                0                1   \n",
       "2    01 February   2020-02-01                0                1   \n",
       "3    02 February   2020-02-02                1                2   \n",
       "4    03 February   2020-02-03                1                3   \n",
       "..            ...         ...              ...              ...   \n",
       "336  31 December   2020-12-31            19026         10286234   \n",
       "337   01 January   2021-01-01            20159         10306393   \n",
       "338   02 January   2021-01-02            18144         10324537   \n",
       "339   03 January   2021-01-03            16678         10341215   \n",
       "340   04 January   2021-01-04            16278         10357493   \n",
       "\n",
       "     Daily Recovered  Total Recovered  Daily Deceased  Total Deceased  \n",
       "0                  0                0               0               0  \n",
       "1                  0                0               0               0  \n",
       "2                  0                0               0               0  \n",
       "3                  0                0               0               0  \n",
       "4                  0                0               0               0  \n",
       "..               ...              ...             ...             ...  \n",
       "336            21969          9881565             244          148427  \n",
       "337            23838          9905403             237          148664  \n",
       "338            20903          9926306             216          148880  \n",
       "339            19658          9945964             215          149095  \n",
       "340            29209          9975173             200          149295  \n",
       "\n",
       "[341 rows x 8 columns]"
      ]
     },
     "execution_count": 4,
     "metadata": {},
     "output_type": "execute_result"
    }
   ],
   "source": [
    "# Display the data\n",
    "covid_df"
   ]
  },
  {
   "cell_type": "markdown",
   "metadata": {},
   "source": [
    "Here's what we can say about the data:\n",
    "    - The file provides 6 day-wise metrics for Covid 19 in India\n",
    "    - The metrics are: Daily Confirmed, Total Confirmed, Daily Recovered, Total Recovered, Daily Deceased and Total Deceased\n",
    "    - Data provided is for 341 days, from 30th January 2020 to 4th January 2021\n",
    "\n",
    "NOTE: These are officially provided numbers. Actual numbers may vary since not all cases are diagnosed / recorded"
   ]
  },
  {
   "cell_type": "code",
   "execution_count": 5,
   "metadata": {},
   "outputs": [
    {
     "name": "stdout",
     "output_type": "stream",
     "text": [
      "<class 'pandas.core.frame.DataFrame'>\n",
      "RangeIndex: 341 entries, 0 to 340\n",
      "Data columns (total 8 columns):\n",
      " #   Column           Non-Null Count  Dtype \n",
      "---  ------           --------------  ----- \n",
      " 0   Date             341 non-null    object\n",
      " 1   Date_YMD         341 non-null    object\n",
      " 2   Daily Confirmed  341 non-null    int64 \n",
      " 3   Total Confirmed  341 non-null    int64 \n",
      " 4   Daily Recovered  341 non-null    int64 \n",
      " 5   Total Recovered  341 non-null    int64 \n",
      " 6   Daily Deceased   341 non-null    int64 \n",
      " 7   Total Deceased   341 non-null    int64 \n",
      "dtypes: int64(6), object(2)\n",
      "memory usage: 21.4+ KB\n"
     ]
    }
   ],
   "source": [
    "# View basic information about the data frame\n",
    "covid_df.info()"
   ]
  },
  {
   "cell_type": "markdown",
   "metadata": {},
   "source": [
    "We see that each column contains values of a specific data type. Statistical information can be viewed for numerical columns\n",
    "(Mean, Standard Deviation, Min / Max Values, and number of null / empty values) using the 'describe' method"
   ]
  },
  {
   "cell_type": "code",
   "execution_count": 6,
   "metadata": {},
   "outputs": [
    {
     "data": {
      "text/html": [
       "<div>\n",
       "<style scoped>\n",
       "    .dataframe tbody tr th:only-of-type {\n",
       "        vertical-align: middle;\n",
       "    }\n",
       "\n",
       "    .dataframe tbody tr th {\n",
       "        vertical-align: top;\n",
       "    }\n",
       "\n",
       "    .dataframe thead th {\n",
       "        text-align: right;\n",
       "    }\n",
       "</style>\n",
       "<table border=\"1\" class=\"dataframe\">\n",
       "  <thead>\n",
       "    <tr style=\"text-align: right;\">\n",
       "      <th></th>\n",
       "      <th>Daily Confirmed</th>\n",
       "      <th>Total Confirmed</th>\n",
       "      <th>Daily Recovered</th>\n",
       "      <th>Total Recovered</th>\n",
       "      <th>Daily Deceased</th>\n",
       "      <th>Total Deceased</th>\n",
       "    </tr>\n",
       "  </thead>\n",
       "  <tbody>\n",
       "    <tr>\n",
       "      <th>count</th>\n",
       "      <td>341.000000</td>\n",
       "      <td>3.410000e+02</td>\n",
       "      <td>341.000000</td>\n",
       "      <td>3.410000e+02</td>\n",
       "      <td>341.000000</td>\n",
       "      <td>341.000000</td>\n",
       "    </tr>\n",
       "    <tr>\n",
       "      <th>mean</th>\n",
       "      <td>30373.879765</td>\n",
       "      <td>3.300570e+06</td>\n",
       "      <td>29252.706745</td>\n",
       "      <td>2.905230e+06</td>\n",
       "      <td>437.815249</td>\n",
       "      <td>51925.797654</td>\n",
       "    </tr>\n",
       "    <tr>\n",
       "      <th>std</th>\n",
       "      <td>29393.037881</td>\n",
       "      <td>3.791066e+06</td>\n",
       "      <td>29373.625649</td>\n",
       "      <td>3.556720e+06</td>\n",
       "      <td>383.847271</td>\n",
       "      <td>54722.137416</td>\n",
       "    </tr>\n",
       "    <tr>\n",
       "      <th>min</th>\n",
       "      <td>0.000000</td>\n",
       "      <td>1.000000e+00</td>\n",
       "      <td>0.000000</td>\n",
       "      <td>0.000000e+00</td>\n",
       "      <td>0.000000</td>\n",
       "      <td>0.000000</td>\n",
       "    </tr>\n",
       "    <tr>\n",
       "      <th>25%</th>\n",
       "      <td>1580.000000</td>\n",
       "      <td>2.444800e+04</td>\n",
       "      <td>580.000000</td>\n",
       "      <td>5.496000e+03</td>\n",
       "      <td>53.000000</td>\n",
       "      <td>781.000000</td>\n",
       "    </tr>\n",
       "    <tr>\n",
       "      <th>50%</th>\n",
       "      <td>22718.000000</td>\n",
       "      <td>1.077873e+06</td>\n",
       "      <td>20977.000000</td>\n",
       "      <td>6.776620e+05</td>\n",
       "      <td>394.000000</td>\n",
       "      <td>26830.000000</td>\n",
       "    </tr>\n",
       "    <tr>\n",
       "      <th>75%</th>\n",
       "      <td>50488.000000</td>\n",
       "      <td>7.119309e+06</td>\n",
       "      <td>54133.000000</td>\n",
       "      <td>6.146402e+06</td>\n",
       "      <td>710.000000</td>\n",
       "      <td>108598.000000</td>\n",
       "    </tr>\n",
       "    <tr>\n",
       "      <th>max</th>\n",
       "      <td>97860.000000</td>\n",
       "      <td>1.035749e+07</td>\n",
       "      <td>102070.000000</td>\n",
       "      <td>9.975173e+06</td>\n",
       "      <td>2004.000000</td>\n",
       "      <td>149295.000000</td>\n",
       "    </tr>\n",
       "  </tbody>\n",
       "</table>\n",
       "</div>"
      ],
      "text/plain": [
       "       Daily Confirmed  Total Confirmed  Daily Recovered  Total Recovered  \\\n",
       "count       341.000000     3.410000e+02       341.000000     3.410000e+02   \n",
       "mean      30373.879765     3.300570e+06     29252.706745     2.905230e+06   \n",
       "std       29393.037881     3.791066e+06     29373.625649     3.556720e+06   \n",
       "min           0.000000     1.000000e+00         0.000000     0.000000e+00   \n",
       "25%        1580.000000     2.444800e+04       580.000000     5.496000e+03   \n",
       "50%       22718.000000     1.077873e+06     20977.000000     6.776620e+05   \n",
       "75%       50488.000000     7.119309e+06     54133.000000     6.146402e+06   \n",
       "max       97860.000000     1.035749e+07    102070.000000     9.975173e+06   \n",
       "\n",
       "       Daily Deceased  Total Deceased  \n",
       "count      341.000000      341.000000  \n",
       "mean       437.815249    51925.797654  \n",
       "std        383.847271    54722.137416  \n",
       "min          0.000000        0.000000  \n",
       "25%         53.000000      781.000000  \n",
       "50%        394.000000    26830.000000  \n",
       "75%        710.000000   108598.000000  \n",
       "max       2004.000000   149295.000000  "
      ]
     },
     "execution_count": 6,
     "metadata": {},
     "output_type": "execute_result"
    }
   ],
   "source": [
    "covid_df.describe()"
   ]
  },
  {
   "cell_type": "markdown",
   "metadata": {},
   "source": [
    "We can view a list of all columns in the data frame"
   ]
  },
  {
   "cell_type": "code",
   "execution_count": 7,
   "metadata": {},
   "outputs": [
    {
     "data": {
      "text/plain": [
       "Index(['Date', 'Date_YMD', 'Daily Confirmed', 'Total Confirmed',\n",
       "       'Daily Recovered', 'Total Recovered', 'Daily Deceased',\n",
       "       'Total Deceased'],\n",
       "      dtype='object')"
      ]
     },
     "execution_count": 7,
     "metadata": {},
     "output_type": "execute_result"
    }
   ],
   "source": [
    "covid_df.columns"
   ]
  },
  {
   "cell_type": "markdown",
   "metadata": {},
   "source": [
    "The number of rows and columns can be viewed using the 'shape' method"
   ]
  },
  {
   "cell_type": "code",
   "execution_count": 8,
   "metadata": {},
   "outputs": [
    {
     "data": {
      "text/plain": [
       "(341, 8)"
      ]
     },
     "execution_count": 8,
     "metadata": {},
     "output_type": "execute_result"
    }
   ],
   "source": [
    "covid_df.shape"
   ]
  },
  {
   "cell_type": "markdown",
   "metadata": {},
   "source": [
    "Here's a summary of the methods and tools we have looked at so far:\n",
    "\n",
    "    - pd.read_csv(): reads data from a csv file into a pandas dataframe object\n",
    "    - .info(): gives basic information on rows, columns and data types\n",
    "    - .describe(): shows statistical information for numerical columns\n",
    "    - .columns: gives a list a columns\n",
    "    - .shape: gives the number of rows and columns \n"
   ]
  },
  {
   "cell_type": "code",
   "execution_count": null,
   "metadata": {},
   "outputs": [],
   "source": []
  }
 ],
 "metadata": {
  "kernelspec": {
   "display_name": "Python 3",
   "language": "python",
   "name": "python3"
  },
  "language_info": {
   "codemirror_mode": {
    "name": "ipython",
    "version": 3
   },
   "file_extension": ".py",
   "mimetype": "text/x-python",
   "name": "python",
   "nbconvert_exporter": "python",
   "pygments_lexer": "ipython3",
   "version": "3.7.6"
  }
 },
 "nbformat": 4,
 "nbformat_minor": 4
}
