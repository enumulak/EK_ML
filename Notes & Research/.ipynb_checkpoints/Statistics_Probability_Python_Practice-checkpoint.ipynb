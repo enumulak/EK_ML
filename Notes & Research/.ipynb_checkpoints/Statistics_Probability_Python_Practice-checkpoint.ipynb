{
 "cells": [
  {
   "cell_type": "markdown",
   "metadata": {},
   "source": [
    "## Statistics and Probability Refresher, Python Practice\n",
    "\n",
    "In this notebook, we will be going through a few concepts of statistics and probability that are important for a data scientist. We will also look at implementing those examples using python code"
   ]
  },
  {
   "cell_type": "markdown",
   "metadata": {},
   "source": [
    "### 1. Types of Data\n",
    "\n",
    "It is important to know what kind of data you are dealing with as a data scientist because different techniques may yield different results based on the kind of data being handled. For simplicity sake, there are broadly two types of data that we will focus on:\n",
    "\n",
    "1. Numerical Data (Quantitative)\n",
    "2. Categorical Data (Qualitative)\n",
    "\n",
    "**Numerical Data** is the most common type and represents a quantifiable value that can be measured. Examples are heights of people, page load times, stock prices, and so on. Numerical data can be further classified into two types:\n",
    "\n",
    "(a) Discrete: These are integer-based and mostly concerned with 'counting'. For example, the number of students in a class, number of items purchased by a customer and so on. Important to remember that discrete variables can hold only a limited number of values between a given range. So we cannot have a 8.5th student or a 3.45th item purchased by a customer\n",
    "\n",
    "(b) Continuous: These are real numbers and mostly concerned with a 'measurement'. For example, the height of a person could be 5 feet 10.43589 inches, or the number of seconds it takes for a web page to load could be between 1.56987654 to 2.222345987. Important to remember that a continuous variable can hold a huge number of possibilities between a given range. Continuous variables have high degree of precision as well\n"
   ]
  },
  {
   "cell_type": "markdown",
   "metadata": {},
   "source": [
    "**Categorical Data** is text-type data and has no inherent numerical meaning. Categorical values are usually used to label the qualitiative features of the data set. For example, gender, ethnicity, product category, and so on. Often, these categories could also be numerically-coded, for example gender can be represented by two values - 0 (male) and 1(female), but these numbers are merely representations of the categorical values, and thus have no inherent numerical or quantitative meaning. Categorical data can be further classified into two types:\n",
    "\n",
    "(a) Nominal: These are straightforward labels, like gender, name, etc. The values do not convey a sense of 'order', like in case of gender, male and female are equal and are used as labels for identification\n",
    "\n",
    "(b) Ordinal: These values represent some kind of order. For example, we could classify people based on their income with the labels 'low-income', 'middle-income' and 'high-income'. Here, we see that middle income is higher than low and high-income is higher than middle. Another common example would be product ratings - we may have categorical labels from 1 to 5, which represent specific labels such as poor, average, good, excellent and so on.. but the values themselves may have some mathematical meaning (we can compute average rating) and also convey an order (5 is highest, 1 is lowest)"
   ]
  },
  {
   "cell_type": "markdown",
   "metadata": {},
   "source": [
    "### 2. Mean, Median and Mode\n",
    "\n",
    "The **Mean** is another name for average. To calculate the mean of a datset, all we have to do is sum all numerical values and divide it by the total number of values. For example - consider the number of children in 9 houses of a district:\n",
    "\n",
    "0, 2, 3, 2, 1, 0, 0, 2, 0\n",
    "\n",
    "The mean would be = (0 + 2 + 3 + 2 + 1 + 0 + 0 + 2 + 0)/9 = 1.11\n",
    "\n",
    "The **Median** is a little different. To calculate the median, the data set is first sorted (ascending or descending), and then taking the middle value in case the number of total values are odd, or taking the average of the two middle values if total number of values are even. Consider the values we saw above:\n",
    "\n",
    "0, 2, 3, 2, 1, 0, 0, 2, 0\n",
    "\n",
    "sorting the values in ascending order gives us:\n",
    "\n",
    "0, 0, 0, 0, 1, 2, 2, 2, 3\n",
    "\n",
    "and the median thus would be 1\n",
    "\n",
    "if our dataset had even number of values:\n",
    "\n",
    "0, 0, 0, 0, 1, 2, 2, 2, 3, 4\n",
    "\n",
    "then the median would be (1+2)/2 = 1.5 (note in this case, the median does not necessarily have to belong to the dataset)\n",
    "\n",
    "**Outliers:** Considering the above dataset, we observe that mean and median are quite close to each other since we do not have any wacky values in the dataset. For example, there is no household with 100 kids. This large value would have affected the mean, but not the median. This is one reason why the median is a useful thing to look at, but is often overlooked\n",
    "\n",
    "Another example is when we consider the average household income of a country. Some super-rich people that live in specfic areas can skew the mean income, but since the number of such people is less compared to the majority of the population, the median household income is not affected. This is a good example where the median can tell a much better story about how much the typical person earns than the mean does. Whenever someone talks about the mean, we have to think about the data distribution. Are there outliers that might be skewing the mean? And if the answer is potentially yes, then the median should also be looked at, as it could provide more insight that the mean or average\n",
    "\n",
    "Finally, let's talk about the **Mode**. Mode is nothing but the most frequently occuring value in the dataset. From our dataset above, the mode is 0, since it is the value that occurs the most number of times. Important to note that mode is relevant for discrete data. For continuous data, there may not really be a mode, unless the data is somehow scaled to discrete values. "
   ]
  },
  {
   "cell_type": "markdown",
   "metadata": {},
   "source": [
    "Let's now start doing some real coding in Python and see how we can compute the mean, median and mode"
   ]
  },
  {
   "cell_type": "code",
   "execution_count": 1,
   "metadata": {},
   "outputs": [],
   "source": [
    "# Import the numpy library\n",
    "import numpy as np"
   ]
  },
  {
   "cell_type": "code",
   "execution_count": 4,
   "metadata": {},
   "outputs": [
    {
     "data": {
      "text/plain": [
       "array([31864.27205904, 43688.54367105, 21706.84410647, ...,\n",
       "       51392.83242155, 49732.5671603 , 15607.2762004 ])"
      ]
     },
     "execution_count": 4,
     "metadata": {},
     "output_type": "execute_result"
    }
   ],
   "source": [
    "# Create a list of numbers called 'Incomes' (data centered around 27000, standard deviation of 15000 and 10000 records)\n",
    "incomes = np.random.normal(27000, 15000, 10000)\n",
    "incomes"
   ]
  },
  {
   "cell_type": "code",
   "execution_count": 5,
   "metadata": {},
   "outputs": [
    {
     "name": "stdout",
     "output_type": "stream",
     "text": [
      "27206.46000230277\n"
     ]
    }
   ],
   "source": [
    "# Calculate the mean\n",
    "print(np.mean(incomes))"
   ]
  },
  {
   "cell_type": "markdown",
   "metadata": {},
   "source": [
    "Visualizing data with Matplotlib"
   ]
  },
  {
   "cell_type": "code",
   "execution_count": 9,
   "metadata": {},
   "outputs": [],
   "source": [
    "import matplotlib.pyplot as plt\n",
    "import seaborn as sns\n",
    "%matplotlib inline"
   ]
  },
  {
   "cell_type": "code",
   "execution_count": 8,
   "metadata": {},
   "outputs": [
    {
     "data": {
      "image/png": "[encoded data removed]",
      "text/plain": [
       "<Figure size 432x288 with 1 Axes>"
      ]
     },
     "metadata": {
      "needs_background": "light"
     },
     "output_type": "display_data"
    }
   ],
   "source": [
    "# Show a histogram of our income data, with 50 bins\n",
    "plt.hist(incomes, 50)\n",
    "plt.show()"
   ]
  },
  {
   "cell_type": "code",
   "execution_count": 13,
   "metadata": {},
   "outputs": [
    {
     "data": {
      "image/png": "[encoded data removed]",
      "text/plain": [
       "<Figure size 432x288 with 1 Axes>"
      ]
     },
     "metadata": {
      "needs_background": "light"
     },
     "output_type": "display_data"
    }
   ],
   "source": [
    "# Visualize the distribution with seaborn\n",
    "sns.distplot(incomes);"
   ]
  },
  {
   "cell_type": "code",
   "execution_count": 14,
   "metadata": {},
   "outputs": [
    {
     "name": "stdout",
     "output_type": "stream",
     "text": [
      "27115.71061397787\n"
     ]
    }
   ],
   "source": [
    "# Calculate the median of the dataset\n",
    "print(np.median(incomes))"
   ]
  },
  {
   "cell_type": "markdown",
   "metadata": {},
   "source": [
    "The mean and median are quite close to each other since we do not have outliers in our data"
   ]
  },
  {
   "cell_type": "markdown",
   "metadata": {},
   "source": [
    "Let's add an outlier to our dataset - income of a super rich individual"
   ]
  },
  {
   "cell_type": "code",
   "execution_count": 15,
   "metadata": {},
   "outputs": [],
   "source": [
    "incomes = np.append(incomes, 20000000000)"
   ]
  },
  {
   "cell_type": "code",
   "execution_count": 16,
   "metadata": {},
   "outputs": [
    {
     "name": "stdout",
     "output_type": "stream",
     "text": [
      "27124.152244919944\n"
     ]
    }
   ],
   "source": [
    "# Now calculate the median\n",
    "print(np.median(incomes))"
   ]
  },
  {
   "cell_type": "code",
   "execution_count": 17,
   "metadata": {},
   "outputs": [
    {
     "name": "stdout",
     "output_type": "stream",
     "text": [
      "2027003.75962634\n"
     ]
    }
   ],
   "source": [
    "# The median did not change at all!!\n",
    "# Calculate the mean\n",
    "print(np.mean(incomes))"
   ]
  },
  {
   "cell_type": "markdown",
   "metadata": {},
   "source": [
    "And we see a significant shift in the mean of our dataset, just by introducing one outlier. If we were drawing conclusions from our data based on the mean only, then what would our thoughts be?"
   ]
  },
  {
   "cell_type": "markdown",
   "metadata": {},
   "source": [
    "### 3. Standard Deviation and Variance\n",
    "\n",
    "Variance is a measure of how much each value in a dataset varies from a central value, usually the mean. The variance is generally referred to as sigma squared, and is also known as the average of the squared differences from the mean\n",
    "\n",
    "1. To compute the variance of a dataset, we first compute the mean\n",
    "2. Next step would be to compute the differences from the mean for each data point\n",
    "\n",
    "for example, consider the following data:\n",
    "\n",
    "1, 4, 5, 4, 8 \n",
    "\n",
    "mean = (1 + 4 + 5 + 4 + 8) / 5 = 4.4\n",
    "\n",
    "Now compute the difference from the mean for each data point:\n",
    "1 - 4.4 = -3.4\n",
    "\n",
    "4 - 4.4 = -0.4\n",
    "\n",
    "5 - 4.4 = 0.6\n",
    "\n",
    "4 - 4.4 = -0.4\n",
    "\n",
    "8 - 4.4 = 3.6\n",
    "\n",
    "3. Now we need a single number that represents the variance of the entire dataset. For this, we will square each of those above differences (we sqaure because we want to consider the negative variances also, otherwise they will cancel each other)\n",
    "\n",
    "(-3.4)^2 = 11.56\n",
    "\n",
    "(-0.4)^2 = 0.16\n",
    "\n",
    "(0.6)^2 = 0.36\n",
    "\n",
    "(-0.4)^2 = 0.16\n",
    "\n",
    "(3.6)^2 = 12.96\n",
    "\n",
    "To find the actual variance, we add all those above numbers and divide by 5:\n",
    "(11.56 + 0.16 + 0.36 + 0.16 + 12.96) / 5 = **5.04**"
   ]
  },
  {
   "cell_type": "markdown",
   "metadata": {},
   "source": [
    "The **Standard Deviation** is the square root of the Variance. Why square root? Well, we square the differences when computing the variance and this also 'squares' the units of those values. For example, if our dataset above represented income in rupees, then the unit for variance will be rupees squared, which is not comprehensible. So, the square root of the variance will give us back a value with unit 'rupee' and this value represents the standard deviation\n",
    "\n",
    "For our above variance of 5.04, the standard deviation would be 2.24"
   ]
  },
  {
   "cell_type": "markdown",
   "metadata": {},
   "source": [
    "**Population Variance vs Sample Variance**\n",
    "There is a little nuance to understand when it comes to computing standard deviation and variance. If the dataset being studied is 'population' data, then computing variance will be the same as seen above. However, if the data being studied has been sampled from a population, then we divide with the number of samples minus 1. So, if our dataset above was a sample, then variance would be calculated as follows:\n",
    "\n",
    "(11.56 + 0.16 + 0.36 + 0.16 + 12.96) / 4 = **6.3**"
   ]
  },
  {
   "cell_type": "code",
   "execution_count": 29,
   "metadata": {},
   "outputs": [],
   "source": [
    "# Let's do some visualisations\n",
    "incomes = np.random.normal(100.0, 20.0, 10000)"
   ]
  },
  {
   "cell_type": "code",
   "execution_count": 30,
   "metadata": {},
   "outputs": [
    {
     "data": {
      "image/png": "[encoded data removed]",
      "text/plain": [
       "<Figure size 432x288 with 1 Axes>"
      ]
     },
     "metadata": {
      "needs_background": "light"
     },
     "output_type": "display_data"
    }
   ],
   "source": [
    "plt.hist(incomes, 50)\n",
    "plt.show()"
   ]
  },
  {
   "cell_type": "code",
   "execution_count": 31,
   "metadata": {},
   "outputs": [
    {
     "name": "stdout",
     "output_type": "stream",
     "text": [
      "20.16360666425805\n"
     ]
    }
   ],
   "source": [
    "# Calculate the standard deviation \n",
    "print(incomes.std())"
   ]
  },
  {
   "cell_type": "code",
   "execution_count": 32,
   "metadata": {},
   "outputs": [
    {
     "name": "stdout",
     "output_type": "stream",
     "text": [
      "406.57103371091165\n"
     ]
    }
   ],
   "source": [
    "# calculate the variance\n",
    "print(incomes.var())"
   ]
  },
  {
   "cell_type": "code",
   "execution_count": null,
   "metadata": {},
   "outputs": [],
   "source": []
  }
 ],
 "metadata": {
  "kernelspec": {
   "display_name": "Python 3",
   "language": "python",
   "name": "python3"
  },
  "language_info": {
   "codemirror_mode": {
    "name": "ipython",
    "version": 3
   },
   "file_extension": ".py",
   "mimetype": "text/x-python",
   "name": "python",
   "nbconvert_exporter": "python",
   "pygments_lexer": "ipython3",
   "version": "3.7.6"
  }
 },
 "nbformat": 4,
 "nbformat_minor": 4
}
